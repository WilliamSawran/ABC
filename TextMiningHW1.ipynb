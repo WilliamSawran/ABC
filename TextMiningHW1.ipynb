{
  "nbformat": 4,
  "nbformat_minor": 0,
  "metadata": {
    "colab": {
      "name": "TextMiningHW1.ipynb",
      "provenance": [],
      "collapsed_sections": [],
      "toc_visible": true,
      "authorship_tag": "ABX9TyM1G6xl7e6SmYMMrZf4MaWm",
      "include_colab_link": true
    },
    "kernelspec": {
      "name": "python3",
      "display_name": "Python 3"
    },
    "language_info": {
      "name": "python"
    }
  },
  "cells": [
    {
      "cell_type": "markdown",
      "metadata": {
        "id": "view-in-github",
        "colab_type": "text"
      },
      "source": [
        "<a href=\"https://colab.research.google.com/github/WilliamSawran/ABC/blob/master/TextMiningHW1.ipynb\" target=\"_parent\"><img src=\"https://colab.research.google.com/assets/colab-badge.svg\" alt=\"Open In Colab\"/></a>"
      ]
    },
    {
      "cell_type": "code",
      "metadata": {
        "colab": {
          "base_uri": "https://localhost:8080/"
        },
        "id": "caY120_tSlg4",
        "outputId": "265bf83f-a766-4596-d299-619686adcb12"
      },
      "source": [
        "from google.colab import drive\n",
        "drive.mount('/content/drive')"
      ],
      "execution_count": 30,
      "outputs": [
        {
          "output_type": "stream",
          "name": "stdout",
          "text": [
            "Drive already mounted at /content/drive; to attempt to forcibly remount, call drive.mount(\"/content/drive\", force_remount=True).\n"
          ]
        }
      ]
    },
    {
      "cell_type": "code",
      "metadata": {
        "colab": {
          "base_uri": "https://localhost:8080/"
        },
        "id": "h7d4bxiDfCs4",
        "outputId": "b71e1c7d-eb19-4c45-d7dd-3d7d1afd644c"
      },
      "source": [
        "!ls /content/drive/'My Drive'/"
      ],
      "execution_count": 31,
      "outputs": [
        {
          "output_type": "stream",
          "name": "stdout",
          "text": [
            "'Advent Preparation Booklet.docx'   negative.review\n",
            "'Advent Preparation Booklet.gdoc'   positive.review\n",
            "'Colab Notebooks'\t\t    __pycache__\n",
            "'Google Photos'\t\t\t    run_classifier.py\n",
            " linear_classifier.py\t\t    sentiment_reader.py\n",
            " multinomial_naive_bayes.py\t   'shower video.zip'\n"
          ]
        }
      ]
    },
    {
      "cell_type": "code",
      "metadata": {
        "colab": {
          "base_uri": "https://localhost:8080/"
        },
        "id": "Ic910DrZfjLT",
        "outputId": "6fc07198-7cd1-4de3-e544-d1483369210f"
      },
      "source": [
        "import sys\n",
        "import os\n",
        "\n",
        "py_file_location = \"/content/drive/'My Drive'/\"\n",
        "%cd /content/drive/'My Drive'/\n"
      ],
      "execution_count": 32,
      "outputs": [
        {
          "output_type": "stream",
          "name": "stdout",
          "text": [
            "/content/drive/My Drive\n"
          ]
        }
      ]
    },
    {
      "cell_type": "code",
      "metadata": {
        "colab": {
          "base_uri": "https://localhost:8080/"
        },
        "id": "cIxR83aEgSXK",
        "outputId": "3299ced7-cb96-490d-8f5d-d5dc597696a4"
      },
      "source": [
        "!ls"
      ],
      "execution_count": 33,
      "outputs": [
        {
          "output_type": "stream",
          "name": "stdout",
          "text": [
            "'Advent Preparation Booklet.docx'   negative.review\n",
            "'Advent Preparation Booklet.gdoc'   positive.review\n",
            "'Colab Notebooks'\t\t    __pycache__\n",
            "'Google Photos'\t\t\t    run_classifier.py\n",
            " linear_classifier.py\t\t    sentiment_reader.py\n",
            " multinomial_naive_bayes.py\t   'shower video.zip'\n"
          ]
        }
      ]
    },
    {
      "cell_type": "markdown",
      "metadata": {
        "id": "oUvivGDeeuXM"
      },
      "source": [
        "# Naive Bayes Algorithm Results on the dataset with a train/test split of 80%/20%."
      ]
    },
    {
      "cell_type": "code",
      "metadata": {
        "colab": {
          "base_uri": "https://localhost:8080/"
        },
        "id": "eAuv_RdhgVGi",
        "outputId": "54e2a6d3-8585-4164-f680-0379e1c4414d"
      },
      "source": [
        "!python run_classifier.py"
      ],
      "execution_count": 34,
      "outputs": [
        {
          "output_type": "stream",
          "name": "stdout",
          "text": [
            "Accuracy on training set: 0.972500, on test set: 0.835000\n"
          ]
        }
      ]
    },
    {
      "cell_type": "markdown",
      "metadata": {
        "id": "mX44hPiIgM2y"
      },
      "source": [
        "# Naive Bayes Algorithm Results on the dataset with a train/test split of 50%/50%."
      ]
    },
    {
      "cell_type": "code",
      "metadata": {
        "colab": {
          "base_uri": "https://localhost:8080/"
        },
        "id": "5IuZbGDrgUqj",
        "outputId": "6a20fb70-7e10-4bb9-d44e-d9374e2457d1"
      },
      "source": [
        "!python run_classifier.py"
      ],
      "execution_count": 35,
      "outputs": [
        {
          "output_type": "stream",
          "name": "stdout",
          "text": [
            "Accuracy on training set: 0.972500, on test set: 0.835000\n"
          ]
        }
      ]
    }
  ]
}