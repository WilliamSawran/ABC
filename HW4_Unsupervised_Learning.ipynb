{
  "nbformat": 4,
  "nbformat_minor": 0,
  "metadata": {
    "colab": {
      "name": "HW4-Unsupervised_Learning.ipynb",
      "provenance": [],
      "collapsed_sections": [],
      "authorship_tag": "ABX9TyOBJFx/H40PIb65bPwP6ypl",
      "include_colab_link": true
    },
    "kernelspec": {
      "name": "python3",
      "display_name": "Python 3"
    }
  },
  "cells": [
    {
      "cell_type": "markdown",
      "metadata": {
        "id": "view-in-github",
        "colab_type": "text"
      },
      "source": [
        "<a href=\"https://colab.research.google.com/github/WilliamSawran/ABC/blob/master/HW4_Unsupervised_Learning.ipynb\" target=\"_parent\"><img src=\"https://colab.research.google.com/assets/colab-badge.svg\" alt=\"Open In Colab\"/></a>"
      ]
    },
    {
      "cell_type": "markdown",
      "metadata": {
        "id": "unXW31Yf7nNK"
      },
      "source": [
        "<!DOCTYPE html>\n",
        "<html>\n",
        "<body>\n",
        "\n",
        "**<h2>Task 1 K-Means Clustering Algorithm, Manhattan Distance, Euclidean Distance, Centroids of Clusters: </h2>**\n",
        "\n",
        "**<p>Suppose we have 10 college football teams X1 to X10. We want to cluster them into 2 groups. For each football team, we have two features: One is # wins in Season 2016, and the other is # wins in Season 2017.</p>**\n",
        "\n",
        "**<h3>(1)  Initialize with two centroids, (4, 6) and (5, 4). Use Manhattan distance as the distance metric.First, perform one iteration of the K-means algorithm and report the coordinates of the resulting centroids. Second, please use K-Means to find two clusters.</h3>**\n",
        "\n",
        "**<h3>(2) Initialize with two centroids, (4, 6) and (5, 4). Use Euclidean distance as the distance metric.  First, perform one iteration of the K-means algorithm and report the coordinates of the resulting centroids. Second, please use K-Means to find two clusters.</h3>**\n",
        "\n",
        "**<h3>(3) Initialize with two centroids, (3, 3) and (8, 3). Use Manhattan distance as the distance metric.  First, perform one iteration of the K-means algorithm and report the coordinates of the resulting centroids. Second, please use K-Means to find two clusters.</h3>**\n",
        "\n",
        "**<h3>(4) Initialize with two centroids, (3, 2) and (4, 8). Use Manhattan distance as the distance metric. First, perform one iteration of the K-means algorithm and report the coordinates of the resulting centroids. Second, please use K-Means to find two clusters.</h3>**\n",
        "\n",
        "</body>\n",
        "</html>"
      ]
    },
    {
      "cell_type": "code",
      "metadata": {
        "id": "GgPM7JM2B0yY",
        "cellView": "form"
      },
      "source": [
        "#@title Import libraries\n",
        "import numpy as np\n",
        "import pandas as pd\n",
        "from sklearn.cluster import KMeans\n",
        "import seaborn as sns\n",
        "import matplotlib.pyplot as plt\n",
        "from sklearn.metrics import pairwise_distances\n",
        "from scipy.spatial import distance\n",
        "from scipy.spatial.distance import jaccard\n",
        "%matplotlib inline"
      ],
      "execution_count": 136,
      "outputs": []
    },
    {
      "cell_type": "code",
      "metadata": {
        "id": "bbWe0P0U_7LR",
        "colab": {
          "base_uri": "https://localhost:8080/",
          "height": 424
        },
        "cellView": "form",
        "outputId": "51b0ff46-2844-47b2-e7df-6e34022e82b5"
      },
      "source": [
        "#@title Create & print data points\n",
        "\n",
        "# Print multiple objects to screen in same shell \n",
        "from IPython.core.interactiveshell import InteractiveShell\n",
        "InteractiveShell.ast_node_interactivity = \"all\"\n",
        "\n",
        "data = {'# wins in Season 2016': [3, 3, 2, 2, 6, 6, 7, 7, 8, 7], '# wins in Season 2017': [5, 4, 8, 3, 2, 4, 3, 4, 5, 6]}\n",
        "df = pd.DataFrame(data=data, index=['x1', 'x2', 'x3', 'x4', 'x5', 'x6', 'x7', 'x8', 'x9', 'x10'])\n",
        "df.index.name = 'Team'\n",
        "\n",
        "data = np.array([[3, 5],\n",
        "              [3, 4],\n",
        "              [2, 8 ],\n",
        "              [2, 3],\n",
        "              [6, 2],\n",
        "              [6, 4],\n",
        "              [7, 3],\n",
        "              [7, 4],\n",
        "              [8, 5],\n",
        "              [7, 6]])\n",
        "\n",
        "# Show df\n",
        "df\n",
        "print()\n",
        "\n",
        "# Show df shape\n",
        "df.shape"
      ],
      "execution_count": 137,
      "outputs": [
        {
          "output_type": "execute_result",
          "data": {
            "text/html": [
              "<div>\n",
              "<style scoped>\n",
              "    .dataframe tbody tr th:only-of-type {\n",
              "        vertical-align: middle;\n",
              "    }\n",
              "\n",
              "    .dataframe tbody tr th {\n",
              "        vertical-align: top;\n",
              "    }\n",
              "\n",
              "    .dataframe thead th {\n",
              "        text-align: right;\n",
              "    }\n",
              "</style>\n",
              "<table border=\"1\" class=\"dataframe\">\n",
              "  <thead>\n",
              "    <tr style=\"text-align: right;\">\n",
              "      <th></th>\n",
              "      <th># wins in Season 2016</th>\n",
              "      <th># wins in Season 2017</th>\n",
              "    </tr>\n",
              "    <tr>\n",
              "      <th>Team</th>\n",
              "      <th></th>\n",
              "      <th></th>\n",
              "    </tr>\n",
              "  </thead>\n",
              "  <tbody>\n",
              "    <tr>\n",
              "      <th>x1</th>\n",
              "      <td>3</td>\n",
              "      <td>5</td>\n",
              "    </tr>\n",
              "    <tr>\n",
              "      <th>x2</th>\n",
              "      <td>3</td>\n",
              "      <td>4</td>\n",
              "    </tr>\n",
              "    <tr>\n",
              "      <th>x3</th>\n",
              "      <td>2</td>\n",
              "      <td>8</td>\n",
              "    </tr>\n",
              "    <tr>\n",
              "      <th>x4</th>\n",
              "      <td>2</td>\n",
              "      <td>3</td>\n",
              "    </tr>\n",
              "    <tr>\n",
              "      <th>x5</th>\n",
              "      <td>6</td>\n",
              "      <td>2</td>\n",
              "    </tr>\n",
              "    <tr>\n",
              "      <th>x6</th>\n",
              "      <td>6</td>\n",
              "      <td>4</td>\n",
              "    </tr>\n",
              "    <tr>\n",
              "      <th>x7</th>\n",
              "      <td>7</td>\n",
              "      <td>3</td>\n",
              "    </tr>\n",
              "    <tr>\n",
              "      <th>x8</th>\n",
              "      <td>7</td>\n",
              "      <td>4</td>\n",
              "    </tr>\n",
              "    <tr>\n",
              "      <th>x9</th>\n",
              "      <td>8</td>\n",
              "      <td>5</td>\n",
              "    </tr>\n",
              "    <tr>\n",
              "      <th>x10</th>\n",
              "      <td>7</td>\n",
              "      <td>6</td>\n",
              "    </tr>\n",
              "  </tbody>\n",
              "</table>\n",
              "</div>"
            ],
            "text/plain": [
              "      # wins in Season 2016  # wins in Season 2017\n",
              "Team                                              \n",
              "x1                        3                      5\n",
              "x2                        3                      4\n",
              "x3                        2                      8\n",
              "x4                        2                      3\n",
              "x5                        6                      2\n",
              "x6                        6                      4\n",
              "x7                        7                      3\n",
              "x8                        7                      4\n",
              "x9                        8                      5\n",
              "x10                       7                      6"
            ]
          },
          "metadata": {
            "tags": []
          },
          "execution_count": 137
        },
        {
          "output_type": "stream",
          "text": [
            "\n"
          ],
          "name": "stdout"
        },
        {
          "output_type": "execute_result",
          "data": {
            "text/plain": [
              "(10, 2)"
            ]
          },
          "metadata": {
            "tags": []
          },
          "execution_count": 137
        }
      ]
    },
    {
      "cell_type": "code",
      "metadata": {
        "id": "9KDassIpWsnc",
        "colab": {
          "base_uri": "https://localhost:8080/",
          "height": 317
        },
        "cellView": "form",
        "outputId": "b1f755e4-4620-411f-c5b0-73202bfbdeda"
      },
      "source": [
        "#@title Create & print data points\n",
        "\n",
        "print(\"Teams Based on Wins in Season 16 & 17\\n\")\n",
        "\n",
        "# scatter plot\n",
        "plt.scatter(df['# wins in Season 2016'].values, df['# wins in Season 2017'].values, s = 50)\n",
        "\n",
        "# zip joins x and y coordinates in pairs\n",
        "for label,x,y in zip(df.index, df['# wins in Season 2016'].values,df['# wins in Season 2017'].values):\n",
        "\n",
        "    plt.annotate(label, # this is the text\n",
        "                 (x,y), # this is the point to label\n",
        "                 textcoords=\"offset points\", # how to position the text\n",
        "                 xytext=(0,10), # distance from text to points (x,y)\n",
        "                 ha='center') # horizontal alignment can be left, right or center\n",
        "\n",
        "plt.ylim(0, 10)\n",
        "plt.xlim(0, 10)\n",
        "plt.gca().set_aspect('equal')\n",
        "plt.xlabel('# wins in Season 2016')\n",
        "plt.ylabel('# wins in Season 2017')\n",
        "plt.show();"
      ],
      "execution_count": 138,
      "outputs": [
        {
          "output_type": "stream",
          "text": [
            "Teams Based on Wins in Season 16 & 17\n",
            "\n"
          ],
          "name": "stdout"
        },
        {
          "output_type": "display_data",
          "data": {
            "image/png": "[encoded data removed]",
            "text/plain": [
              "<Figure size 432x288 with 1 Axes>"
            ]
          },
          "metadata": {
            "tags": [],
            "needs_background": "light"
          }
        }
      ]
    },
    {
      "cell_type": "code",
      "metadata": {
        "id": "jpESrKiiEcjH",
        "colab": {
          "base_uri": "https://localhost:8080/",
          "height": 69
        },
        "cellView": "form",
        "outputId": "9a4a7ee9-026a-4ed9-aa3e-7c352954b379"
      },
      "source": [
        "#@title Implement K-Means Algorithm\n",
        "\n",
        "# First, let's build our K Means class\n",
        "class K_Means:\n",
        "    def __init__(self, k=2, distance_metric='euclidean', tolerance=0.001, max_iterations=300, seed = None, centroid_initializations = None):\n",
        "        self.k = k                              # k is the number of centroids/clusters\n",
        "        self.distance_metric = distance_metric  # distance_metric calculates distances of the features to the current centroids\n",
        "        self.tolerance = tolerance              # tolerance allows us to say we're optimized if the centroid is not moving more than the tolerance value\n",
        "        self.max_iterations = max_iterations    # max_iterations is the number of cycles/iterations the algorithm is going to run\n",
        "        self.seed = seed\n",
        "        self.centroid_initializations = centroid_initializations # centroid_initializations contains the locations to which the centroids will be initialized\n",
        "        self.centroids = []\n",
        "    \n",
        "    def fit(self,data):                                     # It is here in the fit function where the data will be passed\n",
        "\n",
        "        n_row, n_col = data.shape                              # Get dimensions of the data\n",
        "        #print('number of rows = '.format(n_row))\n",
        "        #df['tuples'] = df[['# wins in Season 2016','# wins in Season 2017']].apply(tuple, axis=1)\n",
        "\n",
        "        if self.centroid_initializations is not None: \n",
        "            for i in range(self.k):\n",
        "                self.centroids.append(self.centroid_initializations[i]) # Assign starting centroids to be the locations in self.centroid_initializations\n",
        "        elif self.seed is not None: \n",
        "            np.random.seed(self.seed) # randomly choose k data points as initial centroids\n",
        "            rand_indices = np.random.choice(n_row, size = self.k)\n",
        "            for i, rand_index in enumerate(rand_indices):\n",
        "                #print (i, rand_index)\n",
        "                self.centroids.append(data[rand_index]) # Create empty dictionary to store the k centroidsprint(centroids)\n",
        "                #print(self.centroids)\n",
        "        else:\n",
        "            rand_indices = np.random.choice(n_row, size = self.k)\n",
        "            for i, rand_index in enumerate(rand_indices):\n",
        "                #print (i, rand_index)\n",
        "                self.centroids.append(data[rand_index]) # Create empty dictionary to store the k centroidsprint(centroids)\n",
        "                #print(self.centroids)\n",
        "\n",
        "\n",
        "        for i in range(self.max_iterations):  # Iterate through all max iterations\n",
        "                #if(i % 50 == 0 ):\n",
        "                    #print(i)\n",
        "                distances_to_centroids = pairwise_distances(data, self.centroids, metric = self.distance_metric) # Calculate distances of the features to the current centroids\n",
        "                cluster_assignment = np.argmin(distances_to_centroids, axis = 1)   # Classify them                                   \n",
        "                new_centroids = np.array([data[cluster_assignment == i].mean(axis = 0) for i in range(self.k)])\n",
        "                #print(new_centroids)\n",
        "                # if the updated centroid is still the same, then the algorithm has converged\n",
        "                if np.all(self.centroids == new_centroids):\n",
        "                    break\n",
        "                self.centroids = new_centroids\n",
        "          \n",
        "        #SSE = computeSSE(data, cluster_assignment)\n",
        "\n",
        "        return self.centroids, cluster_assignment\n",
        "\n",
        "    def predict(self,data):\n",
        "        distances = distances_to_centroids = pairwise_distances(data, centroids, metric = 'euclidean')\n",
        "        classification = distances.index(min(distances))\n",
        "        return classification\n",
        "\"\"\"\n",
        "    def euclidean(instance1, instance2):\n",
        "        if instance1 == None or instance2 == None:\n",
        "            return float(\"inf\")\n",
        "        sumOfSquares = 0\n",
        "        for i in range(1, len(instance1)):\n",
        "            sumOfSquares += (instance1[i] - instance2[i])**2\n",
        "        return sqrt(sumOfSquares)\n",
        "    \n",
        "    def jaccard(instance1, instance2):\n",
        "        if instance1 == None or instance2 == None:\n",
        "            return float(\"inf\")\n",
        "        intersection = set(instance1).intersection(instance2)\n",
        "        union = set().union(instance1, instance2)\n",
        "        return 1 - (len(intersection) / len(union))\n",
        "\"\"\"\n",
        "\n",
        "def computeSSE(data, cluster_assignment, centroids):\n",
        "    sse = 0.0\n",
        "    for i in range(len(data)):\n",
        "        dst0 = distance.euclidean(centroids[0], data[i])\n",
        "        dst1 = distance.euclidean(centroids[1], data[i])\n",
        "        dst2 = distance.euclidean(centroids[2], data[i])\n",
        "        dst_to_closest_centroid_squared = (min(dst0, dst1, dst2))**2\n",
        "        sse += dst_to_closest_centroid_squared\n",
        "    return sse"
      ],
      "execution_count": 139,
      "outputs": [
        {
          "output_type": "execute_result",
          "data": {
            "application/vnd.google.colaboratory.intrinsic+json": {
              "type": "string"
            },
            "text/plain": [
              "'\\n    def euclidean(instance1, instance2):\\n        if instance1 == None or instance2 == None:\\n            return float(\"inf\")\\n        sumOfSquares = 0\\n        for i in range(1, len(instance1)):\\n            sumOfSquares += (instance1[i] - instance2[i])**2\\n        return sqrt(sumOfSquares)\\n    \\n    def jaccard(instance1, instance2):\\n        if instance1 == None or instance2 == None:\\n            return float(\"inf\")\\n        intersection = set(instance1).intersection(instance2)\\n        union = set().union(instance1, instance2)\\n        return 1 - (len(intersection) / len(union))\\n'"
            ]
          },
          "metadata": {
            "tags": []
          },
          "execution_count": 139
        }
      ]
    },
    {
      "cell_type": "markdown",
      "metadata": {
        "id": "3gzETmhhuqOt"
      },
      "source": [
        "<!DOCTYPE html>\n",
        "<html>\n",
        "<body>\n",
        "\n",
        "**<h3>(1)  Initialize with two centroids, (4, 6) and (5, 4). Use Manhattan distance as the distance metric.First, perform one iteration of the K-means algorithm and report the coordinates of the resulting centroids. Second, please use K-Means to find two clusters.</h3>**\n",
        "\n",
        "</body>\n",
        "</html>"
      ]
    },
    {
      "cell_type": "code",
      "metadata": {
        "id": "Kdn4wz7TZceT",
        "colab": {
          "base_uri": "https://localhost:8080/"
        },
        "cellView": "form",
        "outputId": "1eec7c4f-566f-4f24-f02f-4fcaba632ad3"
      },
      "source": [
        "#@title Initialize with two centroids, (4, 6) and (5, 4). Use Manhattan distance as the distance metric. First, perform one iteration of the K-means algorithm and report the coordinates of the resulting centroids\n",
        "# Specify model parameters\n",
        "distance_metric = 'manhattan'\n",
        "max_iterations = 1\n",
        "centroid_initializations = [[4, 6], [5, 4]]\n",
        "\n",
        "# Peform K-Means algorithm on data with specified parameters\n",
        "clf = K_Means(k=2, distance_metric=distance_metric, tolerance=0.001, max_iterations=max_iterations, seed=None, centroid_initializations = centroid_initializations)\n",
        "centroids, cluster_assignment = clf.fit(data)\n",
        "\n",
        "# Print coordinates of the resulting centroids\n",
        "print(\"Coordinates of the Centroids After {max_iterations} Iteration of the K-Means Algorithm Using K = 2, {distance_metric} distance and centroid initializations: {centroid_initializations}:\".format(max_iterations=max_iterations, distance_metric = distance_metric, centroid_initializations = centroid_initializations))\n",
        "centroids_df = pd.DataFrame(data=centroids, index=['Centroid #1', 'Centroid #2']) \n",
        "centroids_df.columns =['# wins in Season 2016', '# wins in Season 2017']\n",
        "print(\"\")\n",
        "print(centroids_df.round(0).astype(int))"
      ],
      "execution_count": 140,
      "outputs": [
        {
          "output_type": "stream",
          "text": [
            "Coordinates of the Centroids After 1 Iteration of the K-Means Algorithm Using K = 2, manhattan distance and centroid initializations: [[4, 6], [5, 4]]:\n",
            "\n",
            "             # wins in Season 2016  # wins in Season 2017\n",
            "Centroid #1                      4                      6\n",
            "Centroid #2                      6                      4\n"
          ],
          "name": "stdout"
        }
      ]
    },
    {
      "cell_type": "code",
      "metadata": {
        "id": "jALFQgi5zS4Q",
        "colab": {
          "base_uri": "https://localhost:8080/",
          "height": 444
        },
        "cellView": "form",
        "outputId": "104ef40d-1957-4c9c-8814-4d1ffcb3a24e"
      },
      "source": [
        "#@title Apply K-Means on teams to form two clusters\n",
        "\n",
        "# Specify model parameters\n",
        "distance_metric = 'manhattan'\n",
        "max_iterations = 1000\n",
        "centroid_initializations = [[4, 6], [5, 4]]\n",
        "\n",
        "# Peform K-Means algorithm on data with specified parameters\n",
        "clf = K_Means(k=2, distance_metric=distance_metric, tolerance=0.001, max_iterations=max_iterations, seed=None, centroid_initializations = centroid_initializations)\n",
        "centroids, cluster_assignment = clf.fit(data)\n",
        "\n",
        "# Print coordinates of the resulting centroids\n",
        "print(\"Coordinates of the Centroids After {max_iterations} Iterations of the K-Means Algorithm \\nUsing K = 2, {distance_metric} distance and centroid initializations: {centroid_initializations}:\".format(max_iterations=max_iterations, distance_metric = distance_metric, centroid_initializations = centroid_initializations))\n",
        "centroids_df = pd.DataFrame(data=centroids, index=['Centroid #1', 'Centroid #2']) \n",
        "centroids_df.columns =['# wins in Season 2016', '# wins in Season 2017']\n",
        "print(\"\")\n",
        "print(centroids_df.round(0).astype(int))\n",
        "print(\"\")\n",
        "print(\"___________________________________________________________________________________\")\n",
        "\n",
        "# plot the cluster and cluster's centroid\n",
        "plt.scatter(data[:, 0], data[:, 1], s = 50, c = cluster_assignment, cmap = 'viridis')\n",
        "centroid_1 = centroids_df.iloc[0]\n",
        "centroid_2 = centroids_df.iloc[1]\n",
        "plt.plot(centroid_1[0], centroid_1[1], marker='*', markersize=10, color=\"#440154ff\")\n",
        "plt.annotate(\"Centroid #1\", # this is the text\n",
        "                 (centroid_1[0],centroid_1[1]), # this is the point to label\n",
        "                 textcoords=\"offset points\", # how to position the text\n",
        "                 xytext=(0,10), # distance from text to points (x,y)\n",
        "                 ha='center') # horizontal alignment can be left, right or center\n",
        "plt.plot(centroid_2[0], centroid_2[1], marker='*', markersize=10, color=\"#fde725ff\")\n",
        "plt.annotate(\"Centroid #2\", # this is the text\n",
        "                 (centroid_2[0],centroid_2[1]), # this is the point to label\n",
        "                 textcoords=\"offset points\", # how to position the text\n",
        "                 xytext=(0,10), # distance from text to points (x,y)\n",
        "                 ha='center') # horizontal alignment can be left, right or center\n",
        "                 # zip joins x and y coordinates in pairs\n",
        "\n",
        "for label,x,y in zip(df.index, df['# wins in Season 2016'].values,df['# wins in Season 2017'].values):\n",
        "\n",
        "    plt.annotate(label, # this is the text\n",
        "                 (x,y), # this is the point to label\n",
        "                 textcoords=\"offset points\", # how to position the text\n",
        "                 xytext=(0,10), # distance from text to points (x,y)\n",
        "                 ha='center') # horizontal alignment can be left, right or center\n",
        "plt.ylim(0, 10)\n",
        "plt.xlim(0, 10)\n",
        "plt.gca().set_aspect('equal')\n",
        "plt.suptitle(\"Teams Based on Wins in Season 16 & 17\\n\", fontsize=16)\n",
        "plt.xlabel('# wins in Season 2016')\n",
        "plt.ylabel('# wins in Season 2017')\n",
        "plt.show();"
      ],
      "execution_count": 141,
      "outputs": [
        {
          "output_type": "stream",
          "text": [
            "Coordinates of the Centroids After 1000 Iterations of the K-Means Algorithm \n",
            "Using K = 2, manhattan distance and centroid initializations: [[4, 6], [5, 4]]:\n",
            "\n",
            "             # wins in Season 2016  # wins in Season 2017\n",
            "Centroid #1                      4                      6\n",
            "Centroid #2                      6                      4\n",
            "\n",
            "___________________________________________________________________________________\n"
          ],
          "name": "stdout"
        },
        {
          "output_type": "display_data",
          "data": {
            "image/png": "[encoded data removed]",
            "text/plain": [
              "<Figure size 432x288 with 1 Axes>"
            ]
          },
          "metadata": {
            "tags": [],
            "needs_background": "light"
          }
        }
      ]
    },
    {
      "cell_type": "code",
      "metadata": {
        "id": "yyRZaHVLynIj",
        "colab": {
          "base_uri": "https://localhost:8080/"
        },
        "cellView": "form",
        "outputId": "d148902f-e787-4f5f-89da-f80958d1ed6f"
      },
      "source": [
        "#@title Report cluster assignments\n",
        "\n",
        "kmeans_cluster_assignment = {'K-Means Cluster Assignment': cluster_assignment}\n",
        "df_cluster_assignment = pd.DataFrame(data=kmeans_cluster_assignment, index=['x1', 'x2', 'x3', 'x4', 'x5', 'x6', 'x7', 'x8', 'x9', 'x10'])\n",
        "df.index.name = 'Team'\n",
        "print(df_cluster_assignment)"
      ],
      "execution_count": 142,
      "outputs": [
        {
          "output_type": "stream",
          "text": [
            "     K-Means Cluster Assignment\n",
            "x1                            0\n",
            "x2                            1\n",
            "x3                            0\n",
            "x4                            1\n",
            "x5                            1\n",
            "x6                            1\n",
            "x7                            1\n",
            "x8                            1\n",
            "x9                            1\n",
            "x10                           0\n"
          ],
          "name": "stdout"
        }
      ]
    },
    {
      "cell_type": "markdown",
      "metadata": {
        "id": "5-9p__ubx1Mo"
      },
      "source": [
        "<!DOCTYPE html>\n",
        "<html>\n",
        "<body>\n",
        "\n",
        "**<h3>(2) Initialize with two centroids, (4, 6) and (5, 4). Use Euclidean distance as the distance metric.  First, perform one iteration of the K-means algorithm and report the coordinates of the resulting centroids. Second, please use K-Means to find two clusters.</h3>**\n",
        "\n",
        "</body>\n",
        "</html>"
      ]
    },
    {
      "cell_type": "code",
      "metadata": {
        "id": "3vjUPqEPyNFt",
        "colab": {
          "base_uri": "https://localhost:8080/"
        },
        "cellView": "form",
        "outputId": "b0ad78a9-547b-40e5-958a-0230cbf8f659"
      },
      "source": [
        "#@title Initialize with two centroids, (4, 6) and (5, 4). Use Euclidean distance as the distance metric. First, perform one iteration of the K-means algorithm and report the coordinates of the resulting centroids\n",
        "# Specify model parameters\n",
        "distance_metric = 'euclidean'\n",
        "max_iterations = 1\n",
        "centroid_initializations = [[4, 6], [5, 4]]\n",
        "\n",
        "# Peform K-Means algorithm on data with specified parameters\n",
        "clf = K_Means(k=2, distance_metric=distance_metric, tolerance=0.001, max_iterations=max_iterations, seed=None, centroid_initializations = centroid_initializations)\n",
        "centroids, cluster_assignment = clf.fit(data)\n",
        "\n",
        "# Print coordinates of the resulting centroids\n",
        "print(\"Coordinates of the Centroids After {max_iterations} Iteration of the K-Means Algorithm Using K = 2, {distance_metric} distance and centroid initializations: {centroid_initializations}:\".format(max_iterations=max_iterations, distance_metric = distance_metric, centroid_initializations = centroid_initializations))\n",
        "centroids_df = pd.DataFrame(data=centroids, index=['Centroid #1', 'Centroid #2']) \n",
        "centroids_df.columns =['# wins in Season 2016', '# wins in Season 2017']\n",
        "print(\"\")\n",
        "print(centroids_df.round(0).astype(int))"
      ],
      "execution_count": 143,
      "outputs": [
        {
          "output_type": "stream",
          "text": [
            "Coordinates of the Centroids After 1 Iteration of the K-Means Algorithm Using K = 2, euclidean distance and centroid initializations: [[4, 6], [5, 4]]:\n",
            "\n",
            "             # wins in Season 2016  # wins in Season 2017\n",
            "Centroid #1                      2                      6\n",
            "Centroid #2                      6                      4\n"
          ],
          "name": "stdout"
        }
      ]
    },
    {
      "cell_type": "code",
      "metadata": {
        "id": "kHslx8Frz1Cg",
        "colab": {
          "base_uri": "https://localhost:8080/",
          "height": 444
        },
        "cellView": "form",
        "outputId": "5d966d1b-006d-41dd-d749-9728cceacda0"
      },
      "source": [
        "#@title Apply K-Means on teams to form two clusters\n",
        "\n",
        "# Specify model parameters\n",
        "distance_metric = 'euclidean'\n",
        "max_iterations = 1000\n",
        "centroid_initializations = [[4, 6], [5, 4]]\n",
        "\n",
        "# Peform K-Means algorithm on data with specified parameters\n",
        "clf = K_Means(k=2, distance_metric=distance_metric, tolerance=0.001, max_iterations=max_iterations, seed=None, centroid_initializations = centroid_initializations)\n",
        "centroids, cluster_assignment = clf.fit(data)\n",
        "\n",
        "# Print coordinates of the resulting centroids\n",
        "print(\"Coordinates of the Centroids After {max_iterations} Iterations of the K-Means Algorithm \\nUsing K = 2, {distance_metric} distance and centroid initializations: {centroid_initializations}:\".format(max_iterations=max_iterations, distance_metric = distance_metric, centroid_initializations = centroid_initializations))\n",
        "centroids_df = pd.DataFrame(data=centroids, index=['Centroid #1', 'Centroid #2']) \n",
        "centroids_df.columns =['# wins in Season 2016', '# wins in Season 2017']\n",
        "print(\"\")\n",
        "print(centroids_df.round(0).astype(int))\n",
        "print(\"\")\n",
        "print(\"___________________________________________________________________________________\")\n",
        "\n",
        "# plot the cluster and cluster's centroid\n",
        "plt.scatter(data[:, 0], data[:, 1], s = 50, c = cluster_assignment, cmap = 'viridis')\n",
        "centroid_1 = centroids_df.iloc[0]\n",
        "centroid_2 = centroids_df.iloc[1]\n",
        "plt.plot(centroid_1[0], centroid_1[1], marker='*', markersize=10, color=\"#440154ff\")\n",
        "plt.annotate(\"Centroid #1\", # this is the text\n",
        "                 (centroid_1[0],centroid_1[1]), # this is the point to label\n",
        "                 textcoords=\"offset points\", # how to position the text\n",
        "                 xytext=(0,10), # distance from text to points (x,y)\n",
        "                 ha='center') # horizontal alignment can be left, right or center\n",
        "plt.plot(centroid_2[0], centroid_2[1], marker='*', markersize=10, color=\"#fde725ff\")\n",
        "plt.annotate(\"Centroid #2\", # this is the text\n",
        "                 (centroid_2[0],centroid_2[1]), # this is the point to label\n",
        "                 textcoords=\"offset points\", # how to position the text\n",
        "                 xytext=(0,10), # distance from text to points (x,y)\n",
        "                 ha='center') # horizontal alignment can be left, right or center\n",
        "                 # zip joins x and y coordinates in pairs\n",
        "\n",
        "for label,x,y in zip(df.index, df['# wins in Season 2016'].values,df['# wins in Season 2017'].values):\n",
        "\n",
        "    plt.annotate(label, # this is the text\n",
        "                 (x,y), # this is the point to label\n",
        "                 textcoords=\"offset points\", # how to position the text\n",
        "                 xytext=(0,10), # distance from text to points (x,y)\n",
        "                 ha='center') # horizontal alignment can be left, right or center\n",
        "plt.ylim(0, 10)\n",
        "plt.xlim(0, 10)\n",
        "plt.gca().set_aspect('equal')\n",
        "plt.suptitle(\"Teams Based on Wins in Season 16 & 17\\n\", fontsize=16)\n",
        "plt.xlabel('# wins in Season 2016')\n",
        "plt.ylabel('# wins in Season 2017')\n",
        "plt.show();"
      ],
      "execution_count": 144,
      "outputs": [
        {
          "output_type": "stream",
          "text": [
            "Coordinates of the Centroids After 1000 Iterations of the K-Means Algorithm \n",
            "Using K = 2, euclidean distance and centroid initializations: [[4, 6], [5, 4]]:\n",
            "\n",
            "             # wins in Season 2016  # wins in Season 2017\n",
            "Centroid #1                      2                      5\n",
            "Centroid #2                      7                      4\n",
            "\n",
            "___________________________________________________________________________________\n"
          ],
          "name": "stdout"
        },
        {
          "output_type": "display_data",
          "data": {
            "image/png": "[encoded data removed]",
            "text/plain": [
              "<Figure size 432x288 with 1 Axes>"
            ]
          },
          "metadata": {
            "tags": [],
            "needs_background": "light"
          }
        }
      ]
    },
    {
      "cell_type": "code",
      "metadata": {
        "id": "-cEm2PHSz3cP",
        "colab": {
          "base_uri": "https://localhost:8080/"
        },
        "cellView": "form",
        "outputId": "1c09cf0b-1bf0-4e26-992e-2bcb1d55c4f7"
      },
      "source": [
        "#@title Report cluster assignments\n",
        "\n",
        "kmeans_cluster_assignment = {'K-Means Cluster Assignment': cluster_assignment}\n",
        "df_cluster_assignment = pd.DataFrame(data=kmeans_cluster_assignment, index=['x1', 'x2', 'x3', 'x4', 'x5', 'x6', 'x7', 'x8', 'x9', 'x10'])\n",
        "df.index.name = 'Team'\n",
        "print(df_cluster_assignment)"
      ],
      "execution_count": 145,
      "outputs": [
        {
          "output_type": "stream",
          "text": [
            "     K-Means Cluster Assignment\n",
            "x1                            0\n",
            "x2                            0\n",
            "x3                            0\n",
            "x4                            0\n",
            "x5                            1\n",
            "x6                            1\n",
            "x7                            1\n",
            "x8                            1\n",
            "x9                            1\n",
            "x10                           1\n"
          ],
          "name": "stdout"
        }
      ]
    },
    {
      "cell_type": "markdown",
      "metadata": {
        "id": "mfWUbK4myWth"
      },
      "source": [
        "<!DOCTYPE html>\n",
        "<html>\n",
        "<body>\n",
        "\n",
        "**<h3>(3) Initialize with two centroids, (3, 3) and (8, 3). Use Manhattan distance as the distance metric.  First, perform one iteration of the K-means algorithm and report the coordinates of the resulting centroids. Second, please use K-Means to find two clusters.</h3>**\n",
        "\n",
        "</body>\n",
        "</html>"
      ]
    },
    {
      "cell_type": "code",
      "metadata": {
        "id": "GiKwUscd0Wl-",
        "colab": {
          "base_uri": "https://localhost:8080/"
        },
        "cellView": "form",
        "outputId": "1e27162d-396d-4e79-b218-059d215e268c"
      },
      "source": [
        "#@title Initialize with two centroids, (3, 3) and (8, 3). Use Manhattan distance as the distance metric. First, perform one iteration of the K-means algorithm and report the coordinates of the resulting centroids\n",
        "# Specify model parameters\n",
        "distance_metric = 'manhattan'\n",
        "max_iterations = 1\n",
        "centroid_initializations = [[3, 3], [8, 3]]\n",
        "\n",
        "# Peform K-Means algorithm on data with specified parameters\n",
        "clf = K_Means(k=2, distance_metric=distance_metric, tolerance=0.001, max_iterations=max_iterations, seed=None, centroid_initializations = centroid_initializations)\n",
        "centroids, cluster_assignment = clf.fit(data)\n",
        "\n",
        "# Print coordinates of the resulting centroids\n",
        "print(\"Coordinates of the Centroids After {max_iterations} Iteration of the K-Means Algorithm Using K = 2, {distance_metric} distance and centroid initializations: {centroid_initializations}:\".format(max_iterations=max_iterations, distance_metric = distance_metric, centroid_initializations = centroid_initializations))\n",
        "centroids_df = pd.DataFrame(data=centroids, index=['Centroid #1', 'Centroid #2']) \n",
        "centroids_df.columns =['# wins in Season 2016', '# wins in Season 2017']\n",
        "print(\"\")\n",
        "print(centroids_df.round(0).astype(int))"
      ],
      "execution_count": 146,
      "outputs": [
        {
          "output_type": "stream",
          "text": [
            "Coordinates of the Centroids After 1 Iteration of the K-Means Algorithm Using K = 2, manhattan distance and centroid initializations: [[3, 3], [8, 3]]:\n",
            "\n",
            "             # wins in Season 2016  # wins in Season 2017\n",
            "Centroid #1                      2                      5\n",
            "Centroid #2                      7                      4\n"
          ],
          "name": "stdout"
        }
      ]
    },
    {
      "cell_type": "code",
      "metadata": {
        "id": "uafZtckk0-qE",
        "colab": {
          "base_uri": "https://localhost:8080/",
          "height": 444
        },
        "cellView": "form",
        "outputId": "1a5d3c33-119c-40ba-ae81-955eb4442ae5"
      },
      "source": [
        "#@title Apply K-Means on teams to form two clusters\n",
        "\n",
        "# Specify model parameters\n",
        "distance_metric = 'manhattan'\n",
        "max_iterations = 1000\n",
        "centroid_initializations = [[3, 3], [8, 3]]\n",
        "\n",
        "# Peform K-Means algorithm on data with specified parameters\n",
        "clf = K_Means(k=2, distance_metric=distance_metric, tolerance=0.001, max_iterations=max_iterations, seed=None, centroid_initializations = centroid_initializations)\n",
        "centroids, cluster_assignment = clf.fit(data)\n",
        "\n",
        "# Print coordinates of the resulting centroids\n",
        "print(\"Coordinates of the Centroids After {max_iterations} Iterations of the K-Means Algorithm \\nUsing K = 2, {distance_metric} distance and centroid initializations: {centroid_initializations}:\".format(max_iterations=max_iterations, distance_metric = distance_metric, centroid_initializations = centroid_initializations))\n",
        "centroids_df = pd.DataFrame(data=centroids, index=['Centroid #1', 'Centroid #2']) \n",
        "centroids_df.columns =['# wins in Season 2016', '# wins in Season 2017']\n",
        "print(\"\")\n",
        "print(centroids_df.round(0).astype(int))\n",
        "print(\"\")\n",
        "print(\"___________________________________________________________________________________\")\n",
        "\n",
        "# plot the cluster and cluster's centroid\n",
        "plt.scatter(data[:, 0], data[:, 1], s = 50, c = cluster_assignment, cmap = 'viridis')\n",
        "centroid_1 = centroids_df.iloc[0]\n",
        "centroid_2 = centroids_df.iloc[1]\n",
        "plt.plot(centroid_1[0], centroid_1[1], marker='*', markersize=10, color=\"#440154ff\")\n",
        "plt.annotate(\"Centroid #1\", # this is the text\n",
        "                 (centroid_1[0],centroid_1[1]), # this is the point to label\n",
        "                 textcoords=\"offset points\", # how to position the text\n",
        "                 xytext=(0,10), # distance from text to points (x,y)\n",
        "                 ha='center') # horizontal alignment can be left, right or center\n",
        "plt.plot(centroid_2[0], centroid_2[1], marker='*', markersize=10, color=\"#fde725ff\")\n",
        "plt.annotate(\"Centroid #2\", # this is the text\n",
        "                 (centroid_2[0],centroid_2[1]), # this is the point to label\n",
        "                 textcoords=\"offset points\", # how to position the text\n",
        "                 xytext=(0,10), # distance from text to points (x,y)\n",
        "                 ha='center') # horizontal alignment can be left, right or center\n",
        "                 # zip joins x and y coordinates in pairs\n",
        "\n",
        "for label,x,y in zip(df.index, df['# wins in Season 2016'].values,df['# wins in Season 2017'].values):\n",
        "\n",
        "    plt.annotate(label, # this is the text\n",
        "                 (x,y), # this is the point to label\n",
        "                 textcoords=\"offset points\", # how to position the text\n",
        "                 xytext=(0,10), # distance from text to points (x,y)\n",
        "                 ha='center') # horizontal alignment can be left, right or center\n",
        "plt.ylim(0, 10)\n",
        "plt.xlim(0, 10)\n",
        "plt.gca().set_aspect('equal')\n",
        "plt.suptitle(\"Teams Based on Wins in Season 16 & 17\\n\", fontsize=16)\n",
        "plt.xlabel('# wins in Season 2016')\n",
        "plt.ylabel('# wins in Season 2017')\n",
        "plt.show();"
      ],
      "execution_count": 147,
      "outputs": [
        {
          "output_type": "stream",
          "text": [
            "Coordinates of the Centroids After 1000 Iterations of the K-Means Algorithm \n",
            "Using K = 2, manhattan distance and centroid initializations: [[3, 3], [8, 3]]:\n",
            "\n",
            "             # wins in Season 2016  # wins in Season 2017\n",
            "Centroid #1                      2                      5\n",
            "Centroid #2                      7                      4\n",
            "\n",
            "___________________________________________________________________________________\n"
          ],
          "name": "stdout"
        },
        {
          "output_type": "display_data",
          "data": {
            "image/png": "[encoded data removed]",
            "text/plain": [
              "<Figure size 432x288 with 1 Axes>"
            ]
          },
          "metadata": {
            "tags": [],
            "needs_background": "light"
          }
        }
      ]
    },
    {
      "cell_type": "code",
      "metadata": {
        "id": "dBLuRvFq1Fvo",
        "colab": {
          "base_uri": "https://localhost:8080/"
        },
        "cellView": "form",
        "outputId": "297fc798-7d7e-4b41-e42f-74d3201f6b3c"
      },
      "source": [
        "#@title Report cluster assignments\n",
        "\n",
        "kmeans_cluster_assignment = {'K-Means Cluster Assignment': cluster_assignment}\n",
        "df_cluster_assignment = pd.DataFrame(data=kmeans_cluster_assignment, index=['x1', 'x2', 'x3', 'x4', 'x5', 'x6', 'x7', 'x8', 'x9', 'x10'])\n",
        "df.index.name = 'Team'\n",
        "print(df_cluster_assignment)"
      ],
      "execution_count": 148,
      "outputs": [
        {
          "output_type": "stream",
          "text": [
            "     K-Means Cluster Assignment\n",
            "x1                            0\n",
            "x2                            0\n",
            "x3                            0\n",
            "x4                            0\n",
            "x5                            1\n",
            "x6                            1\n",
            "x7                            1\n",
            "x8                            1\n",
            "x9                            1\n",
            "x10                           1\n"
          ],
          "name": "stdout"
        }
      ]
    },
    {
      "cell_type": "markdown",
      "metadata": {
        "id": "5W0cMk_kxvCM"
      },
      "source": [
        "<!DOCTYPE html>\n",
        "<html>\n",
        "<body>\n",
        "\n",
        "**<h3>(4) Initialize with two centroids, (3, 2) and (4, 8). Use Manhattan distance as the distance metric. First, perform one iteration of the K-means algorithm and report the coordinates of the resulting centroids. Second, please use K-Means to find two clusters.</h3>**\n",
        "\n",
        "</body>\n",
        "</html>"
      ]
    },
    {
      "cell_type": "code",
      "metadata": {
        "id": "_RLNCH5P1fTH",
        "colab": {
          "base_uri": "https://localhost:8080/"
        },
        "cellView": "form",
        "outputId": "f179e366-d96f-401e-d975-da096bcb2149"
      },
      "source": [
        "#@title Initialize with two centroids, (3, 2) and (4, 8). Use Manhattan distance as the distance metric. First, perform one iteration of the K-means algorithm and report the coordinates of the resulting centroids\n",
        "# Specify model parameters\n",
        "distance_metric = 'manhattan'\n",
        "max_iterations = 1\n",
        "centroid_initializations = [[3, 2], [4, 8]]\n",
        "\n",
        "# Peform K-Means algorithm on data with specified parameters\n",
        "clf = K_Means(k=2, distance_metric=distance_metric, tolerance=0.001, max_iterations=max_iterations, seed=None, centroid_initializations = centroid_initializations)\n",
        "centroids, cluster_assignment = clf.fit(data)\n",
        "\n",
        "# Print coordinates of the resulting centroids\n",
        "print(\"Coordinates of the Centroids After {max_iterations} Iteration of the K-Means Algorithm Using K = 2, {distance_metric} distance and centroid initializations: {centroid_initializations}:\".format(max_iterations=max_iterations, distance_metric = distance_metric, centroid_initializations = centroid_initializations))\n",
        "centroids_df = pd.DataFrame(data=centroids, index=['Centroid #1', 'Centroid #2']) \n",
        "centroids_df.columns =['# wins in Season 2016', '# wins in Season 2017']\n",
        "print(\"\")\n",
        "print(centroids_df.round(0).astype(int))"
      ],
      "execution_count": 149,
      "outputs": [
        {
          "output_type": "stream",
          "text": [
            "Coordinates of the Centroids After 1 Iteration of the K-Means Algorithm Using K = 2, manhattan distance and centroid initializations: [[3, 2], [4, 8]]:\n",
            "\n",
            "             # wins in Season 2016  # wins in Season 2017\n",
            "Centroid #1                      5                      4\n",
            "Centroid #2                      6                      6\n"
          ],
          "name": "stdout"
        }
      ]
    },
    {
      "cell_type": "code",
      "metadata": {
        "id": "5o8VHvs51pa_",
        "colab": {
          "base_uri": "https://localhost:8080/",
          "height": 444
        },
        "cellView": "form",
        "outputId": "050492e2-74c6-4507-b3c7-638ca2882327"
      },
      "source": [
        "#@title Apply K-Means on teams to form two clusters\n",
        "\n",
        "# Specify model parameters\n",
        "distance_metric = 'manhattan'\n",
        "max_iterations = 1000\n",
        "centroid_initializations = [[3, 2], [4, 8]]\n",
        "\n",
        "# Peform K-Means algorithm on data with specified parameters\n",
        "clf = K_Means(k=2, distance_metric=distance_metric, tolerance=0.001, max_iterations=max_iterations, seed=None, centroid_initializations = centroid_initializations)\n",
        "centroids, cluster_assignment = clf.fit(data)\n",
        "\n",
        "# Print coordinates of the resulting centroids\n",
        "print(\"Coordinates of the Centroids After {max_iterations} Iterations of the K-Means Algorithm \\nUsing K = 2, {distance_metric} distance and centroid initializations: {centroid_initializations}:\".format(max_iterations=max_iterations, distance_metric = distance_metric, centroid_initializations = centroid_initializations))\n",
        "centroids_df = pd.DataFrame(data=centroids, index=['Centroid #1', 'Centroid #2']) \n",
        "centroids_df.columns =['# wins in Season 2016', '# wins in Season 2017']\n",
        "print(\"\")\n",
        "print(centroids_df.round(0).astype(int))\n",
        "print(\"\")\n",
        "print(\"___________________________________________________________________________________\")\n",
        "\n",
        "# plot the cluster and cluster's centroid\n",
        "plt.scatter(data[:, 0], data[:, 1], s = 50, c = cluster_assignment, cmap = 'viridis')\n",
        "centroid_1 = centroids_df.iloc[0]\n",
        "centroid_2 = centroids_df.iloc[1]\n",
        "plt.plot(centroid_1[0], centroid_1[1], marker='*', markersize=10, color=\"#440154ff\")\n",
        "plt.annotate(\"Centroid #1\", # this is the text\n",
        "                 (centroid_1[0],centroid_1[1]), # this is the point to label\n",
        "                 textcoords=\"offset points\", # how to position the text\n",
        "                 xytext=(0,10), # distance from text to points (x,y)\n",
        "                 ha='center') # horizontal alignment can be left, right or center\n",
        "plt.plot(centroid_2[0], centroid_2[1], marker='*', markersize=10, color=\"#fde725ff\")\n",
        "plt.annotate(\"Centroid #2\", # this is the text\n",
        "                 (centroid_2[0],centroid_2[1]), # this is the point to label\n",
        "                 textcoords=\"offset points\", # how to position the text\n",
        "                 xytext=(0,10), # distance from text to points (x,y)\n",
        "                 ha='center') # horizontal alignment can be left, right or center\n",
        "                 # zip joins x and y coordinates in pairs\n",
        "\n",
        "for label,x,y in zip(df.index, df['# wins in Season 2016'].values,df['# wins in Season 2017'].values):\n",
        "\n",
        "    plt.annotate(label, # this is the text\n",
        "                 (x,y), # this is the point to label\n",
        "                 textcoords=\"offset points\", # how to position the text\n",
        "                 xytext=(0,10), # distance from text to points (x,y)\n",
        "                 ha='center') # horizontal alignment can be left, right or center\n",
        "plt.ylim(0, 10)\n",
        "plt.xlim(0, 10)\n",
        "plt.gca().set_aspect('equal')\n",
        "plt.suptitle(\"Teams Based on Wins in Season 16 & 17\\n\", fontsize=16)\n",
        "plt.xlabel('# wins in Season 2016')\n",
        "plt.ylabel('# wins in Season 2017')\n",
        "plt.show();"
      ],
      "execution_count": 150,
      "outputs": [
        {
          "output_type": "stream",
          "text": [
            "Coordinates of the Centroids After 1000 Iterations of the K-Means Algorithm \n",
            "Using K = 2, manhattan distance and centroid initializations: [[3, 2], [4, 8]]:\n",
            "\n",
            "             # wins in Season 2016  # wins in Season 2017\n",
            "Centroid #1                      5                      4\n",
            "Centroid #2                      6                      6\n",
            "\n",
            "___________________________________________________________________________________\n"
          ],
          "name": "stdout"
        },
        {
          "output_type": "display_data",
          "data": {
            "image/png": "[encoded data removed]",
            "text/plain": [
              "<Figure size 432x288 with 1 Axes>"
            ]
          },
          "metadata": {
            "tags": [],
            "needs_background": "light"
          }
        }
      ]
    },
    {
      "cell_type": "code",
      "metadata": {
        "id": "ncRv_kyR1ug3",
        "colab": {
          "base_uri": "https://localhost:8080/"
        },
        "cellView": "form",
        "outputId": "afa352ed-94b3-4d5a-e259-a3ace8ff497c"
      },
      "source": [
        "#@title Report cluster assignments\n",
        "\n",
        "kmeans_cluster_assignment = {'K-Means Cluster Assignment': cluster_assignment}\n",
        "df_cluster_assignment = pd.DataFrame(data=kmeans_cluster_assignment, index=['x1', 'x2', 'x3', 'x4', 'x5', 'x6', 'x7', 'x8', 'x9', 'x10'])\n",
        "df.index.name = 'Team'\n",
        "print(df_cluster_assignment)"
      ],
      "execution_count": 151,
      "outputs": [
        {
          "output_type": "stream",
          "text": [
            "     K-Means Cluster Assignment\n",
            "x1                            0\n",
            "x2                            0\n",
            "x3                            1\n",
            "x4                            0\n",
            "x5                            0\n",
            "x6                            0\n",
            "x7                            0\n",
            "x8                            0\n",
            "x9                            1\n",
            "x10                           1\n"
          ],
          "name": "stdout"
        }
      ]
    },
    {
      "cell_type": "markdown",
      "metadata": {
        "id": "eqfHZct1t4E4"
      },
      "source": [
        "\r\n",
        "\r\n",
        "<!DOCTYPE html>\r\n",
        "<html>\r\n",
        "<body>\r\n",
        "\r\n",
        "**<h2>Task 3 - There are two clusters A (red) and B (blue), each has four members and plotted in Figure. The coordinates of each member are labeled in the figure. Compute the distance between two clusters using Euclidean distance.</h2>**\r\n",
        "\r\n",
        "**<h3>(A)  What is the distance between the two farthest members? (round to four decimal places here, and next 2 problems)</h3>**\r\n",
        "\r\n",
        "**<h3>(B) What is the distance between the two closest members?</h3>**\r\n",
        "\r\n",
        "**<h3>(C) What is the average distance between all pairs?</h3>**\r\n",
        "\r\n",
        "**<h3>(D) Discuss which distance (A, B, C) is more robust to noises in this case?</h3>**\r\n",
        "</body>\r\n",
        "</html>"
      ]
    },
    {
      "cell_type": "code",
      "metadata": {
        "id": "6Q6uQPB71L21",
        "colab": {
          "base_uri": "https://localhost:8080/",
          "height": 512
        },
        "cellView": "form",
        "outputId": "c8b8afb5-a11b-42de-dccf-8c8193d97e8a"
      },
      "source": [
        "#@title Create, print, and plot data points\n",
        "\n",
        "# Print multiple objects to screen in same shell \n",
        "from IPython.core.interactiveshell import InteractiveShell\n",
        "InteractiveShell.ast_node_interactivity = \"all\"\n",
        "\n",
        "problem_3_data = {'Feature 1': [4.7, 4.9, 5.0, 4.6, 5.9, 6.7, 6.0, 6.2], 'Feature 2': [3.2, 3.1, 3.0, 2.9, 3.2, 3.1, 3.0, 2.8], 'Label': ['A', 'A', 'A', 'A', 'B', 'B', 'B', 'B']}\n",
        "problem_3_df = pd.DataFrame(data=problem_3_data, index=['1', '2', '3', '4', '5', '6', '7', '8'])\n",
        "\n",
        "problem_3_data = np.array([[4.7, 3.2],\n",
        "              [4.9, 3.1],\n",
        "              [5.0, 3.0],\n",
        "              [4.6, 2.9],\n",
        "              [5.9, 3.2],\n",
        "              [6.7, 3.1],\n",
        "              [6.0, 3.0],\n",
        "              [6.2, 2.8]])\n",
        "\n",
        "problem_3_target = problem_3_df['Label'].squeeze()\n",
        "print(problem_3_df)\n",
        "problem_3_df.loc[(problem_3_df['Label']=='A'),'Label']=0\n",
        "problem_3_df.loc[problem_3_df['Label']=='B','Label']=1\n",
        "problem_3_target = problem_3_df['Label'].to_numpy()\n",
        "print(\"\")\n",
        "\n",
        "# Show df\n",
        "#problem_3_df\n",
        "print()\n",
        "\n",
        "# Show df shape\n",
        "#problem_3_df.shape\n",
        "\n",
        "print(\"___________________________________________________________________________________\")\n",
        "\n",
        "# plot the cluster and cluster's centroid\n",
        "plt.scatter(problem_3_data[:, 0], problem_3_data[:, 1], s = 50, c = problem_3_target, cmap = 'viridis')\n",
        "\n",
        "for label,x,y in zip(problem_3_df.index, problem_3_df['Feature 1'].values,problem_3_df['Feature 2'].values):\n",
        "\n",
        "    plt.annotate(label, # this is the text\n",
        "                 (x,y), # this is the point to label\n",
        "                 textcoords=\"offset points\", # how to position the text\n",
        "                 xytext=(0,10), # distance from text to points (x,y)\n",
        "                 ha='center') # horizontal alignment can be left, right or center\n",
        "\n",
        "plt.ylim(2.6, 3.4)\n",
        "plt.xlim(4, 8)\n",
        "plt.suptitle(\"Plot of Data\\n\", fontsize=16)\n",
        "plt.xlabel('Feature 1')\n",
        "plt.ylabel('Feature 2')\n",
        "plt.show();\n",
        "\n"
      ],
      "execution_count": 152,
      "outputs": [
        {
          "output_type": "stream",
          "text": [
            "   Feature 1  Feature 2 Label\n",
            "1        4.7        3.2     A\n",
            "2        4.9        3.1     A\n",
            "3        5.0        3.0     A\n",
            "4        4.6        2.9     A\n",
            "5        5.9        3.2     B\n",
            "6        6.7        3.1     B\n",
            "7        6.0        3.0     B\n",
            "8        6.2        2.8     B\n",
            "\n",
            "\n",
            "___________________________________________________________________________________\n"
          ],
          "name": "stdout"
        },
        {
          "output_type": "display_data",
          "data": {
            "image/png": "[encoded data removed]",
            "text/plain": [
              "<Figure size 432x288 with 1 Axes>"
            ]
          },
          "metadata": {
            "tags": [],
            "needs_background": "light"
          }
        }
      ]
    },
    {
      "cell_type": "code",
      "metadata": {
        "id": "GYV_sefi12gz",
        "colab": {
          "base_uri": "https://localhost:8080/"
        },
        "cellView": "form",
        "outputId": "35896c2e-d995-4175-fcfd-b54445b9aa74"
      },
      "source": [
        "#@title Find the distance between two clusters\n",
        "from sklearn.metrics.pairwise import euclidean_distances\n",
        "\n",
        "# Specify model parameters\n",
        "distance_metric = 'euclidean'\n",
        "max_iterations = 1000\n",
        "centroid_initializations = [[4.7, 3.0], [6.5, 3.1]]\n",
        "\n",
        "data_points_in_cluster_A = problem_3_data[:4]\n",
        "x = [p[0] for p in data_points_in_cluster_A]\n",
        "y = [p[1] for p in data_points_in_cluster_A]\n",
        "center_clusterA = (sum(x) / len(data_points_in_cluster_A), sum(y) / len(data_points_in_cluster_A))\n",
        "\n",
        "data_points_in_cluster_B = problem_3_data[4:]\n",
        "x = [p[0] for p in data_points_in_cluster_B]\n",
        "y = [p[1] for p in data_points_in_cluster_B]\n",
        "center_clusterB = (sum(x) / len(data_points_in_cluster_B), sum(y) / len(data_points_in_cluster_B))\n",
        "\n",
        "# Print coordinates of the resulting centroids\n",
        "print(\"Coordinates of the Centroids of Clusters A and B\")\n",
        "centers_for_A_and_B_clusters = pd.DataFrame([[center_clusterA[0], center_clusterA[1]], [center_clusterB[0], center_clusterB[1]]], columns=['Feature 1', 'Feature 2'], index=['Centroid #1', 'Centroid #2'])\n",
        "print(\"\")\n",
        "print(centers_for_A_and_B_clusters.round(1))\n",
        "print(\"\")\n",
        "print(\"___________________________________________________________________________________\")\n",
        "\n",
        "# Compute the distance between two clusters using Euclidean distance\n",
        "euclidean_distance_problem_3 = np.linalg.norm(np.array(center_clusterA) - np.array(center_clusterB)) \n",
        "print(\"\")\n",
        "print(\"The Euclidean distance between the two clusters is {euclidean_distance_problem_3}\".format(euclidean_distance_problem_3=euclidean_distance_problem_3.round(1)))\n",
        "print(\"\")\n"
      ],
      "execution_count": 114,
      "outputs": [
        {
          "output_type": "stream",
          "text": [
            "Coordinates of the Centroids of Clusters A and B\n",
            "\n",
            "             Feature 1  Feature 2\n",
            "Centroid #1        4.8        3.1\n",
            "Centroid #2        6.2        3.0\n",
            "\n",
            "___________________________________________________________________________________\n",
            "\n",
            "The Euclidean distance between the two clusters is 1.4\n",
            "\n"
          ],
          "name": "stdout"
        }
      ]
    },
    {
      "cell_type": "code",
      "metadata": {
        "id": "SVkcdk9ACoab",
        "colab": {
          "base_uri": "https://localhost:8080/"
        },
        "cellView": "form",
        "outputId": "7845ddca-025f-442f-87d5-fcb491e47a4b"
      },
      "source": [
        "#@title Find the distance between the two farthest members\n",
        "X, y = problem_3_data, problem_3_target\n",
        "\n",
        "n = len(problem_3_data)\n",
        "maximum = 0\n",
        "\n",
        "# Iterate over all possible pairs\n",
        "for i in range(n):\n",
        "  for j in range(i + 1, n):\n",
        "    # Update maxm\n",
        "    distance = np.linalg.norm(np.array(problem_3_data[i]) - np.array(problem_3_data[j]))\n",
        "    maximum = max(maximum, distance)\n",
        "\n",
        "print(\"The distance between the two farthest members are {maximum}\".format(maximum = maximum.round(2)));\n",
        "\n"
      ],
      "execution_count": 153,
      "outputs": [
        {
          "output_type": "stream",
          "text": [
            "The distance between the two farthest members are 2.11\n"
          ],
          "name": "stdout"
        }
      ]
    },
    {
      "cell_type": "code",
      "metadata": {
        "colab": {
          "base_uri": "https://localhost:8080/"
        },
        "cellView": "form",
        "id": "fUoej8cdiBJi",
        "outputId": "15a8c7fb-e0a4-4230-da05-99aca28b0b17"
      },
      "source": [
        "#@title Find the distance between the two closest members\r\n",
        "X, y = problem_3_data, problem_3_target\r\n",
        "\r\n",
        "n = len(problem_3_data)\r\n",
        "minimum = 100.00\r\n",
        "\r\n",
        "# Iterate over all possible pairs\r\n",
        "for i in range(n):\r\n",
        "  for j in range(i + 1, n):\r\n",
        "    # Update minimum\r\n",
        "    distance = np.linalg.norm(np.array(problem_3_data[i]) - np.array(problem_3_data[j]))\r\n",
        "    minimum = min(minimum, distance)\r\n",
        "\r\n",
        "print(\"The distance between the two farthest members are {minimum}\".format(minimum = minimum.round(2)));"
      ],
      "execution_count": 154,
      "outputs": [
        {
          "output_type": "stream",
          "text": [
            "The distance between the two farthest members are 0.14\n"
          ],
          "name": "stdout"
        }
      ]
    },
    {
      "cell_type": "code",
      "metadata": {
        "colab": {
          "base_uri": "https://localhost:8080/"
        },
        "cellView": "form",
        "id": "AnxuApACiyKz",
        "outputId": "30b3d8ba-690a-4b35-a602-ad33f45a4fd0"
      },
      "source": [
        "#@title Find the average distance between all pairs\r\n",
        "X, y = problem_3_data, problem_3_target\r\n",
        "\r\n",
        "n = len(problem_3_data)\r\n",
        "list = []\r\n",
        "\r\n",
        "# Iterate over all possible pairs\r\n",
        "for i in range(n):\r\n",
        "  for j in range(i + 1, n):\r\n",
        "    # Update minimum\r\n",
        "    distance = np.linalg.norm(np.array(problem_3_data[i]) - np.array(problem_3_data[j]))\r\n",
        "    list.append(distance)\r\n",
        "\r\n",
        "average_distance = np.mean(list)\r\n",
        "print(\"The average distance between all pairs is {average_distance}\".format(average_distance = average_distance.round(2)));"
      ],
      "execution_count": 117,
      "outputs": [
        {
          "output_type": "stream",
          "text": [
            "The average distance between all pairs is 0.98\n"
          ],
          "name": "stdout"
        }
      ]
    },
    {
      "cell_type": "code",
      "metadata": {
        "colab": {
          "base_uri": "https://localhost:8080/"
        },
        "cellView": "form",
        "id": "m2wfDcMnhyhO",
        "outputId": "229ac762-13d9-47f9-d717-b3e26a750efe"
      },
      "source": [
        "#@title Discuss which distance (A, B, C) is more robust to noises in this case?\r\n",
        "\r\n",
        "print(\"The distances between the two farthest or two closest data points are more\")\r\n",
        "print(\"robust to noises in this case. Assuming the data follows a Gaussian distribution,\")\r\n",
        "print(\"if the noisy data point is within one or two standard deviations from the mean\")\r\n",
        "print(\"then the noise would not impact the distances between the two farthest or two \")\r\n",
        "print(\"closest data points because the distances between the noisy data and other data\")\r\n",
        "print(\"is likely smaller than the distance between the two farthest data points and\")\r\n",
        "print(\"greater than the distance between the two closest data points. However, the\")\r\n",
        "print(\"noisy data is likely to impact the average distance because they will always be\")\r\n",
        "print(\"incorporated into any average distance calculations.\")"
      ],
      "execution_count": 118,
      "outputs": [
        {
          "output_type": "stream",
          "text": [
            "The distances between the two farthest or two closest data points are more\n",
            "robust to noises in this case. Assuming the data follows a Gaussian distribution,\n",
            "if the noisy data point is within one or two standard deviations from the mean\n",
            "then the noise would not impact the distances between the two farthest or two \n",
            "closest data points because the distances between the noisy data and other data\n",
            "is likely smaller than the distance between the two farthest data points and\n",
            "greater than the distance between the two closest data points. However, the\n",
            "noisy data is likely to impact the average distance because they will always be\n",
            "incorporated into any average distance calculations.\n"
          ],
          "name": "stdout"
        }
      ]
    },
    {
      "cell_type": "markdown",
      "metadata": {
        "id": "p2CTsbRd7opw"
      },
      "source": [
        "<!DOCTYPE html>\n",
        "<html>\n",
        "<body>\n",
        "\n",
        "**<h2>Task 2 K-Means Clustering with Real World Dataset: </h2>**\n",
        "\n",
        "**<p>First, download the Iris data set from: https://archive.ics.uci.edu/ml/datasets/Iris. Then, implement the K-means algorithm. K-means algorithm computes the distance of a given data point pair. Replace the distance computation function with Euclidean distance, 1- Cosine\n",
        "similarity, and 1 – the Generalized Jarcard similarity\n",
        "(https://www.itl.nist.gov/div898/software/dataplot/refman2/auxillar/jaccard.htm).</p>**\n",
        "\n",
        "**<h3>(1)  Run K-means clustering with Euclidean, Cosine and Jarcard similarity. Specify K= the number of categorical values of y (the variable of label). Compare the SSEs of Euclidean-Kmeans Cosine-K-means, Jarcard-K-means. Which method is better?.</h3>**\n",
        "\n",
        "**<h3>(2) Compare the accuracies of Euclidean-K-means Cosine-K-means, Jarcard-K-means. First, label each cluster with the label of the highest votes. Later, compute the accuracy of the Kmeans with respect to the three similarity metrics. Which metric is better?.</h3>**\n",
        "\n",
        "**<h3>(3) Which of Euclidean-K-means, Cosine-K-means, Jarcard-K-means requires more iterations and times?.</h3>**\n",
        "\n",
        "**<h3>(4) Compare the SSEs of Euclidean-K-means Cosine-K-means, Jarcard-K-means with respect to the following three terminating conditions:</h3>**\n",
        "* **when there is no change in centroid position**\n",
        "* **when the SSE value increases in the next iteration**\n",
        "* **when the maximum preset value (100) of iteration is complete**\n",
        "\n",
        "**<h3>Which method requires more time or more iterations?</h3>**\n",
        "</body>\n",
        "</html>"
      ]
    },
    {
      "cell_type": "markdown",
      "metadata": {
        "id": "7jZ1cseX_Hdc"
      },
      "source": [
        "<!DOCTYPE html>\n",
        "<html>\n",
        "<body>\n",
        "\n",
        "**<h3>(1)  Run K-means clustering with Euclidean, Cosine and Jarcard similarity. Specify K= the number of categorical values of y (the variable of label). Compare the SSEs of Euclidean-Kmeans Cosine-K-means, Jarcard-K-means. Which method is better?.</h3>**\n",
        "\n",
        "</body>\n",
        "</html>"
      ]
    },
    {
      "cell_type": "code",
      "metadata": {
        "id": "w0KWKxyk_amw",
        "colab": {
          "resources": {
            "http://localhost:8080/nbextensions/google.colab/files.js": {
              "data": "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",
              "ok": true,
              "headers": [
                [
                  "content-type",
                  "application/javascript"
                ]
              ],
              "status": 200,
              "status_text": ""
            }
          },
          "base_uri": "https://localhost:8080/",
          "height": 106
        },
        "cellView": "form",
        "outputId": "3efb72b9-c26d-407f-83fe-d511e3c46074"
      },
      "source": [
        "#@title Import Iris data set\n",
        "from google.colab import files\n",
        "uploaded = files.upload()"
      ],
      "execution_count": 119,
      "outputs": [
        {
          "output_type": "display_data",
          "data": {
            "text/html": [
              "\n",
              "     <input type=\"file\" id=\"files-eddbdbb5-dbbc-4b65-9724-a5391d92d262\" name=\"files[]\" multiple disabled\n",
              "        style=\"border:none\" />\n",
              "     <output id=\"result-eddbdbb5-dbbc-4b65-9724-a5391d92d262\">\n",
              "      Upload widget is only available when the cell has been executed in the\n",
              "      current browser session. Please rerun this cell to enable.\n",
              "      </output>\n",
              "      <script src=\"/nbextensions/google.colab/files.js\"></script> "
            ],
            "text/plain": [
              "<IPython.core.display.HTML object>"
            ]
          },
          "metadata": {
            "tags": []
          }
        },
        {
          "output_type": "stream",
          "text": [
            "Saving iris.data to iris (2).data\n",
            "Saving iris.names to iris (2).names\n"
          ],
          "name": "stdout"
        }
      ]
    },
    {
      "cell_type": "code",
      "metadata": {
        "id": "bhB41VMvD9io",
        "colab": {
          "base_uri": "https://localhost:8080/",
          "height": 204
        },
        "cellView": "form",
        "outputId": "d31c5a32-04cd-4927-83af-636bd9ccb1dc"
      },
      "source": [
        "#@title Read train and test data sets\n",
        "# read train datasets\n",
        "data = pd.read_csv('iris.data')\n",
        "data.columns =['sepal length (cm)', 'sepal width (cm)', 'petal length (cm)', 'petal width (cm)', 'class']\n",
        "data.head()"
      ],
      "execution_count": 120,
      "outputs": [
        {
          "output_type": "execute_result",
          "data": {
            "text/html": [
              "<div>\n",
              "<style scoped>\n",
              "    .dataframe tbody tr th:only-of-type {\n",
              "        vertical-align: middle;\n",
              "    }\n",
              "\n",
              "    .dataframe tbody tr th {\n",
              "        vertical-align: top;\n",
              "    }\n",
              "\n",
              "    .dataframe thead th {\n",
              "        text-align: right;\n",
              "    }\n",
              "</style>\n",
              "<table border=\"1\" class=\"dataframe\">\n",
              "  <thead>\n",
              "    <tr style=\"text-align: right;\">\n",
              "      <th></th>\n",
              "      <th>sepal length (cm)</th>\n",
              "      <th>sepal width (cm)</th>\n",
              "      <th>petal length (cm)</th>\n",
              "      <th>petal width (cm)</th>\n",
              "      <th>class</th>\n",
              "    </tr>\n",
              "  </thead>\n",
              "  <tbody>\n",
              "    <tr>\n",
              "      <th>0</th>\n",
              "      <td>4.9</td>\n",
              "      <td>3.0</td>\n",
              "      <td>1.4</td>\n",
              "      <td>0.2</td>\n",
              "      <td>Iris-setosa</td>\n",
              "    </tr>\n",
              "    <tr>\n",
              "      <th>1</th>\n",
              "      <td>4.7</td>\n",
              "      <td>3.2</td>\n",
              "      <td>1.3</td>\n",
              "      <td>0.2</td>\n",
              "      <td>Iris-setosa</td>\n",
              "    </tr>\n",
              "    <tr>\n",
              "      <th>2</th>\n",
              "      <td>4.6</td>\n",
              "      <td>3.1</td>\n",
              "      <td>1.5</td>\n",
              "      <td>0.2</td>\n",
              "      <td>Iris-setosa</td>\n",
              "    </tr>\n",
              "    <tr>\n",
              "      <th>3</th>\n",
              "      <td>5.0</td>\n",
              "      <td>3.6</td>\n",
              "      <td>1.4</td>\n",
              "      <td>0.2</td>\n",
              "      <td>Iris-setosa</td>\n",
              "    </tr>\n",
              "    <tr>\n",
              "      <th>4</th>\n",
              "      <td>5.4</td>\n",
              "      <td>3.9</td>\n",
              "      <td>1.7</td>\n",
              "      <td>0.4</td>\n",
              "      <td>Iris-setosa</td>\n",
              "    </tr>\n",
              "  </tbody>\n",
              "</table>\n",
              "</div>"
            ],
            "text/plain": [
              "   sepal length (cm)  sepal width (cm)  ...  petal width (cm)        class\n",
              "0                4.9               3.0  ...               0.2  Iris-setosa\n",
              "1                4.7               3.2  ...               0.2  Iris-setosa\n",
              "2                4.6               3.1  ...               0.2  Iris-setosa\n",
              "3                5.0               3.6  ...               0.2  Iris-setosa\n",
              "4                5.4               3.9  ...               0.4  Iris-setosa\n",
              "\n",
              "[5 rows x 5 columns]"
            ]
          },
          "metadata": {
            "tags": []
          },
          "execution_count": 120
        }
      ]
    },
    {
      "cell_type": "code",
      "metadata": {
        "id": "N3Z3OYbREMwg",
        "colab": {
          "base_uri": "https://localhost:8080/"
        },
        "cellView": "form",
        "outputId": "482a15b3-71e8-41d2-9215-739611f1ccc1"
      },
      "source": [
        "#@title Print features\n",
        "print (data['class'].unique())\n",
        "print (data['class'].value_counts().count())"
      ],
      "execution_count": 121,
      "outputs": [
        {
          "output_type": "stream",
          "text": [
            "['Iris-setosa' 'Iris-versicolor' 'Iris-virginica']\n",
            "3\n"
          ],
          "name": "stdout"
        }
      ]
    },
    {
      "cell_type": "code",
      "metadata": {
        "id": "U18YHxV3FqjK",
        "colab": {
          "base_uri": "https://localhost:8080/"
        },
        "cellView": "form",
        "outputId": "cabbcd2d-a248-46bc-b6ce-b8334dadf358"
      },
      "source": [
        "#@title Print number of training data\n",
        "columns =['sepal length (cm)', 'sepal width (cm)', 'petal length (cm)', 'petal width (cm)']\n",
        "iris_data = data[columns]\n",
        "iris_data = iris_data.to_numpy()\n",
        "\n",
        "iris_target = pd.DataFrame(data['class'])\n",
        "iris_target.loc[iris_target['class']=='Iris-setosa','class']=0\n",
        "iris_target.loc[iris_target['class']=='Iris-versicolor','class']=1\n",
        "iris_target.loc[iris_target['class']=='Iris-virginica','class']=2\n",
        "iris_target = iris_target.to_numpy()\n",
        "\n",
        "# Number of training data\n",
        "n = iris_data.shape[0]\n",
        "print('number of training data = {}'.format(n))\n",
        "# Number of features in the data\n",
        "c = iris_data.shape[1]\n",
        "print('Number of features = {}'.format(c))\n"
      ],
      "execution_count": 122,
      "outputs": [
        {
          "output_type": "stream",
          "text": [
            "number of training data = 149\n",
            "Number of features = 4\n"
          ],
          "name": "stdout"
        }
      ]
    },
    {
      "cell_type": "code",
      "metadata": {
        "id": "_Y9eHh7XsOcp",
        "colab": {
          "base_uri": "https://localhost:8080/",
          "height": 308
        },
        "cellView": "form",
        "outputId": "3a003539-38ca-45d0-c022-d86227cd41e7"
      },
      "source": [
        "#@title Plot the data\n",
        "colors=['orange', 'blue', 'green']\n",
        "for i in range(n):\n",
        "    plt.scatter(iris_data[i, 0], iris_data[i,1], s=7, color = colors[int(iris_target[i])])\n",
        "plt.suptitle(\"Iris Data\\n\", fontsize=16)\n",
        "plt.xlabel('sepal length (cm)')\n",
        "plt.ylabel('sepal width (cm)')\n",
        "plt.show();"
      ],
      "execution_count": 123,
      "outputs": [
        {
          "output_type": "display_data",
          "data": {
            "image/png": "[encoded data removed]",
            "text/plain": [
              "<Figure size 432x288 with 1 Axes>"
            ]
          },
          "metadata": {
            "tags": [],
            "needs_background": "light"
          }
        }
      ]
    },
    {
      "cell_type": "code",
      "metadata": {
        "id": "TIyntaqRwRVe",
        "colab": {
          "base_uri": "https://localhost:8080/"
        },
        "cellView": "form",
        "outputId": "a0dada9c-23ef-451c-e4dd-a57646fec186"
      },
      "source": [
        "#@title Compute Euclidean SSE\n",
        "clf = K_Means(k=3, distance_metric='euclidean', tolerance=0.001, max_iterations=1000, seed=None, centroid_initializations = None)\n",
        "centroids, cluster_assignment = clf.fit(iris_data)\n",
        "\n",
        "SSE = computeSSE(iris_data, cluster_assignment, centroids)\n",
        "print(SSE)\n",
        "\n",
        "\n"
      ],
      "execution_count": 130,
      "outputs": [
        {
          "output_type": "stream",
          "text": [
            "78.923033172916\n"
          ],
          "name": "stdout"
        }
      ]
    },
    {
      "cell_type": "code",
      "metadata": {
        "id": "jvCghby7wKjw",
        "colab": {
          "base_uri": "https://localhost:8080/",
          "height": 308
        },
        "cellView": "form",
        "outputId": "fc68bb0f-89cf-4248-dcfa-1b989ebdc572"
      },
      "source": [
        "#@title Plot the Data\n",
        "colors=['orange', 'blue', 'green']\n",
        "for i in range(n):\n",
        "    plt.scatter(iris_data[i, 0], iris_data[i,1], s=7, color = colors[int(iris_target[i])])\n",
        "plt.scatter(centroids[:,0], centroids[:,1], marker='*', c='g', s=150)\n",
        "plt.suptitle(\"Iris Data\\n\", fontsize=16)\n",
        "plt.xlabel('sepal length (cm)')\n",
        "plt.ylabel('sepal width (cm)')\n",
        "plt.show();"
      ],
      "execution_count": 134,
      "outputs": [
        {
          "output_type": "display_data",
          "data": {
            "image/png": "[encoded data removed]",
            "text/plain": [
              "<Figure size 432x288 with 1 Axes>"
            ]
          },
          "metadata": {
            "tags": [],
            "needs_background": "light"
          }
        }
      ]
    },
    {
      "cell_type": "code",
      "metadata": {
        "id": "LvA2Xv3oyK1Q",
        "colab": {
          "base_uri": "https://localhost:8080/"
        },
        "cellView": "form",
        "outputId": "8f014197-2130-4e2d-d505-6cf49f69a701"
      },
      "source": [
        "#@title Compute Cosine SSE\n",
        "clf = K_Means(k=3, distance_metric='cosine', tolerance=0.001, max_iterations=1000, seed=None, centroid_initializations = None)\n",
        "centroids, cluster_assignment = clf.fit(iris_data)\n",
        "\n",
        "SSE = computeSSE(iris_data, cluster_assignment, centroids)\n",
        "print(SSE)\n"
      ],
      "execution_count": 132,
      "outputs": [
        {
          "output_type": "stream",
          "text": [
            "84.38799085474415\n"
          ],
          "name": "stdout"
        }
      ]
    },
    {
      "cell_type": "code",
      "metadata": {
        "id": "Yinxh7HlSyBW",
        "colab": {
          "base_uri": "https://localhost:8080/",
          "height": 308
        },
        "cellView": "form",
        "outputId": "1cb75d24-0542-4e27-87bd-47e9611daeb1"
      },
      "source": [
        "#@title Plot the Data\n",
        "colors=['orange', 'blue', 'green']\n",
        "for i in range(n):\n",
        "    plt.scatter(iris_data[i, 0], iris_data[i,1], s=7, color = colors[int(iris_target[i])])\n",
        "plt.scatter(centroids[:,0], centroids[:,1], marker='*', c='g', s=150)\n",
        "plt.suptitle(\"Iris Data\\n\", fontsize=16)\n",
        "plt.xlabel('sepal length (cm)')\n",
        "plt.ylabel('sepal width (cm)')\n",
        "plt.show();"
      ],
      "execution_count": 133,
      "outputs": [
        {
          "output_type": "display_data",
          "data": {
            "image/png": "[encoded data removed]",
            "text/plain": [
              "<Figure size 432x288 with 1 Axes>"
            ]
          },
          "metadata": {
            "tags": [],
            "needs_background": "light"
          }
        }
      ]
    },
    {
      "cell_type": "code",
      "metadata": {
        "id": "YyHwMzM_-pFM",
        "cellView": "form"
      },
      "source": [
        "#@title Compute Jiccard SSE\n",
        "#clf = K_Means(k=3, distance_metric='jaccard', tolerance=0.001, max_iterations=1000, seed=None, centroid_initializations = None)\n",
        "centroids, cluster_assignment = clf.fit(iris_data)\n",
        "\n",
        "#SSE = computeSSE(iris_data, cluster_assignment, centroids)\n",
        "#print(SSE)"
      ],
      "execution_count": null,
      "outputs": []
    },
    {
      "cell_type": "markdown",
      "metadata": {
        "id": "tjB8j43gUJgS"
      },
      "source": [
        ""
      ]
    }
  ]
}