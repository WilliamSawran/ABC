{
  "nbformat": 4,
  "nbformat_minor": 0,
  "metadata": {
    "colab": {
      "name": "TextMiningHW2.ipynb",
      "provenance": [],
      "collapsed_sections": [],
      "toc_visible": true,
      "include_colab_link": true
    },
    "kernelspec": {
      "name": "python3",
      "display_name": "Python 3"
    },
    "language_info": {
      "name": "python"
    }
  },
  "cells": [
    {
      "cell_type": "markdown",
      "metadata": {
        "id": "view-in-github",
        "colab_type": "text"
      },
      "source": [
        "<a href=\"https://colab.research.google.com/github/WilliamSawran/ABC/blob/master/TextMiningHW2.ipynb\" target=\"_parent\"><img src=\"https://colab.research.google.com/assets/colab-badge.svg\" alt=\"Open In Colab\"/></a>"
      ]
    },
    {
      "cell_type": "code",
      "metadata": {
        "colab": {
          "base_uri": "https://localhost:8080/"
        },
        "id": "caY120_tSlg4",
        "outputId": "1b49c612-11bb-4624-da05-9185f883f105"
      },
      "source": [
        "from google.colab import drive\n",
        "drive.mount('/content/drive')"
      ],
      "execution_count": 1,
      "outputs": [
        {
          "output_type": "stream",
          "name": "stdout",
          "text": [
            "Drive already mounted at /content/drive; to attempt to forcibly remount, call drive.mount(\"/content/drive\", force_remount=True).\n"
          ]
        }
      ]
    },
    {
      "cell_type": "code",
      "metadata": {
        "id": "h7d4bxiDfCs4"
      },
      "source": [
        "!ls /content/drive/'My Drive'/"
      ],
      "execution_count": null,
      "outputs": []
    },
    {
      "cell_type": "code",
      "metadata": {
        "colab": {
          "base_uri": "https://localhost:8080/"
        },
        "id": "Ic910DrZfjLT",
        "outputId": "7e30aa48-2e53-4e32-cffc-d0a6dc95428f"
      },
      "source": [
        "import sys\n",
        "import os\n",
        "from os import listdir\n",
        "from os.path import isfile, join\n",
        "import pathlib\n",
        "\n",
        "#data_dir = pathlib.Path(\"/content/drive/'My Drive'/\").parent\n",
        "train_data_dir = pathlib.Path(\"/content/drive/My Drive/20_newsgroup/20news-bydate-train\")\n",
        "test_data_dir = pathlib.Path(\"/content/drive/My Drive/20_newsgroup/20news-bydate-test\")\n",
        "\n",
        "train_dirnames = os.listdir(train_data_dir)\n",
        "print(\"Training Data:\")\n",
        "print(\"Number of directories:\", len(train_dirnames))\n",
        "print(\"Directory names:\", train_dirnames)\n",
        "filenames = os.listdir(train_data_dir / \"rec.autos\")\n",
        "print(\"\\tNumber of files in rec.autos:\", len(filenames))\n",
        "print(\"\\tSome example filenames:\", filenames[:5])\n",
        "filenames = os.listdir(train_data_dir / \"comp.sys.mac.hardware\")\n",
        "print(\"\\tNumber of files in comp.sys.mac.hardware:\", len(filenames))\n",
        "print(\"\\tSome example filenames:\", filenames[:5])\n",
        "\n",
        "test_dirnames = os.listdir(test_data_dir)\n",
        "print(\"\\nTesting Data:\")\n",
        "print(\"Number of directories:\", len(test_dirnames))\n",
        "print(\"Directory names:\", test_dirnames)\n",
        "filenames = os.listdir(test_data_dir / \"rec.autos\")\n",
        "print(\"\\tNumber of files in rec.autos:\", len(filenames))\n",
        "print(\"\\tSome example filenames:\", filenames[:5])\n",
        "filenames = os.listdir(test_data_dir / \"comp.sys.mac.hardware\")\n",
        "print(\"\\tNumber of files in comp.sys.mac.hardware:\", len(filenames))\n",
        "print(\"\\tSome example filenames:\", filenames[:5])\n",
        "\n",
        "print(\"\\ntrain_folders\")\n",
        "train_folders = [f for f in train_dirnames]\n",
        "print(train_folders)\n",
        "print(\"\\ntest_folders\")\n",
        "test_folders = [f for f in test_dirnames]\n",
        "print(test_folders)"
      ],
      "execution_count": 3,
      "outputs": [
        {
          "output_type": "stream",
          "name": "stdout",
          "text": [
            "Training Data:\n",
            "Number of directories: 2\n",
            "Directory names: ['comp.sys.mac.hardware', 'rec.autos']\n",
            "\tNumber of files in rec.autos: 594\n",
            "\tSome example filenames: ['101595', '101598', '101577', '101593', '101562']\n",
            "\tNumber of files in comp.sys.mac.hardware: 578\n",
            "\tSome example filenames: ['50428', '50464', '50458', '50483', '50435']\n",
            "\n",
            "Training Data:\n",
            "Number of directories: 2\n",
            "Directory names: ['rec.autos', 'comp.sys.mac.hardware']\n",
            "\tNumber of files in rec.autos: 396\n",
            "\tSome example filenames: ['103270', '103037', '103439', '103417', '103339']\n",
            "\tNumber of files in comp.sys.mac.hardware: 385\n",
            "\tSome example filenames: ['51965', '51984', '51982', '51997', '51978']\n",
            "\n",
            "train_folders\n",
            "['comp.sys.mac.hardware', 'rec.autos']\n",
            "\n",
            "test_folders\n",
            "['rec.autos', 'comp.sys.mac.hardware']\n"
          ]
        }
      ]
    },
    {
      "cell_type": "code",
      "metadata": {
        "id": "msZV2qO2AWMa"
      },
      "source": [
        "#creating a 2D list to store list of all files in different folders\n",
        "\n",
        "train_files = []\n",
        "for train_folder_name in train_folders:\n",
        "  train_folder_path = join(train_data_dir, train_folder_name)\n",
        "  for f in listdir(train_folder_path):\n",
        "    train_file_path = join(train_data_dir, train_folder_name, f)\n",
        "    train_files.append(train_file_path)\n",
        "\n",
        "test_files = []\n",
        "for test_folder_name in test_folders:\n",
        "  test_folder_path = join(test_data_dir, test_folder_name)\n",
        "  for f in listdir(test_folder_path):\n",
        "    test_file_path = join(test_data_dir, test_folder_name, f)\n",
        "    test_files.append(test_file_path)\n",
        "\n"
      ],
      "execution_count": 46,
      "outputs": []
    },
    {
      "cell_type": "code",
      "metadata": {
        "colab": {
          "base_uri": "https://localhost:8080/"
        },
        "id": "LNurwiuZAd3N",
        "outputId": "826e2c6b-09cd-40f5-b5bb-06fd1290371f"
      },
      "source": [
        "#checking total no. of files gathered\n",
        "print(len(train_files))\n",
        "print(train_files)\n",
        "\n",
        "#checking total no. of files gathered\n",
        "print(len(test_files))\n",
        "print(test_files)"
      ],
      "execution_count": 40,
      "outputs": [
        {
          "output_type": "stream",
          "name": "stdout",
          "text": [
            "1172\n",
            "['/content/drive/My Drive/20_newsgroup/20news-bydate-train/comp.sys.mac.hardware/50428', '/content/drive/My Drive/20_newsgroup/20news-bydate-train/comp.sys.mac.hardware/50464', '/content/drive/My Drive/20_newsgroup/20news-bydate-train/comp.sys.mac.hardware/50458', '/content/drive/My Drive/20_newsgroup/20news-bydate-train/comp.sys.mac.hardware/50483', '/content/drive/My Drive/20_newsgroup/20news-bydate-train/comp.sys.mac.hardware/50435', '/content/drive/My Drive/20_newsgroup/20news-bydate-train/comp.sys.mac.hardware/50500', '/content/drive/My Drive/20_newsgroup/20news-bydate-train/comp.sys.mac.hardware/50462', '/content/drive/My Drive/20_newsgroup/20news-bydate-train/comp.sys.mac.hardware/50501', '/content/drive/My Drive/20_newsgroup/20news-bydate-train/comp.sys.mac.hardware/50422', '/content/drive/My Drive/20_newsgroup/20news-bydate-train/comp.sys.mac.hardware/50479', '/content/drive/My Drive/20_newsgroup/20news-bydate-train/comp.sys.mac.hardware/50441', '/content/drive/My Drive/20_newsgroup/20news-bydate-train/comp.sys.mac.hardware/50511', '/content/drive/My Drive/20_newsgroup/20news-bydate-train/comp.sys.mac.hardware/50445', '/content/drive/My Drive/20_newsgroup/20news-bydate-train/comp.sys.mac.hardware/50534', '/content/drive/My Drive/20_newsgroup/20news-bydate-train/comp.sys.mac.hardware/50426', '/content/drive/My Drive/20_newsgroup/20news-bydate-train/comp.sys.mac.hardware/50487', '/content/drive/My Drive/20_newsgroup/20news-bydate-train/comp.sys.mac.hardware/50518', '/content/drive/My Drive/20_newsgroup/20news-bydate-train/comp.sys.mac.hardware/50457', '/content/drive/My Drive/20_newsgroup/20news-bydate-train/comp.sys.mac.hardware/50421', '/content/drive/My Drive/20_newsgroup/20news-bydate-train/comp.sys.mac.hardware/50466', '/content/drive/My Drive/20_newsgroup/20news-bydate-train/comp.sys.mac.hardware/50465', '/content/drive/My Drive/20_newsgroup/20news-bydate-train/comp.sys.mac.hardware/50482', '/content/drive/My Drive/20_newsgroup/20news-bydate-train/comp.sys.mac.hardware/50434', '/content/drive/My Drive/20_newsgroup/20news-bydate-train/comp.sys.mac.hardware/50508', '/content/drive/My Drive/20_newsgroup/20news-bydate-train/comp.sys.mac.hardware/50477', '/content/drive/My Drive/20_newsgroup/20news-bydate-train/comp.sys.mac.hardware/50484', '/content/drive/My Drive/20_newsgroup/20news-bydate-train/comp.sys.mac.hardware/50478', '/content/drive/My Drive/20_newsgroup/20news-bydate-train/comp.sys.mac.hardware/50523', '/content/drive/My Drive/20_newsgroup/20news-bydate-train/comp.sys.mac.hardware/50476', '/content/drive/My Drive/20_newsgroup/20news-bydate-train/comp.sys.mac.hardware/50496', '/content/drive/My Drive/20_newsgroup/20news-bydate-train/comp.sys.mac.hardware/50486', '/content/drive/My Drive/20_newsgroup/20news-bydate-train/comp.sys.mac.hardware/50448', '/content/drive/My Drive/20_newsgroup/20news-bydate-train/comp.sys.mac.hardware/50440', '/content/drive/My Drive/20_newsgroup/20news-bydate-train/comp.sys.mac.hardware/50433', '/content/drive/My Drive/20_newsgroup/20news-bydate-train/comp.sys.mac.hardware/50536', '/content/drive/My Drive/20_newsgroup/20news-bydate-train/comp.sys.mac.hardware/50446', '/content/drive/My Drive/20_newsgroup/20news-bydate-train/comp.sys.mac.hardware/50450', '/content/drive/My Drive/20_newsgroup/20news-bydate-train/comp.sys.mac.hardware/50550', '/content/drive/My Drive/20_newsgroup/20news-bydate-train/comp.sys.mac.hardware/50456', '/content/drive/My Drive/20_newsgroup/20news-bydate-train/comp.sys.mac.hardware/50489', '/content/drive/My Drive/20_newsgroup/20news-bydate-train/comp.sys.mac.hardware/50522', '/content/drive/My Drive/20_newsgroup/20news-bydate-train/comp.sys.mac.hardware/50530', '/content/drive/My Drive/20_newsgroup/20news-bydate-train/comp.sys.mac.hardware/50467', '/content/drive/My Drive/20_newsgroup/20news-bydate-train/comp.sys.mac.hardware/50485', '/content/drive/My Drive/20_newsgroup/20news-bydate-train/comp.sys.mac.hardware/50509', '/content/drive/My Drive/20_newsgroup/20news-bydate-train/comp.sys.mac.hardware/50473', '/content/drive/My Drive/20_newsgroup/20news-bydate-train/comp.sys.mac.hardware/50439', '/content/drive/My Drive/20_newsgroup/20news-bydate-train/comp.sys.mac.hardware/50494', '/content/drive/My Drive/20_newsgroup/20news-bydate-train/comp.sys.mac.hardware/50419', '/content/drive/My Drive/20_newsgroup/20news-bydate-train/comp.sys.mac.hardware/50427', '/content/drive/My Drive/20_newsgroup/20news-bydate-train/comp.sys.mac.hardware/50521', '/content/drive/My Drive/20_newsgroup/20news-bydate-train/comp.sys.mac.hardware/50510', '/content/drive/My Drive/20_newsgroup/20news-bydate-train/comp.sys.mac.hardware/50447', '/content/drive/My Drive/20_newsgroup/20news-bydate-train/comp.sys.mac.hardware/50537', '/content/drive/My Drive/20_newsgroup/20news-bydate-train/comp.sys.mac.hardware/50444', '/content/drive/My Drive/20_newsgroup/20news-bydate-train/comp.sys.mac.hardware/50497', '/content/drive/My Drive/20_newsgroup/20news-bydate-train/comp.sys.mac.hardware/50492', '/content/drive/My Drive/20_newsgroup/20news-bydate-train/comp.sys.mac.hardware/50460', '/content/drive/My Drive/20_newsgroup/20news-bydate-train/comp.sys.mac.hardware/50535', '/content/drive/My Drive/20_newsgroup/20news-bydate-train/comp.sys.mac.hardware/50425', '/content/drive/My Drive/20_newsgroup/20news-bydate-train/comp.sys.mac.hardware/50495', '/content/drive/My Drive/20_newsgroup/20news-bydate-train/comp.sys.mac.hardware/50453', '/content/drive/My Drive/20_newsgroup/20news-bydate-train/comp.sys.mac.hardware/50474', '/content/drive/My Drive/20_newsgroup/20news-bydate-train/comp.sys.mac.hardware/50488', '/content/drive/My Drive/20_newsgroup/20news-bydate-train/comp.sys.mac.hardware/50418', '/content/drive/My Drive/20_newsgroup/20news-bydate-train/comp.sys.mac.hardware/50475', '/content/drive/My Drive/20_newsgroup/20news-bydate-train/comp.sys.mac.hardware/50463', '/content/drive/My Drive/20_newsgroup/20news-bydate-train/comp.sys.mac.hardware/50498', '/content/drive/My Drive/20_newsgroup/20news-bydate-train/comp.sys.mac.hardware/50507', '/content/drive/My Drive/20_newsgroup/20news-bydate-train/comp.sys.mac.hardware/50459', '/content/drive/My Drive/20_newsgroup/20news-bydate-train/comp.sys.mac.hardware/50452', '/content/drive/My Drive/20_newsgroup/20news-bydate-train/comp.sys.mac.hardware/50547', '/content/drive/My Drive/20_newsgroup/20news-bydate-train/comp.sys.mac.hardware/50539', '/content/drive/My Drive/20_newsgroup/20news-bydate-train/comp.sys.mac.hardware/50519', '/content/drive/My Drive/20_newsgroup/20news-bydate-train/comp.sys.mac.hardware/50455', '/content/drive/My Drive/20_newsgroup/20news-bydate-train/comp.sys.mac.hardware/50443', '/content/drive/My Drive/20_newsgroup/20news-bydate-train/comp.sys.mac.hardware/50499', '/content/drive/My Drive/20_newsgroup/20news-bydate-train/comp.sys.mac.hardware/50449', '/content/drive/My Drive/20_newsgroup/20news-bydate-train/comp.sys.mac.hardware/50432', '/content/drive/My Drive/20_newsgroup/20news-bydate-train/comp.sys.mac.hardware/50454', '/content/drive/My Drive/20_newsgroup/20news-bydate-train/comp.sys.mac.hardware/50520', '/content/drive/My Drive/20_newsgroup/20news-bydate-train/comp.sys.mac.hardware/50461', '/content/drive/My Drive/20_newsgroup/20news-bydate-train/comp.sys.mac.hardware/50468', '/content/drive/My Drive/20_newsgroup/20news-bydate-train/comp.sys.mac.hardware/50420', '/content/drive/My Drive/20_newsgroup/20news-bydate-train/comp.sys.mac.hardware/50490', '/content/drive/My Drive/20_newsgroup/20news-bydate-train/comp.sys.mac.hardware/50480', '/content/drive/My Drive/20_newsgroup/20news-bydate-train/comp.sys.mac.hardware/50493', '/content/drive/My Drive/20_newsgroup/20news-bydate-train/comp.sys.mac.hardware/50471', '/content/drive/My Drive/20_newsgroup/20news-bydate-train/comp.sys.mac.hardware/50472', '/content/drive/My Drive/20_newsgroup/20news-bydate-train/comp.sys.mac.hardware/50431', '/content/drive/My Drive/20_newsgroup/20news-bydate-train/comp.sys.mac.hardware/50506', '/content/drive/My Drive/20_newsgroup/20news-bydate-train/comp.sys.mac.hardware/50517', '/content/drive/My Drive/20_newsgroup/20news-bydate-train/comp.sys.mac.hardware/50437', '/content/drive/My Drive/20_newsgroup/20news-bydate-train/comp.sys.mac.hardware/50491', '/content/drive/My Drive/20_newsgroup/20news-bydate-train/comp.sys.mac.hardware/50451', '/content/drive/My Drive/20_newsgroup/20news-bydate-train/comp.sys.mac.hardware/50436', '/content/drive/My Drive/20_newsgroup/20news-bydate-train/comp.sys.mac.hardware/50469', '/content/drive/My Drive/20_newsgroup/20news-bydate-train/comp.sys.mac.hardware/51658', '/content/drive/My Drive/20_newsgroup/20news-bydate-train/comp.sys.mac.hardware/50528', '/content/drive/My Drive/20_newsgroup/20news-bydate-train/comp.sys.mac.hardware/51575', '/content/drive/My Drive/20_newsgroup/20news-bydate-train/comp.sys.mac.hardware/51503', '/content/drive/My Drive/20_newsgroup/20news-bydate-train/comp.sys.mac.hardware/51541', '/content/drive/My Drive/20_newsgroup/20news-bydate-train/comp.sys.mac.hardware/51567', '/content/drive/My Drive/20_newsgroup/20news-bydate-train/comp.sys.mac.hardware/51681', '/content/drive/My Drive/20_newsgroup/20news-bydate-train/comp.sys.mac.hardware/51574', '/content/drive/My Drive/20_newsgroup/20news-bydate-train/comp.sys.mac.hardware/51540', '/content/drive/My Drive/20_newsgroup/20news-bydate-train/comp.sys.mac.hardware/51710', '/content/drive/My Drive/20_newsgroup/20news-bydate-train/comp.sys.mac.hardware/51627', '/content/drive/My Drive/20_newsgroup/20news-bydate-train/comp.sys.mac.hardware/51714', '/content/drive/My Drive/20_newsgroup/20news-bydate-train/comp.sys.mac.hardware/50548', '/content/drive/My Drive/20_newsgroup/20news-bydate-train/comp.sys.mac.hardware/51628', '/content/drive/My Drive/20_newsgroup/20news-bydate-train/comp.sys.mac.hardware/50543', '/content/drive/My Drive/20_newsgroup/20news-bydate-train/comp.sys.mac.hardware/51664', '/content/drive/My Drive/20_newsgroup/20news-bydate-train/comp.sys.mac.hardware/51674', '/content/drive/My Drive/20_newsgroup/20news-bydate-train/comp.sys.mac.hardware/51662', '/content/drive/My Drive/20_newsgroup/20news-bydate-train/comp.sys.mac.hardware/51547', '/content/drive/My Drive/20_newsgroup/20news-bydate-train/comp.sys.mac.hardware/51636', '/content/drive/My Drive/20_newsgroup/20news-bydate-train/comp.sys.mac.hardware/51618', '/content/drive/My Drive/20_newsgroup/20news-bydate-train/comp.sys.mac.hardware/50533', '/content/drive/My Drive/20_newsgroup/20news-bydate-train/comp.sys.mac.hardware/51556', '/content/drive/My Drive/20_newsgroup/20news-bydate-train/comp.sys.mac.hardware/51706', '/content/drive/My Drive/20_newsgroup/20news-bydate-train/comp.sys.mac.hardware/51647', '/content/drive/My Drive/20_newsgroup/20news-bydate-train/comp.sys.mac.hardware/51677', '/content/drive/My Drive/20_newsgroup/20news-bydate-train/comp.sys.mac.hardware/51641', '/content/drive/My Drive/20_newsgroup/20news-bydate-train/comp.sys.mac.hardware/51550', '/content/drive/My Drive/20_newsgroup/20news-bydate-train/comp.sys.mac.hardware/51501', '/content/drive/My Drive/20_newsgroup/20news-bydate-train/comp.sys.mac.hardware/51723', '/content/drive/My Drive/20_newsgroup/20news-bydate-train/comp.sys.mac.hardware/52223', '/content/drive/My Drive/20_newsgroup/20news-bydate-train/comp.sys.mac.hardware/51543', '/content/drive/My Drive/20_newsgroup/20news-bydate-train/comp.sys.mac.hardware/51708', '/content/drive/My Drive/20_newsgroup/20news-bydate-train/comp.sys.mac.hardware/51525', '/content/drive/My Drive/20_newsgroup/20news-bydate-train/comp.sys.mac.hardware/50504', '/content/drive/My Drive/20_newsgroup/20news-bydate-train/comp.sys.mac.hardware/51509', '/content/drive/My Drive/20_newsgroup/20news-bydate-train/comp.sys.mac.hardware/51721', '/content/drive/My Drive/20_newsgroup/20news-bydate-train/comp.sys.mac.hardware/51685', '/content/drive/My Drive/20_newsgroup/20news-bydate-train/comp.sys.mac.hardware/51563', '/content/drive/My Drive/20_newsgroup/20news-bydate-train/comp.sys.mac.hardware/51702', '/content/drive/My Drive/20_newsgroup/20news-bydate-train/comp.sys.mac.hardware/51648', '/content/drive/My Drive/20_newsgroup/20news-bydate-train/comp.sys.mac.hardware/51595', '/content/drive/My Drive/20_newsgroup/20news-bydate-train/comp.sys.mac.hardware/51564', '/content/drive/My Drive/20_newsgroup/20news-bydate-train/comp.sys.mac.hardware/51516', '/content/drive/My Drive/20_newsgroup/20news-bydate-train/comp.sys.mac.hardware/51713', '/content/drive/My Drive/20_newsgroup/20news-bydate-train/comp.sys.mac.hardware/51634', '/content/drive/My Drive/20_newsgroup/20news-bydate-train/comp.sys.mac.hardware/51719', '/content/drive/My Drive/20_newsgroup/20news-bydate-train/comp.sys.mac.hardware/51555', '/content/drive/My Drive/20_newsgroup/20news-bydate-train/comp.sys.mac.hardware/50551', '/content/drive/My Drive/20_newsgroup/20news-bydate-train/comp.sys.mac.hardware/51692', '/content/drive/My Drive/20_newsgroup/20news-bydate-train/comp.sys.mac.hardware/51652', '/content/drive/My Drive/20_newsgroup/20news-bydate-train/comp.sys.mac.hardware/51635', '/content/drive/My Drive/20_newsgroup/20news-bydate-train/comp.sys.mac.hardware/51670', '/content/drive/My Drive/20_newsgroup/20news-bydate-train/comp.sys.mac.hardware/51560', '/content/drive/My Drive/20_newsgroup/20news-bydate-train/comp.sys.mac.hardware/51589', '/content/drive/My Drive/20_newsgroup/20news-bydate-train/comp.sys.mac.hardware/51523', '/content/drive/My Drive/20_newsgroup/20news-bydate-train/comp.sys.mac.hardware/50546', '/content/drive/My Drive/20_newsgroup/20news-bydate-train/comp.sys.mac.hardware/51548', '/content/drive/My Drive/20_newsgroup/20news-bydate-train/comp.sys.mac.hardware/51529', '/content/drive/My Drive/20_newsgroup/20news-bydate-train/comp.sys.mac.hardware/50423', '/content/drive/My Drive/20_newsgroup/20news-bydate-train/comp.sys.mac.hardware/51517', '/content/drive/My Drive/20_newsgroup/20news-bydate-train/comp.sys.mac.hardware/51508', '/content/drive/My Drive/20_newsgroup/20news-bydate-train/comp.sys.mac.hardware/51655', '/content/drive/My Drive/20_newsgroup/20news-bydate-train/comp.sys.mac.hardware/51527', '/content/drive/My Drive/20_newsgroup/20news-bydate-train/comp.sys.mac.hardware/51651', '/content/drive/My Drive/20_newsgroup/20news-bydate-train/comp.sys.mac.hardware/51735', '/content/drive/My Drive/20_newsgroup/20news-bydate-train/comp.sys.mac.hardware/50538', '/content/drive/My Drive/20_newsgroup/20news-bydate-train/comp.sys.mac.hardware/51601', '/content/drive/My Drive/20_newsgroup/20news-bydate-train/comp.sys.mac.hardware/51537', '/content/drive/My Drive/20_newsgroup/20news-bydate-train/comp.sys.mac.hardware/51571', '/content/drive/My Drive/20_newsgroup/20news-bydate-train/comp.sys.mac.hardware/51615', '/content/drive/My Drive/20_newsgroup/20news-bydate-train/comp.sys.mac.hardware/50502', '/content/drive/My Drive/20_newsgroup/20news-bydate-train/comp.sys.mac.hardware/51671', '/content/drive/My Drive/20_newsgroup/20news-bydate-train/comp.sys.mac.hardware/51536', '/content/drive/My Drive/20_newsgroup/20news-bydate-train/comp.sys.mac.hardware/51722', '/content/drive/My Drive/20_newsgroup/20news-bydate-train/comp.sys.mac.hardware/51661', '/content/drive/My Drive/20_newsgroup/20news-bydate-train/comp.sys.mac.hardware/51614', '/content/drive/My Drive/20_newsgroup/20news-bydate-train/comp.sys.mac.hardware/51646', '/content/drive/My Drive/20_newsgroup/20news-bydate-train/comp.sys.mac.hardware/51690', '/content/drive/My Drive/20_newsgroup/20news-bydate-train/comp.sys.mac.hardware/51551', '/content/drive/My Drive/20_newsgroup/20news-bydate-train/comp.sys.mac.hardware/51524', '/content/drive/My Drive/20_newsgroup/20news-bydate-train/comp.sys.mac.hardware/51639', '/content/drive/My Drive/20_newsgroup/20news-bydate-train/comp.sys.mac.hardware/51726', '/content/drive/My Drive/20_newsgroup/20news-bydate-train/comp.sys.mac.hardware/51642', '/content/drive/My Drive/20_newsgroup/20news-bydate-train/comp.sys.mac.hardware/51698', '/content/drive/My Drive/20_newsgroup/20news-bydate-train/comp.sys.mac.hardware/51570', '/content/drive/My Drive/20_newsgroup/20news-bydate-train/comp.sys.mac.hardware/51602', '/content/drive/My Drive/20_newsgroup/20news-bydate-train/comp.sys.mac.hardware/51557', '/content/drive/My Drive/20_newsgroup/20news-bydate-train/comp.sys.mac.hardware/51715', '/content/drive/My Drive/20_newsgroup/20news-bydate-train/comp.sys.mac.hardware/51584', '/content/drive/My Drive/20_newsgroup/20news-bydate-train/comp.sys.mac.hardware/51607', '/content/drive/My Drive/20_newsgroup/20news-bydate-train/comp.sys.mac.hardware/51622', '/content/drive/My Drive/20_newsgroup/20news-bydate-train/comp.sys.mac.hardware/51580', '/content/drive/My Drive/20_newsgroup/20news-bydate-train/comp.sys.mac.hardware/51603', '/content/drive/My Drive/20_newsgroup/20news-bydate-train/comp.sys.mac.hardware/51675', '/content/drive/My Drive/20_newsgroup/20news-bydate-train/comp.sys.mac.hardware/51621', '/content/drive/My Drive/20_newsgroup/20news-bydate-train/comp.sys.mac.hardware/51559', '/content/drive/My Drive/20_newsgroup/20news-bydate-train/comp.sys.mac.hardware/51701', '/content/drive/My Drive/20_newsgroup/20news-bydate-train/comp.sys.mac.hardware/51676', '/content/drive/My Drive/20_newsgroup/20news-bydate-train/comp.sys.mac.hardware/51531', '/content/drive/My Drive/20_newsgroup/20news-bydate-train/comp.sys.mac.hardware/51518', '/content/drive/My Drive/20_newsgroup/20news-bydate-train/comp.sys.mac.hardware/51717', '/content/drive/My Drive/20_newsgroup/20news-bydate-train/comp.sys.mac.hardware/51553', '/content/drive/My Drive/20_newsgroup/20news-bydate-train/comp.sys.mac.hardware/51569', '/content/drive/My Drive/20_newsgroup/20news-bydate-train/comp.sys.mac.hardware/51637', '/content/drive/My Drive/20_newsgroup/20news-bydate-train/comp.sys.mac.hardware/51581', '/content/drive/My Drive/20_newsgroup/20news-bydate-train/comp.sys.mac.hardware/51492', '/content/drive/My Drive/20_newsgroup/20news-bydate-train/comp.sys.mac.hardware/51565', '/content/drive/My Drive/20_newsgroup/20news-bydate-train/comp.sys.mac.hardware/51544', '/content/drive/My Drive/20_newsgroup/20news-bydate-train/comp.sys.mac.hardware/51669', '/content/drive/My Drive/20_newsgroup/20news-bydate-train/comp.sys.mac.hardware/51534', '/content/drive/My Drive/20_newsgroup/20news-bydate-train/comp.sys.mac.hardware/51684', '/content/drive/My Drive/20_newsgroup/20news-bydate-train/comp.sys.mac.hardware/51720', '/content/drive/My Drive/20_newsgroup/20news-bydate-train/comp.sys.mac.hardware/51554', '/content/drive/My Drive/20_newsgroup/20news-bydate-train/comp.sys.mac.hardware/51640', '/content/drive/My Drive/20_newsgroup/20news-bydate-train/comp.sys.mac.hardware/50525', '/content/drive/My Drive/20_newsgroup/20news-bydate-train/comp.sys.mac.hardware/51659', '/content/drive/My Drive/20_newsgroup/20news-bydate-train/comp.sys.mac.hardware/51572', '/content/drive/My Drive/20_newsgroup/20news-bydate-train/comp.sys.mac.hardware/51587', '/content/drive/My Drive/20_newsgroup/20news-bydate-train/comp.sys.mac.hardware/51498', '/content/drive/My Drive/20_newsgroup/20news-bydate-train/comp.sys.mac.hardware/51668', '/content/drive/My Drive/20_newsgroup/20news-bydate-train/comp.sys.mac.hardware/51734', '/content/drive/My Drive/20_newsgroup/20news-bydate-train/comp.sys.mac.hardware/51657', '/content/drive/My Drive/20_newsgroup/20news-bydate-train/comp.sys.mac.hardware/51578', '/content/drive/My Drive/20_newsgroup/20news-bydate-train/comp.sys.mac.hardware/51586', '/content/drive/My Drive/20_newsgroup/20news-bydate-train/comp.sys.mac.hardware/51608', '/content/drive/My Drive/20_newsgroup/20news-bydate-train/comp.sys.mac.hardware/51599', '/content/drive/My Drive/20_newsgroup/20news-bydate-train/comp.sys.mac.hardware/51711', '/content/drive/My Drive/20_newsgroup/20news-bydate-train/comp.sys.mac.hardware/50531', '/content/drive/My Drive/20_newsgroup/20news-bydate-train/comp.sys.mac.hardware/51730', '/content/drive/My Drive/20_newsgroup/20news-bydate-train/comp.sys.mac.hardware/51691', '/content/drive/My Drive/20_newsgroup/20news-bydate-train/comp.sys.mac.hardware/51689', '/content/drive/My Drive/20_newsgroup/20news-bydate-train/comp.sys.mac.hardware/51511', '/content/drive/My Drive/20_newsgroup/20news-bydate-train/comp.sys.mac.hardware/51545', '/content/drive/My Drive/20_newsgroup/20news-bydate-train/comp.sys.mac.hardware/51996', '/content/drive/My Drive/20_newsgroup/20news-bydate-train/comp.sys.mac.hardware/51505', '/content/drive/My Drive/20_newsgroup/20news-bydate-train/comp.sys.mac.hardware/51600', '/content/drive/My Drive/20_newsgroup/20news-bydate-train/comp.sys.mac.hardware/51582', '/content/drive/My Drive/20_newsgroup/20news-bydate-train/comp.sys.mac.hardware/51526', '/content/drive/My Drive/20_newsgroup/20news-bydate-train/comp.sys.mac.hardware/51497', '/content/drive/My Drive/20_newsgroup/20news-bydate-train/comp.sys.mac.hardware/51588', '/content/drive/My Drive/20_newsgroup/20news-bydate-train/comp.sys.mac.hardware/51606', '/content/drive/My Drive/20_newsgroup/20news-bydate-train/comp.sys.mac.hardware/50527', '/content/drive/My Drive/20_newsgroup/20news-bydate-train/comp.sys.mac.hardware/51666', '/content/drive/My Drive/20_newsgroup/20news-bydate-train/comp.sys.mac.hardware/51504', '/content/drive/My Drive/20_newsgroup/20news-bydate-train/comp.sys.mac.hardware/51699', '/content/drive/My Drive/20_newsgroup/20news-bydate-train/comp.sys.mac.hardware/51562', '/content/drive/My Drive/20_newsgroup/20news-bydate-train/comp.sys.mac.hardware/51704', '/content/drive/My Drive/20_newsgroup/20news-bydate-train/comp.sys.mac.hardware/51610', '/content/drive/My Drive/20_newsgroup/20news-bydate-train/comp.sys.mac.hardware/51649', '/content/drive/My Drive/20_newsgroup/20news-bydate-train/comp.sys.mac.hardware/51549', '/content/drive/My Drive/20_newsgroup/20news-bydate-train/comp.sys.mac.hardware/51576', '/content/drive/My Drive/20_newsgroup/20news-bydate-train/comp.sys.mac.hardware/51716', '/content/drive/My Drive/20_newsgroup/20news-bydate-train/comp.sys.mac.hardware/51494', '/content/drive/My Drive/20_newsgroup/20news-bydate-train/comp.sys.mac.hardware/51624', '/content/drive/My Drive/20_newsgroup/20news-bydate-train/comp.sys.mac.hardware/51552', '/content/drive/My Drive/20_newsgroup/20news-bydate-train/comp.sys.mac.hardware/51583', '/content/drive/My Drive/20_newsgroup/20news-bydate-train/comp.sys.mac.hardware/51724', '/content/drive/My Drive/20_newsgroup/20news-bydate-train/comp.sys.mac.hardware/51592', '/content/drive/My Drive/20_newsgroup/20news-bydate-train/comp.sys.mac.hardware/51084', '/content/drive/My Drive/20_newsgroup/20news-bydate-train/comp.sys.mac.hardware/51709', '/content/drive/My Drive/20_newsgroup/20news-bydate-train/comp.sys.mac.hardware/51727', '/content/drive/My Drive/20_newsgroup/20news-bydate-train/comp.sys.mac.hardware/51619', '/content/drive/My Drive/20_newsgroup/20news-bydate-train/comp.sys.mac.hardware/51502', '/content/drive/My Drive/20_newsgroup/20news-bydate-train/comp.sys.mac.hardware/51683', '/content/drive/My Drive/20_newsgroup/20news-bydate-train/comp.sys.mac.hardware/51617', '/content/drive/My Drive/20_newsgroup/20news-bydate-train/comp.sys.mac.hardware/51609', '/content/drive/My Drive/20_newsgroup/20news-bydate-train/comp.sys.mac.hardware/51507', '/content/drive/My Drive/20_newsgroup/20news-bydate-train/comp.sys.mac.hardware/51629', '/content/drive/My Drive/20_newsgroup/20news-bydate-train/comp.sys.mac.hardware/51546', '/content/drive/My Drive/20_newsgroup/20news-bydate-train/comp.sys.mac.hardware/51667', '/content/drive/My Drive/20_newsgroup/20news-bydate-train/comp.sys.mac.hardware/51687', '/content/drive/My Drive/20_newsgroup/20news-bydate-train/comp.sys.mac.hardware/51593', '/content/drive/My Drive/20_newsgroup/20news-bydate-train/comp.sys.mac.hardware/51660', '/content/drive/My Drive/20_newsgroup/20news-bydate-train/comp.sys.mac.hardware/51515', '/content/drive/My Drive/20_newsgroup/20news-bydate-train/comp.sys.mac.hardware/51573', '/content/drive/My Drive/20_newsgroup/20news-bydate-train/comp.sys.mac.hardware/51703', '/content/drive/My Drive/20_newsgroup/20news-bydate-train/comp.sys.mac.hardware/50524', '/content/drive/My Drive/20_newsgroup/20news-bydate-train/comp.sys.mac.hardware/51520', '/content/drive/My Drive/20_newsgroup/20news-bydate-train/comp.sys.mac.hardware/50544', '/content/drive/My Drive/20_newsgroup/20news-bydate-train/comp.sys.mac.hardware/51645', '/content/drive/My Drive/20_newsgroup/20news-bydate-train/comp.sys.mac.hardware/51729', '/content/drive/My Drive/20_newsgroup/20news-bydate-train/comp.sys.mac.hardware/51591', '/content/drive/My Drive/20_newsgroup/20news-bydate-train/comp.sys.mac.hardware/51500', '/content/drive/My Drive/20_newsgroup/20news-bydate-train/comp.sys.mac.hardware/51596', '/content/drive/My Drive/20_newsgroup/20news-bydate-train/comp.sys.mac.hardware/51665', '/content/drive/My Drive/20_newsgroup/20news-bydate-train/comp.sys.mac.hardware/51612', '/content/drive/My Drive/20_newsgroup/20news-bydate-train/comp.sys.mac.hardware/51514', '/content/drive/My Drive/20_newsgroup/20news-bydate-train/comp.sys.mac.hardware/51522', '/content/drive/My Drive/20_newsgroup/20news-bydate-train/comp.sys.mac.hardware/51604', '/content/drive/My Drive/20_newsgroup/20news-bydate-train/comp.sys.mac.hardware/51512', '/content/drive/My Drive/20_newsgroup/20news-bydate-train/comp.sys.mac.hardware/51695', '/content/drive/My Drive/20_newsgroup/20news-bydate-train/comp.sys.mac.hardware/51680', '/content/drive/My Drive/20_newsgroup/20news-bydate-train/comp.sys.mac.hardware/51521', '/content/drive/My Drive/20_newsgroup/20news-bydate-train/comp.sys.mac.hardware/51620', '/content/drive/My Drive/20_newsgroup/20news-bydate-train/comp.sys.mac.hardware/50549', '/content/drive/My Drive/20_newsgroup/20news-bydate-train/comp.sys.mac.hardware/51613', '/content/drive/My Drive/20_newsgroup/20news-bydate-train/comp.sys.mac.hardware/51513', '/content/drive/My Drive/20_newsgroup/20news-bydate-train/comp.sys.mac.hardware/51697', '/content/drive/My Drive/20_newsgroup/20news-bydate-train/comp.sys.mac.hardware/51638', '/content/drive/My Drive/20_newsgroup/20news-bydate-train/comp.sys.mac.hardware/51633', '/content/drive/My Drive/20_newsgroup/20news-bydate-train/comp.sys.mac.hardware/51611', '/content/drive/My Drive/20_newsgroup/20news-bydate-train/comp.sys.mac.hardware/51597', '/content/drive/My Drive/20_newsgroup/20news-bydate-train/comp.sys.mac.hardware/50552', '/content/drive/My Drive/20_newsgroup/20news-bydate-train/comp.sys.mac.hardware/51558', '/content/drive/My Drive/20_newsgroup/20news-bydate-train/comp.sys.mac.hardware/51495', '/content/drive/My Drive/20_newsgroup/20news-bydate-train/comp.sys.mac.hardware/51693', '/content/drive/My Drive/20_newsgroup/20news-bydate-train/comp.sys.mac.hardware/51530', '/content/drive/My Drive/20_newsgroup/20news-bydate-train/comp.sys.mac.hardware/51506', '/content/drive/My Drive/20_newsgroup/20news-bydate-train/comp.sys.mac.hardware/51616', '/content/drive/My Drive/20_newsgroup/20news-bydate-train/comp.sys.mac.hardware/51533', '/content/drive/My Drive/20_newsgroup/20news-bydate-train/comp.sys.mac.hardware/51493', '/content/drive/My Drive/20_newsgroup/20news-bydate-train/comp.sys.mac.hardware/51654', '/content/drive/My Drive/20_newsgroup/20news-bydate-train/comp.sys.mac.hardware/51594', '/content/drive/My Drive/20_newsgroup/20news-bydate-train/comp.sys.mac.hardware/51561', '/content/drive/My Drive/20_newsgroup/20news-bydate-train/comp.sys.mac.hardware/51725', '/content/drive/My Drive/20_newsgroup/20news-bydate-train/comp.sys.mac.hardware/50505', '/content/drive/My Drive/20_newsgroup/20news-bydate-train/comp.sys.mac.hardware/51712', '/content/drive/My Drive/20_newsgroup/20news-bydate-train/comp.sys.mac.hardware/50514', '/content/drive/My Drive/20_newsgroup/20news-bydate-train/comp.sys.mac.hardware/51538', '/content/drive/My Drive/20_newsgroup/20news-bydate-train/comp.sys.mac.hardware/51499', '/content/drive/My Drive/20_newsgroup/20news-bydate-train/comp.sys.mac.hardware/51605', '/content/drive/My Drive/20_newsgroup/20news-bydate-train/comp.sys.mac.hardware/51688', '/content/drive/My Drive/20_newsgroup/20news-bydate-train/comp.sys.mac.hardware/51700', '/content/drive/My Drive/20_newsgroup/20news-bydate-train/comp.sys.mac.hardware/51577', '/content/drive/My Drive/20_newsgroup/20news-bydate-train/comp.sys.mac.hardware/51579', '/content/drive/My Drive/20_newsgroup/20news-bydate-train/comp.sys.mac.hardware/50526', '/content/drive/My Drive/20_newsgroup/20news-bydate-train/comp.sys.mac.hardware/51630', '/content/drive/My Drive/20_newsgroup/20news-bydate-train/comp.sys.mac.hardware/51598', '/content/drive/My Drive/20_newsgroup/20news-bydate-train/comp.sys.mac.hardware/51759', '/content/drive/My Drive/20_newsgroup/20news-bydate-train/comp.sys.mac.hardware/50512', '/content/drive/My Drive/20_newsgroup/20news-bydate-train/comp.sys.mac.hardware/51528', '/content/drive/My Drive/20_newsgroup/20news-bydate-train/comp.sys.mac.hardware/51625', '/content/drive/My Drive/20_newsgroup/20news-bydate-train/comp.sys.mac.hardware/51632', '/content/drive/My Drive/20_newsgroup/20news-bydate-train/comp.sys.mac.hardware/50545', '/content/drive/My Drive/20_newsgroup/20news-bydate-train/comp.sys.mac.hardware/51626', '/content/drive/My Drive/20_newsgroup/20news-bydate-train/comp.sys.mac.hardware/50532', '/content/drive/My Drive/20_newsgroup/20news-bydate-train/comp.sys.mac.hardware/51694', '/content/drive/My Drive/20_newsgroup/20news-bydate-train/comp.sys.mac.hardware/51496', '/content/drive/My Drive/20_newsgroup/20news-bydate-train/comp.sys.mac.hardware/51535', '/content/drive/My Drive/20_newsgroup/20news-bydate-train/comp.sys.mac.hardware/50513', '/content/drive/My Drive/20_newsgroup/20news-bydate-train/comp.sys.mac.hardware/51542', '/content/drive/My Drive/20_newsgroup/20news-bydate-train/comp.sys.mac.hardware/51650', '/content/drive/My Drive/20_newsgroup/20news-bydate-train/comp.sys.mac.hardware/50540', '/content/drive/My Drive/20_newsgroup/20news-bydate-train/comp.sys.mac.hardware/51679', '/content/drive/My Drive/20_newsgroup/20news-bydate-train/comp.sys.mac.hardware/51672', '/content/drive/My Drive/20_newsgroup/20news-bydate-train/comp.sys.mac.hardware/51707', '/content/drive/My Drive/20_newsgroup/20news-bydate-train/comp.sys.mac.hardware/51673', '/content/drive/My Drive/20_newsgroup/20news-bydate-train/comp.sys.mac.hardware/52142', '/content/drive/My Drive/20_newsgroup/20news-bydate-train/comp.sys.mac.hardware/51539', '/content/drive/My Drive/20_newsgroup/20news-bydate-train/comp.sys.mac.hardware/51590', '/content/drive/My Drive/20_newsgroup/20news-bydate-train/comp.sys.mac.hardware/51718', '/content/drive/My Drive/20_newsgroup/20news-bydate-train/comp.sys.mac.hardware/50503', '/content/drive/My Drive/20_newsgroup/20news-bydate-train/comp.sys.mac.hardware/51678', '/content/drive/My Drive/20_newsgroup/20news-bydate-train/comp.sys.mac.hardware/51631', '/content/drive/My Drive/20_newsgroup/20news-bydate-train/comp.sys.mac.hardware/50529', '/content/drive/My Drive/20_newsgroup/20news-bydate-train/comp.sys.mac.hardware/51682', '/content/drive/My Drive/20_newsgroup/20news-bydate-train/comp.sys.mac.hardware/51568', '/content/drive/My Drive/20_newsgroup/20news-bydate-train/comp.sys.mac.hardware/51656', '/content/drive/My Drive/20_newsgroup/20news-bydate-train/comp.sys.mac.hardware/51510', '/content/drive/My Drive/20_newsgroup/20news-bydate-train/comp.sys.mac.hardware/51653', '/content/drive/My Drive/20_newsgroup/20news-bydate-train/comp.sys.mac.hardware/51532', '/content/drive/My Drive/20_newsgroup/20news-bydate-train/comp.sys.mac.hardware/51566', '/content/drive/My Drive/20_newsgroup/20news-bydate-train/comp.sys.mac.hardware/51663', '/content/drive/My Drive/20_newsgroup/20news-bydate-train/comp.sys.mac.hardware/50542', '/content/drive/My Drive/20_newsgroup/20news-bydate-train/comp.sys.mac.hardware/51623', '/content/drive/My Drive/20_newsgroup/20news-bydate-train/comp.sys.mac.hardware/51789', '/content/drive/My Drive/20_newsgroup/20news-bydate-train/comp.sys.mac.hardware/51705', '/content/drive/My Drive/20_newsgroup/20news-bydate-train/comp.sys.mac.hardware/51686', '/content/drive/My Drive/20_newsgroup/20news-bydate-train/comp.sys.mac.hardware/51519', '/content/drive/My Drive/20_newsgroup/20news-bydate-train/comp.sys.mac.hardware/51585', '/content/drive/My Drive/20_newsgroup/20news-bydate-train/comp.sys.mac.hardware/51644', '/content/drive/My Drive/20_newsgroup/20news-bydate-train/comp.sys.mac.hardware/50541', '/content/drive/My Drive/20_newsgroup/20news-bydate-train/comp.sys.mac.hardware/51931', '/content/drive/My Drive/20_newsgroup/20news-bydate-train/comp.sys.mac.hardware/51898', '/content/drive/My Drive/20_newsgroup/20news-bydate-train/comp.sys.mac.hardware/51874', '/content/drive/My Drive/20_newsgroup/20news-bydate-train/comp.sys.mac.hardware/51861', '/content/drive/My Drive/20_newsgroup/20news-bydate-train/comp.sys.mac.hardware/51728', '/content/drive/My Drive/20_newsgroup/20news-bydate-train/comp.sys.mac.hardware/51957', '/content/drive/My Drive/20_newsgroup/20news-bydate-train/comp.sys.mac.hardware/51936', '/content/drive/My Drive/20_newsgroup/20news-bydate-train/comp.sys.mac.hardware/51911', '/content/drive/My Drive/20_newsgroup/20news-bydate-train/comp.sys.mac.hardware/51892', '/content/drive/My Drive/20_newsgroup/20news-bydate-train/comp.sys.mac.hardware/51766', '/content/drive/My Drive/20_newsgroup/20news-bydate-train/comp.sys.mac.hardware/51785', '/content/drive/My Drive/20_newsgroup/20news-bydate-train/comp.sys.mac.hardware/51914', '/content/drive/My Drive/20_newsgroup/20news-bydate-train/comp.sys.mac.hardware/51741', '/content/drive/My Drive/20_newsgroup/20news-bydate-train/comp.sys.mac.hardware/51916', '/content/drive/My Drive/20_newsgroup/20news-bydate-train/comp.sys.mac.hardware/51867', '/content/drive/My Drive/20_newsgroup/20news-bydate-train/comp.sys.mac.hardware/51863', '/content/drive/My Drive/20_newsgroup/20news-bydate-train/comp.sys.mac.hardware/51901', '/content/drive/My Drive/20_newsgroup/20news-bydate-train/comp.sys.mac.hardware/51826', '/content/drive/My Drive/20_newsgroup/20news-bydate-train/comp.sys.mac.hardware/51851', '/content/drive/My Drive/20_newsgroup/20news-bydate-train/comp.sys.mac.hardware/51838', '/content/drive/My Drive/20_newsgroup/20news-bydate-train/comp.sys.mac.hardware/51846', '/content/drive/My Drive/20_newsgroup/20news-bydate-train/comp.sys.mac.hardware/51871', '/content/drive/My Drive/20_newsgroup/20news-bydate-train/comp.sys.mac.hardware/51822', '/content/drive/My Drive/20_newsgroup/20news-bydate-train/comp.sys.mac.hardware/51761', '/content/drive/My Drive/20_newsgroup/20news-bydate-train/comp.sys.mac.hardware/51877', '/content/drive/My Drive/20_newsgroup/20news-bydate-train/comp.sys.mac.hardware/51765', '/content/drive/My Drive/20_newsgroup/20news-bydate-train/comp.sys.mac.hardware/51923', '/content/drive/My Drive/20_newsgroup/20news-bydate-train/comp.sys.mac.hardware/51802', '/content/drive/My Drive/20_newsgroup/20news-bydate-train/comp.sys.mac.hardware/51800', '/content/drive/My Drive/20_newsgroup/20news-bydate-train/comp.sys.mac.hardware/51906', '/content/drive/My Drive/20_newsgroup/20news-bydate-train/comp.sys.mac.hardware/51834', '/content/drive/My Drive/20_newsgroup/20news-bydate-train/comp.sys.mac.hardware/51788', '/content/drive/My Drive/20_newsgroup/20news-bydate-train/comp.sys.mac.hardware/51845', '/content/drive/My Drive/20_newsgroup/20news-bydate-train/comp.sys.mac.hardware/51781', '/content/drive/My Drive/20_newsgroup/20news-bydate-train/comp.sys.mac.hardware/51842', '/content/drive/My Drive/20_newsgroup/20news-bydate-train/comp.sys.mac.hardware/51783', '/content/drive/My Drive/20_newsgroup/20news-bydate-train/comp.sys.mac.hardware/51849', '/content/drive/My Drive/20_newsgroup/20news-bydate-train/comp.sys.mac.hardware/51913', '/content/drive/My Drive/20_newsgroup/20news-bydate-train/comp.sys.mac.hardware/51843', '/content/drive/My Drive/20_newsgroup/20news-bydate-train/comp.sys.mac.hardware/51932', '/content/drive/My Drive/20_newsgroup/20news-bydate-train/comp.sys.mac.hardware/51733', '/content/drive/My Drive/20_newsgroup/20news-bydate-train/comp.sys.mac.hardware/51831', '/content/drive/My Drive/20_newsgroup/20news-bydate-train/comp.sys.mac.hardware/51889', '/content/drive/My Drive/20_newsgroup/20news-bydate-train/comp.sys.mac.hardware/51743', '/content/drive/My Drive/20_newsgroup/20news-bydate-train/comp.sys.mac.hardware/51896', '/content/drive/My Drive/20_newsgroup/20news-bydate-train/comp.sys.mac.hardware/51855', '/content/drive/My Drive/20_newsgroup/20news-bydate-train/comp.sys.mac.hardware/51895', '/content/drive/My Drive/20_newsgroup/20news-bydate-train/comp.sys.mac.hardware/51803', '/content/drive/My Drive/20_newsgroup/20news-bydate-train/comp.sys.mac.hardware/51864', '/content/drive/My Drive/20_newsgroup/20news-bydate-train/comp.sys.mac.hardware/51920', '/content/drive/My Drive/20_newsgroup/20news-bydate-train/comp.sys.mac.hardware/51787', '/content/drive/My Drive/20_newsgroup/20news-bydate-train/comp.sys.mac.hardware/51738', '/content/drive/My Drive/20_newsgroup/20news-bydate-train/comp.sys.mac.hardware/51778', '/content/drive/My Drive/20_newsgroup/20news-bydate-train/comp.sys.mac.hardware/51772', '/content/drive/My Drive/20_newsgroup/20news-bydate-train/comp.sys.mac.hardware/51878', '/content/drive/My Drive/20_newsgroup/20news-bydate-train/comp.sys.mac.hardware/51746', '/content/drive/My Drive/20_newsgroup/20news-bydate-train/comp.sys.mac.hardware/51762', '/content/drive/My Drive/20_newsgroup/20news-bydate-train/comp.sys.mac.hardware/51922', '/content/drive/My Drive/20_newsgroup/20news-bydate-train/comp.sys.mac.hardware/51770', '/content/drive/My Drive/20_newsgroup/20news-bydate-train/comp.sys.mac.hardware/51758', '/content/drive/My Drive/20_newsgroup/20news-bydate-train/comp.sys.mac.hardware/51853', '/content/drive/My Drive/20_newsgroup/20news-bydate-train/comp.sys.mac.hardware/51910', '/content/drive/My Drive/20_newsgroup/20news-bydate-train/comp.sys.mac.hardware/51737', '/content/drive/My Drive/20_newsgroup/20news-bydate-train/comp.sys.mac.hardware/51836', '/content/drive/My Drive/20_newsgroup/20news-bydate-train/comp.sys.mac.hardware/51782', '/content/drive/My Drive/20_newsgroup/20news-bydate-train/comp.sys.mac.hardware/51837', '/content/drive/My Drive/20_newsgroup/20news-bydate-train/comp.sys.mac.hardware/51790', '/content/drive/My Drive/20_newsgroup/20news-bydate-train/comp.sys.mac.hardware/51752', '/content/drive/My Drive/20_newsgroup/20news-bydate-train/comp.sys.mac.hardware/51925', '/content/drive/My Drive/20_newsgroup/20news-bydate-train/comp.sys.mac.hardware/51829', '/content/drive/My Drive/20_newsgroup/20news-bydate-train/comp.sys.mac.hardware/51902', '/content/drive/My Drive/20_newsgroup/20news-bydate-train/comp.sys.mac.hardware/51780', '/content/drive/My Drive/20_newsgroup/20news-bydate-train/comp.sys.mac.hardware/51823', '/content/drive/My Drive/20_newsgroup/20news-bydate-train/comp.sys.mac.hardware/51953', '/content/drive/My Drive/20_newsgroup/20news-bydate-train/comp.sys.mac.hardware/51797', '/content/drive/My Drive/20_newsgroup/20news-bydate-train/comp.sys.mac.hardware/51939', '/content/drive/My Drive/20_newsgroup/20news-bydate-train/comp.sys.mac.hardware/51924', '/content/drive/My Drive/20_newsgroup/20news-bydate-train/comp.sys.mac.hardware/51946', '/content/drive/My Drive/20_newsgroup/20news-bydate-train/comp.sys.mac.hardware/51774', '/content/drive/My Drive/20_newsgroup/20news-bydate-train/comp.sys.mac.hardware/51963', '/content/drive/My Drive/20_newsgroup/20news-bydate-train/comp.sys.mac.hardware/51875', '/content/drive/My Drive/20_newsgroup/20news-bydate-train/comp.sys.mac.hardware/51844', '/content/drive/My Drive/20_newsgroup/20news-bydate-train/comp.sys.mac.hardware/51852', '/content/drive/My Drive/20_newsgroup/20news-bydate-train/comp.sys.mac.hardware/51768', '/content/drive/My Drive/20_newsgroup/20news-bydate-train/comp.sys.mac.hardware/51769', '/content/drive/My Drive/20_newsgroup/20news-bydate-train/comp.sys.mac.hardware/51804', '/content/drive/My Drive/20_newsgroup/20news-bydate-train/comp.sys.mac.hardware/51817', '/content/drive/My Drive/20_newsgroup/20news-bydate-train/comp.sys.mac.hardware/51819', '/content/drive/My Drive/20_newsgroup/20news-bydate-train/comp.sys.mac.hardware/51791', '/content/drive/My Drive/20_newsgroup/20news-bydate-train/comp.sys.mac.hardware/51951', '/content/drive/My Drive/20_newsgroup/20news-bydate-train/comp.sys.mac.hardware/51809', '/content/drive/My Drive/20_newsgroup/20news-bydate-train/comp.sys.mac.hardware/51779', '/content/drive/My Drive/20_newsgroup/20news-bydate-train/comp.sys.mac.hardware/51848', '/content/drive/My Drive/20_newsgroup/20news-bydate-train/comp.sys.mac.hardware/51909', '/content/drive/My Drive/20_newsgroup/20news-bydate-train/comp.sys.mac.hardware/51856', '/content/drive/My Drive/20_newsgroup/20news-bydate-train/comp.sys.mac.hardware/51885', '/content/drive/My Drive/20_newsgroup/20news-bydate-train/comp.sys.mac.hardware/51854', '/content/drive/My Drive/20_newsgroup/20news-bydate-train/comp.sys.mac.hardware/51908', '/content/drive/My Drive/20_newsgroup/20news-bydate-train/comp.sys.mac.hardware/51756', '/content/drive/My Drive/20_newsgroup/20news-bydate-train/comp.sys.mac.hardware/51775', '/content/drive/My Drive/20_newsgroup/20news-bydate-train/comp.sys.mac.hardware/51893', '/content/drive/My Drive/20_newsgroup/20news-bydate-train/comp.sys.mac.hardware/51792', '/content/drive/My Drive/20_newsgroup/20news-bydate-train/comp.sys.mac.hardware/51799', '/content/drive/My Drive/20_newsgroup/20news-bydate-train/comp.sys.mac.hardware/51882', '/content/drive/My Drive/20_newsgroup/20news-bydate-train/comp.sys.mac.hardware/51805', '/content/drive/My Drive/20_newsgroup/20news-bydate-train/comp.sys.mac.hardware/51883', '/content/drive/My Drive/20_newsgroup/20news-bydate-train/comp.sys.mac.hardware/51816', '/content/drive/My Drive/20_newsgroup/20news-bydate-train/comp.sys.mac.hardware/51866', '/content/drive/My Drive/20_newsgroup/20news-bydate-train/comp.sys.mac.hardware/52086', '/content/drive/My Drive/20_newsgroup/20news-bydate-train/comp.sys.mac.hardware/51840', '/content/drive/My Drive/20_newsgroup/20news-bydate-train/comp.sys.mac.hardware/51858', '/content/drive/My Drive/20_newsgroup/20news-bydate-train/comp.sys.mac.hardware/51934', '/content/drive/My Drive/20_newsgroup/20news-bydate-train/comp.sys.mac.hardware/51764', '/content/drive/My Drive/20_newsgroup/20news-bydate-train/comp.sys.mac.hardware/51777', '/content/drive/My Drive/20_newsgroup/20news-bydate-train/comp.sys.mac.hardware/51754', '/content/drive/My Drive/20_newsgroup/20news-bydate-train/comp.sys.mac.hardware/51750', '/content/drive/My Drive/20_newsgroup/20news-bydate-train/comp.sys.mac.hardware/51814', '/content/drive/My Drive/20_newsgroup/20news-bydate-train/comp.sys.mac.hardware/51839', '/content/drive/My Drive/20_newsgroup/20news-bydate-train/comp.sys.mac.hardware/51897', '/content/drive/My Drive/20_newsgroup/20news-bydate-train/comp.sys.mac.hardware/51907', '/content/drive/My Drive/20_newsgroup/20news-bydate-train/comp.sys.mac.hardware/51879', '/content/drive/My Drive/20_newsgroup/20news-bydate-train/comp.sys.mac.hardware/51905', '/content/drive/My Drive/20_newsgroup/20news-bydate-train/comp.sys.mac.hardware/51847', '/content/drive/My Drive/20_newsgroup/20news-bydate-train/comp.sys.mac.hardware/51933', '/content/drive/My Drive/20_newsgroup/20news-bydate-train/comp.sys.mac.hardware/51868', '/content/drive/My Drive/20_newsgroup/20news-bydate-train/comp.sys.mac.hardware/51862', '/content/drive/My Drive/20_newsgroup/20news-bydate-train/comp.sys.mac.hardware/51795', '/content/drive/My Drive/20_newsgroup/20news-bydate-train/comp.sys.mac.hardware/51859', '/content/drive/My Drive/20_newsgroup/20news-bydate-train/comp.sys.mac.hardware/51832', '/content/drive/My Drive/20_newsgroup/20news-bydate-train/comp.sys.mac.hardware/51773', '/content/drive/My Drive/20_newsgroup/20news-bydate-train/comp.sys.mac.hardware/51841', '/content/drive/My Drive/20_newsgroup/20news-bydate-train/comp.sys.mac.hardware/51760', '/content/drive/My Drive/20_newsgroup/20news-bydate-train/comp.sys.mac.hardware/51794', '/content/drive/My Drive/20_newsgroup/20news-bydate-train/comp.sys.mac.hardware/51747', '/content/drive/My Drive/20_newsgroup/20news-bydate-train/comp.sys.mac.hardware/51739', '/content/drive/My Drive/20_newsgroup/20news-bydate-train/comp.sys.mac.hardware/51827', '/content/drive/My Drive/20_newsgroup/20news-bydate-train/comp.sys.mac.hardware/51812', '/content/drive/My Drive/20_newsgroup/20news-bydate-train/comp.sys.mac.hardware/51815', '/content/drive/My Drive/20_newsgroup/20news-bydate-train/comp.sys.mac.hardware/51745', '/content/drive/My Drive/20_newsgroup/20news-bydate-train/comp.sys.mac.hardware/51937', '/content/drive/My Drive/20_newsgroup/20news-bydate-train/comp.sys.mac.hardware/51821', '/content/drive/My Drive/20_newsgroup/20news-bydate-train/comp.sys.mac.hardware/51786', '/content/drive/My Drive/20_newsgroup/20news-bydate-train/comp.sys.mac.hardware/51850', '/content/drive/My Drive/20_newsgroup/20news-bydate-train/comp.sys.mac.hardware/51833', '/content/drive/My Drive/20_newsgroup/20news-bydate-train/comp.sys.mac.hardware/51731', '/content/drive/My Drive/20_newsgroup/20news-bydate-train/comp.sys.mac.hardware/51903', '/content/drive/My Drive/20_newsgroup/20news-bydate-train/comp.sys.mac.hardware/51876', '/content/drive/My Drive/20_newsgroup/20news-bydate-train/comp.sys.mac.hardware/51767', '/content/drive/My Drive/20_newsgroup/20news-bydate-train/comp.sys.mac.hardware/51793', '/content/drive/My Drive/20_newsgroup/20news-bydate-train/comp.sys.mac.hardware/51894', '/content/drive/My Drive/20_newsgroup/20news-bydate-train/comp.sys.mac.hardware/51755', '/content/drive/My Drive/20_newsgroup/20news-bydate-train/comp.sys.mac.hardware/51835', '/content/drive/My Drive/20_newsgroup/20news-bydate-train/comp.sys.mac.hardware/51918', '/content/drive/My Drive/20_newsgroup/20news-bydate-train/comp.sys.mac.hardware/51869', '/content/drive/My Drive/20_newsgroup/20news-bydate-train/comp.sys.mac.hardware/51884', '/content/drive/My Drive/20_newsgroup/20news-bydate-train/comp.sys.mac.hardware/51912', '/content/drive/My Drive/20_newsgroup/20news-bydate-train/comp.sys.mac.hardware/51757', '/content/drive/My Drive/20_newsgroup/20news-bydate-train/comp.sys.mac.hardware/51740', '/content/drive/My Drive/20_newsgroup/20news-bydate-train/comp.sys.mac.hardware/51917', '/content/drive/My Drive/20_newsgroup/20news-bydate-train/comp.sys.mac.hardware/51830', '/content/drive/My Drive/20_newsgroup/20news-bydate-train/comp.sys.mac.hardware/51919', '/content/drive/My Drive/20_newsgroup/20news-bydate-train/comp.sys.mac.hardware/51900', '/content/drive/My Drive/20_newsgroup/20news-bydate-train/comp.sys.mac.hardware/51865', '/content/drive/My Drive/20_newsgroup/20news-bydate-train/comp.sys.mac.hardware/51796', '/content/drive/My Drive/20_newsgroup/20news-bydate-train/comp.sys.mac.hardware/51813', '/content/drive/My Drive/20_newsgroup/20news-bydate-train/comp.sys.mac.hardware/51749', '/content/drive/My Drive/20_newsgroup/20news-bydate-train/comp.sys.mac.hardware/51748', '/content/drive/My Drive/20_newsgroup/20news-bydate-train/comp.sys.mac.hardware/51860', '/content/drive/My Drive/20_newsgroup/20news-bydate-train/comp.sys.mac.hardware/51915', '/content/drive/My Drive/20_newsgroup/20news-bydate-train/comp.sys.mac.hardware/51744', '/content/drive/My Drive/20_newsgroup/20news-bydate-train/comp.sys.mac.hardware/51926', '/content/drive/My Drive/20_newsgroup/20news-bydate-train/comp.sys.mac.hardware/51732', '/content/drive/My Drive/20_newsgroup/20news-bydate-train/comp.sys.mac.hardware/52131', '/content/drive/My Drive/20_newsgroup/20news-bydate-train/comp.sys.mac.hardware/51798', '/content/drive/My Drive/20_newsgroup/20news-bydate-train/comp.sys.mac.hardware/51881', '/content/drive/My Drive/20_newsgroup/20news-bydate-train/comp.sys.mac.hardware/51801', '/content/drive/My Drive/20_newsgroup/20news-bydate-train/comp.sys.mac.hardware/51825', '/content/drive/My Drive/20_newsgroup/20news-bydate-train/comp.sys.mac.hardware/51941', '/content/drive/My Drive/20_newsgroup/20news-bydate-train/comp.sys.mac.hardware/51921', '/content/drive/My Drive/20_newsgroup/20news-bydate-train/comp.sys.mac.hardware/52006', '/content/drive/My Drive/20_newsgroup/20news-bydate-train/comp.sys.mac.hardware/51904', '/content/drive/My Drive/20_newsgroup/20news-bydate-train/comp.sys.mac.hardware/51763', '/content/drive/My Drive/20_newsgroup/20news-bydate-train/comp.sys.mac.hardware/51811', '/content/drive/My Drive/20_newsgroup/20news-bydate-train/comp.sys.mac.hardware/51818', '/content/drive/My Drive/20_newsgroup/20news-bydate-train/comp.sys.mac.hardware/51751', '/content/drive/My Drive/20_newsgroup/20news-bydate-train/comp.sys.mac.hardware/51943', '/content/drive/My Drive/20_newsgroup/20news-bydate-train/comp.sys.mac.hardware/51776', '/content/drive/My Drive/20_newsgroup/20news-bydate-train/comp.sys.mac.hardware/51891', '/content/drive/My Drive/20_newsgroup/20news-bydate-train/comp.sys.mac.hardware/51873', '/content/drive/My Drive/20_newsgroup/20news-bydate-train/comp.sys.mac.hardware/51824', '/content/drive/My Drive/20_newsgroup/20news-bydate-train/comp.sys.mac.hardware/51810', '/content/drive/My Drive/20_newsgroup/20news-bydate-train/comp.sys.mac.hardware/51742', '/content/drive/My Drive/20_newsgroup/20news-bydate-train/comp.sys.mac.hardware/51771', '/content/drive/My Drive/20_newsgroup/20news-bydate-train/comp.sys.mac.hardware/51828', '/content/drive/My Drive/20_newsgroup/20news-bydate-train/comp.sys.mac.hardware/51872', '/content/drive/My Drive/20_newsgroup/20news-bydate-train/comp.sys.mac.hardware/51928', '/content/drive/My Drive/20_newsgroup/20news-bydate-train/comp.sys.mac.hardware/51899', '/content/drive/My Drive/20_newsgroup/20news-bydate-train/comp.sys.mac.hardware/51857', '/content/drive/My Drive/20_newsgroup/20news-bydate-train/comp.sys.mac.hardware/51927', '/content/drive/My Drive/20_newsgroup/20news-bydate-train/comp.sys.mac.hardware/51784', '/content/drive/My Drive/20_newsgroup/20news-bydate-train/comp.sys.mac.hardware/51870', '/content/drive/My Drive/20_newsgroup/20news-bydate-train/comp.sys.mac.hardware/51736', '/content/drive/My Drive/20_newsgroup/20news-bydate-train/comp.sys.mac.hardware/51929', '/content/drive/My Drive/20_newsgroup/20news-bydate-train/comp.sys.mac.hardware/51930', '/content/drive/My Drive/20_newsgroup/20news-bydate-train/comp.sys.mac.hardware/51970', '/content/drive/My Drive/20_newsgroup/20news-bydate-train/comp.sys.mac.hardware/51880', '/content/drive/My Drive/20_newsgroup/20news-bydate-train/comp.sys.mac.hardware/51820', '/content/drive/My Drive/20_newsgroup/20news-bydate-train/comp.sys.mac.hardware/51935', '/content/drive/My Drive/20_newsgroup/20news-bydate-train/rec.autos/101595', '/content/drive/My Drive/20_newsgroup/20news-bydate-train/rec.autos/101598', '/content/drive/My Drive/20_newsgroup/20news-bydate-train/rec.autos/101577', '/content/drive/My Drive/20_newsgroup/20news-bydate-train/rec.autos/101593', '/content/drive/My Drive/20_newsgroup/20news-bydate-train/rec.autos/101562', '/content/drive/My Drive/20_newsgroup/20news-bydate-train/rec.autos/101553', '/content/drive/My Drive/20_newsgroup/20news-bydate-train/rec.autos/101580', '/content/drive/My Drive/20_newsgroup/20news-bydate-train/rec.autos/101624', '/content/drive/My Drive/20_newsgroup/20news-bydate-train/rec.autos/101615', '/content/drive/My Drive/20_newsgroup/20news-bydate-train/rec.autos/101560', '/content/drive/My Drive/20_newsgroup/20news-bydate-train/rec.autos/101574', '/content/drive/My Drive/20_newsgroup/20news-bydate-train/rec.autos/101604', '/content/drive/My Drive/20_newsgroup/20news-bydate-train/rec.autos/101640', '/content/drive/My Drive/20_newsgroup/20news-bydate-train/rec.autos/101639', '/content/drive/My Drive/20_newsgroup/20news-bydate-train/rec.autos/101600', '/content/drive/My Drive/20_newsgroup/20news-bydate-train/rec.autos/101584', '/content/drive/My Drive/20_newsgroup/20news-bydate-train/rec.autos/101567', '/content/drive/My Drive/20_newsgroup/20news-bydate-train/rec.autos/101627', '/content/drive/My Drive/20_newsgroup/20news-bydate-train/rec.autos/101552', '/content/drive/My Drive/20_newsgroup/20news-bydate-train/rec.autos/101620', '/content/drive/My Drive/20_newsgroup/20news-bydate-train/rec.autos/101576', '/content/drive/My Drive/20_newsgroup/20news-bydate-train/rec.autos/101637', '/content/drive/My Drive/20_newsgroup/20news-bydate-train/rec.autos/101563', '/content/drive/My Drive/20_newsgroup/20news-bydate-train/rec.autos/101629', '/content/drive/My Drive/20_newsgroup/20news-bydate-train/rec.autos/102928', '/content/drive/My Drive/20_newsgroup/20news-bydate-train/rec.autos/102927', '/content/drive/My Drive/20_newsgroup/20news-bydate-train/rec.autos/101589', '/content/drive/My Drive/20_newsgroup/20news-bydate-train/rec.autos/101602', '/content/drive/My Drive/20_newsgroup/20news-bydate-train/rec.autos/101586', '/content/drive/My Drive/20_newsgroup/20news-bydate-train/rec.autos/101566', '/content/drive/My Drive/20_newsgroup/20news-bydate-train/rec.autos/101605', '/content/drive/My Drive/20_newsgroup/20news-bydate-train/rec.autos/101631', '/content/drive/My Drive/20_newsgroup/20news-bydate-train/rec.autos/101665', '/content/drive/My Drive/20_newsgroup/20news-bydate-train/rec.autos/101642', '/content/drive/My Drive/20_newsgroup/20news-bydate-train/rec.autos/101653', '/content/drive/My Drive/20_newsgroup/20news-bydate-train/rec.autos/101597', '/content/drive/My Drive/20_newsgroup/20news-bydate-train/rec.autos/101667', '/content/drive/My Drive/20_newsgroup/20news-bydate-train/rec.autos/101596', '/content/drive/My Drive/20_newsgroup/20news-bydate-train/rec.autos/101591', '/content/drive/My Drive/20_newsgroup/20news-bydate-train/rec.autos/101633', '/content/drive/My Drive/20_newsgroup/20news-bydate-train/rec.autos/101583', '/content/drive/My Drive/20_newsgroup/20news-bydate-train/rec.autos/101557', '/content/drive/My Drive/20_newsgroup/20news-bydate-train/rec.autos/101610', '/content/drive/My Drive/20_newsgroup/20news-bydate-train/rec.autos/101635', '/content/drive/My Drive/20_newsgroup/20news-bydate-train/rec.autos/101599', '/content/drive/My Drive/20_newsgroup/20news-bydate-train/rec.autos/101573', '/content/drive/My Drive/20_newsgroup/20news-bydate-train/rec.autos/101623', '/content/drive/My Drive/20_newsgroup/20news-bydate-train/rec.autos/101569', '/content/drive/My Drive/20_newsgroup/20news-bydate-train/rec.autos/101616', '/content/drive/My Drive/20_newsgroup/20news-bydate-train/rec.autos/101581', '/content/drive/My Drive/20_newsgroup/20news-bydate-train/rec.autos/101588', '/content/drive/My Drive/20_newsgroup/20news-bydate-train/rec.autos/101555', '/content/drive/My Drive/20_newsgroup/20news-bydate-train/rec.autos/101613', '/content/drive/My Drive/20_newsgroup/20news-bydate-train/rec.autos/101608', '/content/drive/My Drive/20_newsgroup/20news-bydate-train/rec.autos/101621', '/content/drive/My Drive/20_newsgroup/20news-bydate-train/rec.autos/101594', '/content/drive/My Drive/20_newsgroup/20news-bydate-train/rec.autos/101607', '/content/drive/My Drive/20_newsgroup/20news-bydate-train/rec.autos/101609', '/content/drive/My Drive/20_newsgroup/20news-bydate-train/rec.autos/101551', '/content/drive/My Drive/20_newsgroup/20news-bydate-train/rec.autos/101622', '/content/drive/My Drive/20_newsgroup/20news-bydate-train/rec.autos/101641', '/content/drive/My Drive/20_newsgroup/20news-bydate-train/rec.autos/101603', '/content/drive/My Drive/20_newsgroup/20news-bydate-train/rec.autos/101634', '/content/drive/My Drive/20_newsgroup/20news-bydate-train/rec.autos/101626', '/content/drive/My Drive/20_newsgroup/20news-bydate-train/rec.autos/101628', '/content/drive/My Drive/20_newsgroup/20news-bydate-train/rec.autos/101587', '/content/drive/My Drive/20_newsgroup/20news-bydate-train/rec.autos/101625', '/content/drive/My Drive/20_newsgroup/20news-bydate-train/rec.autos/101558', '/content/drive/My Drive/20_newsgroup/20news-bydate-train/rec.autos/101575', '/content/drive/My Drive/20_newsgroup/20news-bydate-train/rec.autos/101647', '/content/drive/My Drive/20_newsgroup/20news-bydate-train/rec.autos/101561', '/content/drive/My Drive/20_newsgroup/20news-bydate-train/rec.autos/101618', '/content/drive/My Drive/20_newsgroup/20news-bydate-train/rec.autos/101554', '/content/drive/My Drive/20_newsgroup/20news-bydate-train/rec.autos/101590', '/content/drive/My Drive/20_newsgroup/20news-bydate-train/rec.autos/101619', '/content/drive/My Drive/20_newsgroup/20news-bydate-train/rec.autos/101611', '/content/drive/My Drive/20_newsgroup/20news-bydate-train/rec.autos/101572', '/content/drive/My Drive/20_newsgroup/20news-bydate-train/rec.autos/101578', '/content/drive/My Drive/20_newsgroup/20news-bydate-train/rec.autos/101630', '/content/drive/My Drive/20_newsgroup/20news-bydate-train/rec.autos/101612', '/content/drive/My Drive/20_newsgroup/20news-bydate-train/rec.autos/101632', '/content/drive/My Drive/20_newsgroup/20news-bydate-train/rec.autos/101579', '/content/drive/My Drive/20_newsgroup/20news-bydate-train/rec.autos/101614', '/content/drive/My Drive/20_newsgroup/20news-bydate-train/rec.autos/101582', '/content/drive/My Drive/20_newsgroup/20news-bydate-train/rec.autos/101681', '/content/drive/My Drive/20_newsgroup/20news-bydate-train/rec.autos/101556', '/content/drive/My Drive/20_newsgroup/20news-bydate-train/rec.autos/101585', '/content/drive/My Drive/20_newsgroup/20news-bydate-train/rec.autos/101592', '/content/drive/My Drive/20_newsgroup/20news-bydate-train/rec.autos/101568', '/content/drive/My Drive/20_newsgroup/20news-bydate-train/rec.autos/101564', '/content/drive/My Drive/20_newsgroup/20news-bydate-train/rec.autos/101565', '/content/drive/My Drive/20_newsgroup/20news-bydate-train/rec.autos/101601', '/content/drive/My Drive/20_newsgroup/20news-bydate-train/rec.autos/101571', '/content/drive/My Drive/20_newsgroup/20news-bydate-train/rec.autos/101559', '/content/drive/My Drive/20_newsgroup/20news-bydate-train/rec.autos/101570', '/content/drive/My Drive/20_newsgroup/20news-bydate-train/rec.autos/102738', '/content/drive/My Drive/20_newsgroup/20news-bydate-train/rec.autos/103292', '/content/drive/My Drive/20_newsgroup/20news-bydate-train/rec.autos/102783', '/content/drive/My Drive/20_newsgroup/20news-bydate-train/rec.autos/103017', '/content/drive/My Drive/20_newsgroup/20news-bydate-train/rec.autos/103089', '/content/drive/My Drive/20_newsgroup/20news-bydate-train/rec.autos/102869', '/content/drive/My Drive/20_newsgroup/20news-bydate-train/rec.autos/102929', '/content/drive/My Drive/20_newsgroup/20news-bydate-train/rec.autos/103119', '/content/drive/My Drive/20_newsgroup/20news-bydate-train/rec.autos/102749', '/content/drive/My Drive/20_newsgroup/20news-bydate-train/rec.autos/103032', '/content/drive/My Drive/20_newsgroup/20news-bydate-train/rec.autos/103113', '/content/drive/My Drive/20_newsgroup/20news-bydate-train/rec.autos/103110', '/content/drive/My Drive/20_newsgroup/20news-bydate-train/rec.autos/103013', '/content/drive/My Drive/20_newsgroup/20news-bydate-train/rec.autos/102753', '/content/drive/My Drive/20_newsgroup/20news-bydate-train/rec.autos/102967', '/content/drive/My Drive/20_newsgroup/20news-bydate-train/rec.autos/102968', '/content/drive/My Drive/20_newsgroup/20news-bydate-train/rec.autos/102743', '/content/drive/My Drive/20_newsgroup/20news-bydate-train/rec.autos/103024', '/content/drive/My Drive/20_newsgroup/20news-bydate-train/rec.autos/102750', '/content/drive/My Drive/20_newsgroup/20news-bydate-train/rec.autos/103118', '/content/drive/My Drive/20_newsgroup/20news-bydate-train/rec.autos/102897', '/content/drive/My Drive/20_newsgroup/20news-bydate-train/rec.autos/101678', '/content/drive/My Drive/20_newsgroup/20news-bydate-train/rec.autos/102846', '/content/drive/My Drive/20_newsgroup/20news-bydate-train/rec.autos/102785', '/content/drive/My Drive/20_newsgroup/20news-bydate-train/rec.autos/101661', '/content/drive/My Drive/20_newsgroup/20news-bydate-train/rec.autos/103102', '/content/drive/My Drive/20_newsgroup/20news-bydate-train/rec.autos/101645', '/content/drive/My Drive/20_newsgroup/20news-bydate-train/rec.autos/102919', '/content/drive/My Drive/20_newsgroup/20news-bydate-train/rec.autos/101668', '/content/drive/My Drive/20_newsgroup/20news-bydate-train/rec.autos/103086', '/content/drive/My Drive/20_newsgroup/20news-bydate-train/rec.autos/102895', '/content/drive/My Drive/20_newsgroup/20news-bydate-train/rec.autos/102782', '/content/drive/My Drive/20_newsgroup/20news-bydate-train/rec.autos/102926', '/content/drive/My Drive/20_newsgroup/20news-bydate-train/rec.autos/101655', '/content/drive/My Drive/20_newsgroup/20news-bydate-train/rec.autos/103104', '/content/drive/My Drive/20_newsgroup/20news-bydate-train/rec.autos/102917', '/content/drive/My Drive/20_newsgroup/20news-bydate-train/rec.autos/103030', '/content/drive/My Drive/20_newsgroup/20news-bydate-train/rec.autos/102873', '/content/drive/My Drive/20_newsgroup/20news-bydate-train/rec.autos/103035', '/content/drive/My Drive/20_newsgroup/20news-bydate-train/rec.autos/103231', '/content/drive/My Drive/20_newsgroup/20news-bydate-train/rec.autos/102911', '/content/drive/My Drive/20_newsgroup/20news-bydate-train/rec.autos/103284', '/content/drive/My Drive/20_newsgroup/20news-bydate-train/rec.autos/101654', '/content/drive/My Drive/20_newsgroup/20news-bydate-train/rec.autos/102860', '/content/drive/My Drive/20_newsgroup/20news-bydate-train/rec.autos/102777', '/content/drive/My Drive/20_newsgroup/20news-bydate-train/rec.autos/103107', '/content/drive/My Drive/20_newsgroup/20news-bydate-train/rec.autos/103437', '/content/drive/My Drive/20_newsgroup/20news-bydate-train/rec.autos/102756', '/content/drive/My Drive/20_newsgroup/20news-bydate-train/rec.autos/102781', '/content/drive/My Drive/20_newsgroup/20news-bydate-train/rec.autos/102761', '/content/drive/My Drive/20_newsgroup/20news-bydate-train/rec.autos/102755', '/content/drive/My Drive/20_newsgroup/20news-bydate-train/rec.autos/102859', '/content/drive/My Drive/20_newsgroup/20news-bydate-train/rec.autos/103023', '/content/drive/My Drive/20_newsgroup/20news-bydate-train/rec.autos/101636', '/content/drive/My Drive/20_newsgroup/20news-bydate-train/rec.autos/103027', '/content/drive/My Drive/20_newsgroup/20news-bydate-train/rec.autos/103014', '/content/drive/My Drive/20_newsgroup/20news-bydate-train/rec.autos/103029', '/content/drive/My Drive/20_newsgroup/20news-bydate-train/rec.autos/103312', '/content/drive/My Drive/20_newsgroup/20news-bydate-train/rec.autos/103168', '/content/drive/My Drive/20_newsgroup/20news-bydate-train/rec.autos/101675', '/content/drive/My Drive/20_newsgroup/20news-bydate-train/rec.autos/103311', '/content/drive/My Drive/20_newsgroup/20news-bydate-train/rec.autos/101660', '/content/drive/My Drive/20_newsgroup/20news-bydate-train/rec.autos/102918', '/content/drive/My Drive/20_newsgroup/20news-bydate-train/rec.autos/102751', '/content/drive/My Drive/20_newsgroup/20news-bydate-train/rec.autos/101672', '/content/drive/My Drive/20_newsgroup/20news-bydate-train/rec.autos/102879', '/content/drive/My Drive/20_newsgroup/20news-bydate-train/rec.autos/102966', '/content/drive/My Drive/20_newsgroup/20news-bydate-train/rec.autos/102776', '/content/drive/My Drive/20_newsgroup/20news-bydate-train/rec.autos/101666', '/content/drive/My Drive/20_newsgroup/20news-bydate-train/rec.autos/103015', '/content/drive/My Drive/20_newsgroup/20news-bydate-train/rec.autos/103031', '/content/drive/My Drive/20_newsgroup/20news-bydate-train/rec.autos/102854', '/content/drive/My Drive/20_newsgroup/20news-bydate-train/rec.autos/103095', '/content/drive/My Drive/20_newsgroup/20news-bydate-train/rec.autos/102923', '/content/drive/My Drive/20_newsgroup/20news-bydate-train/rec.autos/102864', '/content/drive/My Drive/20_newsgroup/20news-bydate-train/rec.autos/102889', '/content/drive/My Drive/20_newsgroup/20news-bydate-train/rec.autos/101664', '/content/drive/My Drive/20_newsgroup/20news-bydate-train/rec.autos/102746', '/content/drive/My Drive/20_newsgroup/20news-bydate-train/rec.autos/103293', '/content/drive/My Drive/20_newsgroup/20news-bydate-train/rec.autos/102774', '/content/drive/My Drive/20_newsgroup/20news-bydate-train/rec.autos/102878', '/content/drive/My Drive/20_newsgroup/20news-bydate-train/rec.autos/103115', '/content/drive/My Drive/20_newsgroup/20news-bydate-train/rec.autos/102909', '/content/drive/My Drive/20_newsgroup/20news-bydate-train/rec.autos/102899', '/content/drive/My Drive/20_newsgroup/20news-bydate-train/rec.autos/103087', '/content/drive/My Drive/20_newsgroup/20news-bydate-train/rec.autos/103297', '/content/drive/My Drive/20_newsgroup/20news-bydate-train/rec.autos/102930', '/content/drive/My Drive/20_newsgroup/20news-bydate-train/rec.autos/101674', '/content/drive/My Drive/20_newsgroup/20news-bydate-train/rec.autos/102853', '/content/drive/My Drive/20_newsgroup/20news-bydate-train/rec.autos/101638', '/content/drive/My Drive/20_newsgroup/20news-bydate-train/rec.autos/103101', '/content/drive/My Drive/20_newsgroup/20news-bydate-train/rec.autos/103099', '/content/drive/My Drive/20_newsgroup/20news-bydate-train/rec.autos/102901', '/content/drive/My Drive/20_newsgroup/20news-bydate-train/rec.autos/103033', '/content/drive/My Drive/20_newsgroup/20news-bydate-train/rec.autos/102784', '/content/drive/My Drive/20_newsgroup/20news-bydate-train/rec.autos/102908', '/content/drive/My Drive/20_newsgroup/20news-bydate-train/rec.autos/102747', '/content/drive/My Drive/20_newsgroup/20news-bydate-train/rec.autos/102900', '/content/drive/My Drive/20_newsgroup/20news-bydate-train/rec.autos/103085', '/content/drive/My Drive/20_newsgroup/20news-bydate-train/rec.autos/102734', '/content/drive/My Drive/20_newsgroup/20news-bydate-train/rec.autos/102914', '/content/drive/My Drive/20_newsgroup/20news-bydate-train/rec.autos/101652', '/content/drive/My Drive/20_newsgroup/20news-bydate-train/rec.autos/102920', '/content/drive/My Drive/20_newsgroup/20news-bydate-train/rec.autos/102870', '/content/drive/My Drive/20_newsgroup/20news-bydate-train/rec.autos/102766', '/content/drive/My Drive/20_newsgroup/20news-bydate-train/rec.autos/102752', '/content/drive/My Drive/20_newsgroup/20news-bydate-train/rec.autos/102916', '/content/drive/My Drive/20_newsgroup/20news-bydate-train/rec.autos/102739', '/content/drive/My Drive/20_newsgroup/20news-bydate-train/rec.autos/103378', '/content/drive/My Drive/20_newsgroup/20news-bydate-train/rec.autos/102851', '/content/drive/My Drive/20_newsgroup/20news-bydate-train/rec.autos/103088', '/content/drive/My Drive/20_newsgroup/20news-bydate-train/rec.autos/102866', '/content/drive/My Drive/20_newsgroup/20news-bydate-train/rec.autos/103281', '/content/drive/My Drive/20_newsgroup/20news-bydate-train/rec.autos/102888', '/content/drive/My Drive/20_newsgroup/20news-bydate-train/rec.autos/102737', '/content/drive/My Drive/20_newsgroup/20news-bydate-train/rec.autos/103172', '/content/drive/My Drive/20_newsgroup/20news-bydate-train/rec.autos/103021', '/content/drive/My Drive/20_newsgroup/20news-bydate-train/rec.autos/103116', '/content/drive/My Drive/20_newsgroup/20news-bydate-train/rec.autos/102882', '/content/drive/My Drive/20_newsgroup/20news-bydate-train/rec.autos/102754', '/content/drive/My Drive/20_newsgroup/20news-bydate-train/rec.autos/102892', '/content/drive/My Drive/20_newsgroup/20news-bydate-train/rec.autos/102786', '/content/drive/My Drive/20_newsgroup/20news-bydate-train/rec.autos/101676', '/content/drive/My Drive/20_newsgroup/20news-bydate-train/rec.autos/102748', '/content/drive/My Drive/20_newsgroup/20news-bydate-train/rec.autos/102906', '/content/drive/My Drive/20_newsgroup/20news-bydate-train/rec.autos/102855', '/content/drive/My Drive/20_newsgroup/20news-bydate-train/rec.autos/101658', '/content/drive/My Drive/20_newsgroup/20news-bydate-train/rec.autos/101671', '/content/drive/My Drive/20_newsgroup/20news-bydate-train/rec.autos/102894', '/content/drive/My Drive/20_newsgroup/20news-bydate-train/rec.autos/102852', '/content/drive/My Drive/20_newsgroup/20news-bydate-train/rec.autos/102848', '/content/drive/My Drive/20_newsgroup/20news-bydate-train/rec.autos/102858', '/content/drive/My Drive/20_newsgroup/20news-bydate-train/rec.autos/102862', '/content/drive/My Drive/20_newsgroup/20news-bydate-train/rec.autos/101643', '/content/drive/My Drive/20_newsgroup/20news-bydate-train/rec.autos/101663', '/content/drive/My Drive/20_newsgroup/20news-bydate-train/rec.autos/102891', '/content/drive/My Drive/20_newsgroup/20news-bydate-train/rec.autos/102874', '/content/drive/My Drive/20_newsgroup/20news-bydate-train/rec.autos/102765', '/content/drive/My Drive/20_newsgroup/20news-bydate-train/rec.autos/101656', '/content/drive/My Drive/20_newsgroup/20news-bydate-train/rec.autos/102762', '/content/drive/My Drive/20_newsgroup/20news-bydate-train/rec.autos/103019', '/content/drive/My Drive/20_newsgroup/20news-bydate-train/rec.autos/103018', '/content/drive/My Drive/20_newsgroup/20news-bydate-train/rec.autos/102924', '/content/drive/My Drive/20_newsgroup/20news-bydate-train/rec.autos/102965', '/content/drive/My Drive/20_newsgroup/20news-bydate-train/rec.autos/101669', '/content/drive/My Drive/20_newsgroup/20news-bydate-train/rec.autos/101646', '/content/drive/My Drive/20_newsgroup/20news-bydate-train/rec.autos/102857', '/content/drive/My Drive/20_newsgroup/20news-bydate-train/rec.autos/102893', '/content/drive/My Drive/20_newsgroup/20news-bydate-train/rec.autos/103224', '/content/drive/My Drive/20_newsgroup/20news-bydate-train/rec.autos/102875', '/content/drive/My Drive/20_newsgroup/20news-bydate-train/rec.autos/101670', '/content/drive/My Drive/20_newsgroup/20news-bydate-train/rec.autos/102880', '/content/drive/My Drive/20_newsgroup/20news-bydate-train/rec.autos/103283', '/content/drive/My Drive/20_newsgroup/20news-bydate-train/rec.autos/103016', '/content/drive/My Drive/20_newsgroup/20news-bydate-train/rec.autos/103091', '/content/drive/My Drive/20_newsgroup/20news-bydate-train/rec.autos/102797', '/content/drive/My Drive/20_newsgroup/20news-bydate-train/rec.autos/102922', '/content/drive/My Drive/20_newsgroup/20news-bydate-train/rec.autos/103094', '/content/drive/My Drive/20_newsgroup/20news-bydate-train/rec.autos/102872', '/content/drive/My Drive/20_newsgroup/20news-bydate-train/rec.autos/103103', '/content/drive/My Drive/20_newsgroup/20news-bydate-train/rec.autos/102931', '/content/drive/My Drive/20_newsgroup/20news-bydate-train/rec.autos/102877', '/content/drive/My Drive/20_newsgroup/20news-bydate-train/rec.autos/102847', '/content/drive/My Drive/20_newsgroup/20news-bydate-train/rec.autos/101680', '/content/drive/My Drive/20_newsgroup/20news-bydate-train/rec.autos/102757', '/content/drive/My Drive/20_newsgroup/20news-bydate-train/rec.autos/103108', '/content/drive/My Drive/20_newsgroup/20news-bydate-train/rec.autos/102779', '/content/drive/My Drive/20_newsgroup/20news-bydate-train/rec.autos/103279', '/content/drive/My Drive/20_newsgroup/20news-bydate-train/rec.autos/102742', '/content/drive/My Drive/20_newsgroup/20news-bydate-train/rec.autos/102881', '/content/drive/My Drive/20_newsgroup/20news-bydate-train/rec.autos/102903', '/content/drive/My Drive/20_newsgroup/20news-bydate-train/rec.autos/101644', '/content/drive/My Drive/20_newsgroup/20news-bydate-train/rec.autos/103379', '/content/drive/My Drive/20_newsgroup/20news-bydate-train/rec.autos/103098', '/content/drive/My Drive/20_newsgroup/20news-bydate-train/rec.autos/103092', '/content/drive/My Drive/20_newsgroup/20news-bydate-train/rec.autos/101662', '/content/drive/My Drive/20_newsgroup/20news-bydate-train/rec.autos/101650', '/content/drive/My Drive/20_newsgroup/20news-bydate-train/rec.autos/102913', '/content/drive/My Drive/20_newsgroup/20news-bydate-train/rec.autos/101677', '/content/drive/My Drive/20_newsgroup/20news-bydate-train/rec.autos/103097', '/content/drive/My Drive/20_newsgroup/20news-bydate-train/rec.autos/103169', '/content/drive/My Drive/20_newsgroup/20news-bydate-train/rec.autos/102907', '/content/drive/My Drive/20_newsgroup/20news-bydate-train/rec.autos/103111', '/content/drive/My Drive/20_newsgroup/20news-bydate-train/rec.autos/102740', '/content/drive/My Drive/20_newsgroup/20news-bydate-train/rec.autos/102887', '/content/drive/My Drive/20_newsgroup/20news-bydate-train/rec.autos/102921', '/content/drive/My Drive/20_newsgroup/20news-bydate-train/rec.autos/101673', '/content/drive/My Drive/20_newsgroup/20news-bydate-train/rec.autos/102772', '/content/drive/My Drive/20_newsgroup/20news-bydate-train/rec.autos/102886', '/content/drive/My Drive/20_newsgroup/20news-bydate-train/rec.autos/103010', '/content/drive/My Drive/20_newsgroup/20news-bydate-train/rec.autos/102863', '/content/drive/My Drive/20_newsgroup/20news-bydate-train/rec.autos/103034', '/content/drive/My Drive/20_newsgroup/20news-bydate-train/rec.autos/102741', '/content/drive/My Drive/20_newsgroup/20news-bydate-train/rec.autos/102744', '/content/drive/My Drive/20_newsgroup/20news-bydate-train/rec.autos/101648', '/content/drive/My Drive/20_newsgroup/20news-bydate-train/rec.autos/103011', '/content/drive/My Drive/20_newsgroup/20news-bydate-train/rec.autos/102745', '/content/drive/My Drive/20_newsgroup/20news-bydate-train/rec.autos/103295', '/content/drive/My Drive/20_newsgroup/20news-bydate-train/rec.autos/103120', '/content/drive/My Drive/20_newsgroup/20news-bydate-train/rec.autos/102867', '/content/drive/My Drive/20_newsgroup/20news-bydate-train/rec.autos/102925', '/content/drive/My Drive/20_newsgroup/20news-bydate-train/rec.autos/102884', '/content/drive/My Drive/20_newsgroup/20news-bydate-train/rec.autos/103093', '/content/drive/My Drive/20_newsgroup/20news-bydate-train/rec.autos/102912', '/content/drive/My Drive/20_newsgroup/20news-bydate-train/rec.autos/102896', '/content/drive/My Drive/20_newsgroup/20news-bydate-train/rec.autos/102850', '/content/drive/My Drive/20_newsgroup/20news-bydate-train/rec.autos/103036', '/content/drive/My Drive/20_newsgroup/20news-bydate-train/rec.autos/103251', '/content/drive/My Drive/20_newsgroup/20news-bydate-train/rec.autos/103230', '/content/drive/My Drive/20_newsgroup/20news-bydate-train/rec.autos/103117', '/content/drive/My Drive/20_newsgroup/20news-bydate-train/rec.autos/102760', '/content/drive/My Drive/20_newsgroup/20news-bydate-train/rec.autos/102915', '/content/drive/My Drive/20_newsgroup/20news-bydate-train/rec.autos/103112', '/content/drive/My Drive/20_newsgroup/20news-bydate-train/rec.autos/103171', '/content/drive/My Drive/20_newsgroup/20news-bydate-train/rec.autos/102773', '/content/drive/My Drive/20_newsgroup/20news-bydate-train/rec.autos/102767', '/content/drive/My Drive/20_newsgroup/20news-bydate-train/rec.autos/102733', '/content/drive/My Drive/20_newsgroup/20news-bydate-train/rec.autos/103280', '/content/drive/My Drive/20_newsgroup/20news-bydate-train/rec.autos/102890', '/content/drive/My Drive/20_newsgroup/20news-bydate-train/rec.autos/103009', '/content/drive/My Drive/20_newsgroup/20news-bydate-train/rec.autos/103114', '/content/drive/My Drive/20_newsgroup/20news-bydate-train/rec.autos/103294', '/content/drive/My Drive/20_newsgroup/20news-bydate-train/rec.autos/102868', '/content/drive/My Drive/20_newsgroup/20news-bydate-train/rec.autos/103012', '/content/drive/My Drive/20_newsgroup/20news-bydate-train/rec.autos/103306', '/content/drive/My Drive/20_newsgroup/20news-bydate-train/rec.autos/102735', '/content/drive/My Drive/20_newsgroup/20news-bydate-train/rec.autos/103084', '/content/drive/My Drive/20_newsgroup/20news-bydate-train/rec.autos/102898', '/content/drive/My Drive/20_newsgroup/20news-bydate-train/rec.autos/103282', '/content/drive/My Drive/20_newsgroup/20news-bydate-train/rec.autos/101651', '/content/drive/My Drive/20_newsgroup/20news-bydate-train/rec.autos/102871', '/content/drive/My Drive/20_newsgroup/20news-bydate-train/rec.autos/102780', '/content/drive/My Drive/20_newsgroup/20news-bydate-train/rec.autos/103026', '/content/drive/My Drive/20_newsgroup/20news-bydate-train/rec.autos/103170', '/content/drive/My Drive/20_newsgroup/20news-bydate-train/rec.autos/102876', '/content/drive/My Drive/20_newsgroup/20news-bydate-train/rec.autos/101657', '/content/drive/My Drive/20_newsgroup/20news-bydate-train/rec.autos/102856', '/content/drive/My Drive/20_newsgroup/20news-bydate-train/rec.autos/102794', '/content/drive/My Drive/20_newsgroup/20news-bydate-train/rec.autos/102758', '/content/drive/My Drive/20_newsgroup/20news-bydate-train/rec.autos/103109', '/content/drive/My Drive/20_newsgroup/20news-bydate-train/rec.autos/103022', '/content/drive/My Drive/20_newsgroup/20news-bydate-train/rec.autos/102759', '/content/drive/My Drive/20_newsgroup/20news-bydate-train/rec.autos/102902', '/content/drive/My Drive/20_newsgroup/20news-bydate-train/rec.autos/103229', '/content/drive/My Drive/20_newsgroup/20news-bydate-train/rec.autos/101659', '/content/drive/My Drive/20_newsgroup/20news-bydate-train/rec.autos/102904', '/content/drive/My Drive/20_newsgroup/20news-bydate-train/rec.autos/102778', '/content/drive/My Drive/20_newsgroup/20news-bydate-train/rec.autos/102932', '/content/drive/My Drive/20_newsgroup/20news-bydate-train/rec.autos/102905', '/content/drive/My Drive/20_newsgroup/20news-bydate-train/rec.autos/102849', '/content/drive/My Drive/20_newsgroup/20news-bydate-train/rec.autos/103100', '/content/drive/My Drive/20_newsgroup/20news-bydate-train/rec.autos/102736', '/content/drive/My Drive/20_newsgroup/20news-bydate-train/rec.autos/102910', '/content/drive/My Drive/20_newsgroup/20news-bydate-train/rec.autos/103106', '/content/drive/My Drive/20_newsgroup/20news-bydate-train/rec.autos/102865', '/content/drive/My Drive/20_newsgroup/20news-bydate-train/rec.autos/101679', '/content/drive/My Drive/20_newsgroup/20news-bydate-train/rec.autos/103258', '/content/drive/My Drive/20_newsgroup/20news-bydate-train/rec.autos/102775', '/content/drive/My Drive/20_newsgroup/20news-bydate-train/rec.autos/103105', '/content/drive/My Drive/20_newsgroup/20news-bydate-train/rec.autos/102861', '/content/drive/My Drive/20_newsgroup/20news-bydate-train/rec.autos/102883', '/content/drive/My Drive/20_newsgroup/20news-bydate-train/rec.autos/103096', '/content/drive/My Drive/20_newsgroup/20news-bydate-train/rec.autos/103090', '/content/drive/My Drive/20_newsgroup/20news-bydate-train/rec.autos/103025', '/content/drive/My Drive/20_newsgroup/20news-bydate-train/rec.autos/102885', '/content/drive/My Drive/20_newsgroup/20news-bydate-train/rec.autos/102964', '/content/drive/My Drive/20_newsgroup/20news-bydate-train/rec.autos/103039', '/content/drive/My Drive/20_newsgroup/20news-bydate-train/rec.autos/102812', '/content/drive/My Drive/20_newsgroup/20news-bydate-train/rec.autos/103756', '/content/drive/My Drive/20_newsgroup/20news-bydate-train/rec.autos/103060', '/content/drive/My Drive/20_newsgroup/20news-bydate-train/rec.autos/103189', '/content/drive/My Drive/20_newsgroup/20news-bydate-train/rec.autos/103056', '/content/drive/My Drive/20_newsgroup/20news-bydate-train/rec.autos/103413', '/content/drive/My Drive/20_newsgroup/20news-bydate-train/rec.autos/102841', '/content/drive/My Drive/20_newsgroup/20news-bydate-train/rec.autos/102804', '/content/drive/My Drive/20_newsgroup/20news-bydate-train/rec.autos/102972', '/content/drive/My Drive/20_newsgroup/20news-bydate-train/rec.autos/102987', '/content/drive/My Drive/20_newsgroup/20news-bydate-train/rec.autos/102768', '/content/drive/My Drive/20_newsgroup/20news-bydate-train/rec.autos/103234', '/content/drive/My Drive/20_newsgroup/20news-bydate-train/rec.autos/102973', '/content/drive/My Drive/20_newsgroup/20news-bydate-train/rec.autos/102803', '/content/drive/My Drive/20_newsgroup/20news-bydate-train/rec.autos/103005', '/content/drive/My Drive/20_newsgroup/20news-bydate-train/rec.autos/103190', '/content/drive/My Drive/20_newsgroup/20news-bydate-train/rec.autos/103308', '/content/drive/My Drive/20_newsgroup/20news-bydate-train/rec.autos/103781', '/content/drive/My Drive/20_newsgroup/20news-bydate-train/rec.autos/103062', '/content/drive/My Drive/20_newsgroup/20news-bydate-train/rec.autos/103059', '/content/drive/My Drive/20_newsgroup/20news-bydate-train/rec.autos/102798', '/content/drive/My Drive/20_newsgroup/20news-bydate-train/rec.autos/102958', '/content/drive/My Drive/20_newsgroup/20news-bydate-train/rec.autos/103747', '/content/drive/My Drive/20_newsgroup/20news-bydate-train/rec.autos/102792', '/content/drive/My Drive/20_newsgroup/20news-bydate-train/rec.autos/103385', '/content/drive/My Drive/20_newsgroup/20news-bydate-train/rec.autos/102960', '/content/drive/My Drive/20_newsgroup/20news-bydate-train/rec.autos/103345', '/content/drive/My Drive/20_newsgroup/20news-bydate-train/rec.autos/102974', '/content/drive/My Drive/20_newsgroup/20news-bydate-train/rec.autos/103049', '/content/drive/My Drive/20_newsgroup/20news-bydate-train/rec.autos/103223', '/content/drive/My Drive/20_newsgroup/20news-bydate-train/rec.autos/103262', '/content/drive/My Drive/20_newsgroup/20news-bydate-train/rec.autos/103766', '/content/drive/My Drive/20_newsgroup/20news-bydate-train/rec.autos/102952', '/content/drive/My Drive/20_newsgroup/20news-bydate-train/rec.autos/102813', '/content/drive/My Drive/20_newsgroup/20news-bydate-train/rec.autos/103050', '/content/drive/My Drive/20_newsgroup/20news-bydate-train/rec.autos/103330', '/content/drive/My Drive/20_newsgroup/20news-bydate-train/rec.autos/103260', '/content/drive/My Drive/20_newsgroup/20news-bydate-train/rec.autos/102796', '/content/drive/My Drive/20_newsgroup/20news-bydate-train/rec.autos/102993', '/content/drive/My Drive/20_newsgroup/20news-bydate-train/rec.autos/102975', '/content/drive/My Drive/20_newsgroup/20news-bydate-train/rec.autos/102816', '/content/drive/My Drive/20_newsgroup/20news-bydate-train/rec.autos/102807', '/content/drive/My Drive/20_newsgroup/20news-bydate-train/rec.autos/103366', '/content/drive/My Drive/20_newsgroup/20news-bydate-train/rec.autos/102793', '/content/drive/My Drive/20_newsgroup/20news-bydate-train/rec.autos/102844', '/content/drive/My Drive/20_newsgroup/20news-bydate-train/rec.autos/102764', '/content/drive/My Drive/20_newsgroup/20news-bydate-train/rec.autos/103325', '/content/drive/My Drive/20_newsgroup/20news-bydate-train/rec.autos/103187', '/content/drive/My Drive/20_newsgroup/20news-bydate-train/rec.autos/103162', '/content/drive/My Drive/20_newsgroup/20news-bydate-train/rec.autos/102950', '/content/drive/My Drive/20_newsgroup/20news-bydate-train/rec.autos/103001', '/content/drive/My Drive/20_newsgroup/20news-bydate-train/rec.autos/103768', '/content/drive/My Drive/20_newsgroup/20news-bydate-train/rec.autos/102990', '/content/drive/My Drive/20_newsgroup/20news-bydate-train/rec.autos/103384', '/content/drive/My Drive/20_newsgroup/20news-bydate-train/rec.autos/102839', '/content/drive/My Drive/20_newsgroup/20news-bydate-train/rec.autos/103225', '/content/drive/My Drive/20_newsgroup/20news-bydate-train/rec.autos/102957', '/content/drive/My Drive/20_newsgroup/20news-bydate-train/rec.autos/103040', '/content/drive/My Drive/20_newsgroup/20news-bydate-train/rec.autos/102997', '/content/drive/My Drive/20_newsgroup/20news-bydate-train/rec.autos/102982', '/content/drive/My Drive/20_newsgroup/20news-bydate-train/rec.autos/103188', '/content/drive/My Drive/20_newsgroup/20news-bydate-train/rec.autos/103044', '/content/drive/My Drive/20_newsgroup/20news-bydate-train/rec.autos/102770', '/content/drive/My Drive/20_newsgroup/20news-bydate-train/rec.autos/103194', '/content/drive/My Drive/20_newsgroup/20news-bydate-train/rec.autos/102845', '/content/drive/My Drive/20_newsgroup/20news-bydate-train/rec.autos/102989', '/content/drive/My Drive/20_newsgroup/20news-bydate-train/rec.autos/102831', '/content/drive/My Drive/20_newsgroup/20news-bydate-train/rec.autos/102955', '/content/drive/My Drive/20_newsgroup/20news-bydate-train/rec.autos/102944', '/content/drive/My Drive/20_newsgroup/20news-bydate-train/rec.autos/103381', '/content/drive/My Drive/20_newsgroup/20news-bydate-train/rec.autos/103443', '/content/drive/My Drive/20_newsgroup/20news-bydate-train/rec.autos/102994', '/content/drive/My Drive/20_newsgroup/20news-bydate-train/rec.autos/102806', '/content/drive/My Drive/20_newsgroup/20news-bydate-train/rec.autos/103323', '/content/drive/My Drive/20_newsgroup/20news-bydate-train/rec.autos/103004', '/content/drive/My Drive/20_newsgroup/20news-bydate-train/rec.autos/102817', '/content/drive/My Drive/20_newsgroup/20news-bydate-train/rec.autos/103761', '/content/drive/My Drive/20_newsgroup/20news-bydate-train/rec.autos/102969', '/content/drive/My Drive/20_newsgroup/20news-bydate-train/rec.autos/102827', '/content/drive/My Drive/20_newsgroup/20news-bydate-train/rec.autos/102963', '/content/drive/My Drive/20_newsgroup/20news-bydate-train/rec.autos/103184', '/content/drive/My Drive/20_newsgroup/20news-bydate-train/rec.autos/103758', '/content/drive/My Drive/20_newsgroup/20news-bydate-train/rec.autos/102970', '/content/drive/My Drive/20_newsgroup/20news-bydate-train/rec.autos/102942', '/content/drive/My Drive/20_newsgroup/20news-bydate-train/rec.autos/102959', '/content/drive/My Drive/20_newsgroup/20news-bydate-train/rec.autos/102953', '/content/drive/My Drive/20_newsgroup/20news-bydate-train/rec.autos/103186', '/content/drive/My Drive/20_newsgroup/20news-bydate-train/rec.autos/103415', '/content/drive/My Drive/20_newsgroup/20news-bydate-train/rec.autos/103760', '/content/drive/My Drive/20_newsgroup/20news-bydate-train/rec.autos/102980', '/content/drive/My Drive/20_newsgroup/20news-bydate-train/rec.autos/102825', '/content/drive/My Drive/20_newsgroup/20news-bydate-train/rec.autos/103203', '/content/drive/My Drive/20_newsgroup/20news-bydate-train/rec.autos/102838', '/content/drive/My Drive/20_newsgroup/20news-bydate-train/rec.autos/103052', '/content/drive/My Drive/20_newsgroup/20news-bydate-train/rec.autos/103236', '/content/drive/My Drive/20_newsgroup/20news-bydate-train/rec.autos/102947', '/content/drive/My Drive/20_newsgroup/20news-bydate-train/rec.autos/102977', '/content/drive/My Drive/20_newsgroup/20news-bydate-train/rec.autos/103046', '/content/drive/My Drive/20_newsgroup/20news-bydate-train/rec.autos/103053', '/content/drive/My Drive/20_newsgroup/20news-bydate-train/rec.autos/102941', '/content/drive/My Drive/20_newsgroup/20news-bydate-train/rec.autos/103764', '/content/drive/My Drive/20_newsgroup/20news-bydate-train/rec.autos/102824', '/content/drive/My Drive/20_newsgroup/20news-bydate-train/rec.autos/102999', '/content/drive/My Drive/20_newsgroup/20news-bydate-train/rec.autos/102800', '/content/drive/My Drive/20_newsgroup/20news-bydate-train/rec.autos/102933', '/content/drive/My Drive/20_newsgroup/20news-bydate-train/rec.autos/102835', '/content/drive/My Drive/20_newsgroup/20news-bydate-train/rec.autos/102763', '/content/drive/My Drive/20_newsgroup/20news-bydate-train/rec.autos/102984', '/content/drive/My Drive/20_newsgroup/20news-bydate-train/rec.autos/103657', '/content/drive/My Drive/20_newsgroup/20news-bydate-train/rec.autos/103133', '/content/drive/My Drive/20_newsgroup/20news-bydate-train/rec.autos/102936', '/content/drive/My Drive/20_newsgroup/20news-bydate-train/rec.autos/102840', '/content/drive/My Drive/20_newsgroup/20news-bydate-train/rec.autos/102998', '/content/drive/My Drive/20_newsgroup/20news-bydate-train/rec.autos/102809', '/content/drive/My Drive/20_newsgroup/20news-bydate-train/rec.autos/102821', '/content/drive/My Drive/20_newsgroup/20news-bydate-train/rec.autos/103307', '/content/drive/My Drive/20_newsgroup/20news-bydate-train/rec.autos/102771', '/content/drive/My Drive/20_newsgroup/20news-bydate-train/rec.autos/103237', '/content/drive/My Drive/20_newsgroup/20news-bydate-train/rec.autos/102836', '/content/drive/My Drive/20_newsgroup/20news-bydate-train/rec.autos/102985', '/content/drive/My Drive/20_newsgroup/20news-bydate-train/rec.autos/103055', '/content/drive/My Drive/20_newsgroup/20news-bydate-train/rec.autos/102934', '/content/drive/My Drive/20_newsgroup/20news-bydate-train/rec.autos/102971', '/content/drive/My Drive/20_newsgroup/20news-bydate-train/rec.autos/102961', '/content/drive/My Drive/20_newsgroup/20news-bydate-train/rec.autos/102820', '/content/drive/My Drive/20_newsgroup/20news-bydate-train/rec.autos/103763', '/content/drive/My Drive/20_newsgroup/20news-bydate-train/rec.autos/103235', '/content/drive/My Drive/20_newsgroup/20news-bydate-train/rec.autos/103383', '/content/drive/My Drive/20_newsgroup/20news-bydate-train/rec.autos/103227', '/content/drive/My Drive/20_newsgroup/20news-bydate-train/rec.autos/102805', '/content/drive/My Drive/20_newsgroup/20news-bydate-train/rec.autos/103426', '/content/drive/My Drive/20_newsgroup/20news-bydate-train/rec.autos/103233', '/content/drive/My Drive/20_newsgroup/20news-bydate-train/rec.autos/103061', '/content/drive/My Drive/20_newsgroup/20news-bydate-train/rec.autos/102978', '/content/drive/My Drive/20_newsgroup/20news-bydate-train/rec.autos/102991', '/content/drive/My Drive/20_newsgroup/20news-bydate-train/rec.autos/103757', '/content/drive/My Drive/20_newsgroup/20news-bydate-train/rec.autos/103006', '/content/drive/My Drive/20_newsgroup/20news-bydate-train/rec.autos/102937', '/content/drive/My Drive/20_newsgroup/20news-bydate-train/rec.autos/102962', '/content/drive/My Drive/20_newsgroup/20news-bydate-train/rec.autos/102788', '/content/drive/My Drive/20_newsgroup/20news-bydate-train/rec.autos/103382', '/content/drive/My Drive/20_newsgroup/20news-bydate-train/rec.autos/103354', '/content/drive/My Drive/20_newsgroup/20news-bydate-train/rec.autos/103193', '/content/drive/My Drive/20_newsgroup/20news-bydate-train/rec.autos/102802', '/content/drive/My Drive/20_newsgroup/20news-bydate-train/rec.autos/102981', '/content/drive/My Drive/20_newsgroup/20news-bydate-train/rec.autos/102834', '/content/drive/My Drive/20_newsgroup/20news-bydate-train/rec.autos/102842', '/content/drive/My Drive/20_newsgroup/20news-bydate-train/rec.autos/102826', '/content/drive/My Drive/20_newsgroup/20news-bydate-train/rec.autos/102795', '/content/drive/My Drive/20_newsgroup/20news-bydate-train/rec.autos/103309', '/content/drive/My Drive/20_newsgroup/20news-bydate-train/rec.autos/103003', '/content/drive/My Drive/20_newsgroup/20news-bydate-train/rec.autos/103047', '/content/drive/My Drive/20_newsgroup/20news-bydate-train/rec.autos/102808', '/content/drive/My Drive/20_newsgroup/20news-bydate-train/rec.autos/102946', '/content/drive/My Drive/20_newsgroup/20news-bydate-train/rec.autos/102811', '/content/drive/My Drive/20_newsgroup/20news-bydate-train/rec.autos/103208', '/content/drive/My Drive/20_newsgroup/20news-bydate-train/rec.autos/103475', '/content/drive/My Drive/20_newsgroup/20news-bydate-train/rec.autos/103054', '/content/drive/My Drive/20_newsgroup/20news-bydate-train/rec.autos/103765', '/content/drive/My Drive/20_newsgroup/20news-bydate-train/rec.autos/102976', '/content/drive/My Drive/20_newsgroup/20news-bydate-train/rec.autos/103051', '/content/drive/My Drive/20_newsgroup/20news-bydate-train/rec.autos/103762', '/content/drive/My Drive/20_newsgroup/20news-bydate-train/rec.autos/103326', '/content/drive/My Drive/20_newsgroup/20news-bydate-train/rec.autos/102954', '/content/drive/My Drive/20_newsgroup/20news-bydate-train/rec.autos/103041', '/content/drive/My Drive/20_newsgroup/20news-bydate-train/rec.autos/102995', '/content/drive/My Drive/20_newsgroup/20news-bydate-train/rec.autos/102832', '/content/drive/My Drive/20_newsgroup/20news-bydate-train/rec.autos/103347', '/content/drive/My Drive/20_newsgroup/20news-bydate-train/rec.autos/102837', '/content/drive/My Drive/20_newsgroup/20news-bydate-train/rec.autos/103748', '/content/drive/My Drive/20_newsgroup/20news-bydate-train/rec.autos/102810', '/content/drive/My Drive/20_newsgroup/20news-bydate-train/rec.autos/102828', '/content/drive/My Drive/20_newsgroup/20news-bydate-train/rec.autos/103769', '/content/drive/My Drive/20_newsgroup/20news-bydate-train/rec.autos/103442', '/content/drive/My Drive/20_newsgroup/20news-bydate-train/rec.autos/103196', '/content/drive/My Drive/20_newsgroup/20news-bydate-train/rec.autos/103211', '/content/drive/My Drive/20_newsgroup/20news-bydate-train/rec.autos/102829', '/content/drive/My Drive/20_newsgroup/20news-bydate-train/rec.autos/102822', '/content/drive/My Drive/20_newsgroup/20news-bydate-train/rec.autos/103296', '/content/drive/My Drive/20_newsgroup/20news-bydate-train/rec.autos/102945', '/content/drive/My Drive/20_newsgroup/20news-bydate-train/rec.autos/102986', '/content/drive/My Drive/20_newsgroup/20news-bydate-train/rec.autos/103226', '/content/drive/My Drive/20_newsgroup/20news-bydate-train/rec.autos/103328', '/content/drive/My Drive/20_newsgroup/20news-bydate-train/rec.autos/102799', '/content/drive/My Drive/20_newsgroup/20news-bydate-train/rec.autos/103265', '/content/drive/My Drive/20_newsgroup/20news-bydate-train/rec.autos/102791', '/content/drive/My Drive/20_newsgroup/20news-bydate-train/rec.autos/103241', '/content/drive/My Drive/20_newsgroup/20news-bydate-train/rec.autos/102818', '/content/drive/My Drive/20_newsgroup/20news-bydate-train/rec.autos/102948', '/content/drive/My Drive/20_newsgroup/20news-bydate-train/rec.autos/102790', '/content/drive/My Drive/20_newsgroup/20news-bydate-train/rec.autos/102801', '/content/drive/My Drive/20_newsgroup/20news-bydate-train/rec.autos/102943', '/content/drive/My Drive/20_newsgroup/20news-bydate-train/rec.autos/102938', '/content/drive/My Drive/20_newsgroup/20news-bydate-train/rec.autos/102814', '/content/drive/My Drive/20_newsgroup/20news-bydate-train/rec.autos/103653', '/content/drive/My Drive/20_newsgroup/20news-bydate-train/rec.autos/102949', '/content/drive/My Drive/20_newsgroup/20news-bydate-train/rec.autos/102830', '/content/drive/My Drive/20_newsgroup/20news-bydate-train/rec.autos/103242', '/content/drive/My Drive/20_newsgroup/20news-bydate-train/rec.autos/102992', '/content/drive/My Drive/20_newsgroup/20news-bydate-train/rec.autos/103064', '/content/drive/My Drive/20_newsgroup/20news-bydate-train/rec.autos/102940', '/content/drive/My Drive/20_newsgroup/20news-bydate-train/rec.autos/102939', '/content/drive/My Drive/20_newsgroup/20news-bydate-train/rec.autos/103042', '/content/drive/My Drive/20_newsgroup/20news-bydate-train/rec.autos/103200', '/content/drive/My Drive/20_newsgroup/20news-bydate-train/rec.autos/103185', '/content/drive/My Drive/20_newsgroup/20news-bydate-train/rec.autos/102988', '/content/drive/My Drive/20_newsgroup/20news-bydate-train/rec.autos/102815', '/content/drive/My Drive/20_newsgroup/20news-bydate-train/rec.autos/102983', '/content/drive/My Drive/20_newsgroup/20news-bydate-train/rec.autos/103532', '/content/drive/My Drive/20_newsgroup/20news-bydate-train/rec.autos/103410', '/content/drive/My Drive/20_newsgroup/20news-bydate-train/rec.autos/102789', '/content/drive/My Drive/20_newsgroup/20news-bydate-train/rec.autos/102823', '/content/drive/My Drive/20_newsgroup/20news-bydate-train/rec.autos/102819', '/content/drive/My Drive/20_newsgroup/20news-bydate-train/rec.autos/102935', '/content/drive/My Drive/20_newsgroup/20news-bydate-train/rec.autos/103367', '/content/drive/My Drive/20_newsgroup/20news-bydate-train/rec.autos/102951', '/content/drive/My Drive/20_newsgroup/20news-bydate-train/rec.autos/103407', '/content/drive/My Drive/20_newsgroup/20news-bydate-train/rec.autos/103210', '/content/drive/My Drive/20_newsgroup/20news-bydate-train/rec.autos/102769', '/content/drive/My Drive/20_newsgroup/20news-bydate-train/rec.autos/103406', '/content/drive/My Drive/20_newsgroup/20news-bydate-train/rec.autos/102787', '/content/drive/My Drive/20_newsgroup/20news-bydate-train/rec.autos/103038', '/content/drive/My Drive/20_newsgroup/20news-bydate-train/rec.autos/103043', '/content/drive/My Drive/20_newsgroup/20news-bydate-train/rec.autos/103045', '/content/drive/My Drive/20_newsgroup/20news-bydate-train/rec.autos/103000', '/content/drive/My Drive/20_newsgroup/20news-bydate-train/rec.autos/102833', '/content/drive/My Drive/20_newsgroup/20news-bydate-train/rec.autos/102843', '/content/drive/My Drive/20_newsgroup/20news-bydate-train/rec.autos/103058', '/content/drive/My Drive/20_newsgroup/20news-bydate-train/rec.autos/103658', '/content/drive/My Drive/20_newsgroup/20news-bydate-train/rec.autos/103368', '/content/drive/My Drive/20_newsgroup/20news-bydate-train/rec.autos/102956', '/content/drive/My Drive/20_newsgroup/20news-bydate-train/rec.autos/103767']\n",
            "781\n",
            "['103270', '103037', '103439', '103417', '103339', '103072', '103073', '103243', '103278', '103430', '103074', '103269', '103351', '103263', '103065', '103048', '103063', '103268', '103266', '103259', '103264', '103082', '103444', '103057', '103261', '103705', '103257', '103182', '103121', '103215', '103523', '103435', '103316', '103498', '103134', '103222', '103676', '103160', '103332', '103421', '103153', '103474', '103814', '103369', '103423', '103701', '103076', '103491', '103152', '103322', '103493', '103123', '103177', '103232', '103173', '103315', '103519', '103318', '103207', '103512', '103199', '103336', '103672', '103321', '103361', '103161', '103675', '103191', '103656', '103138', '103140', '103141', '103301', '103386', '103080', '103721', '103216', '103531', '103166', '103716', '103448', '103178', '103650', '103150', '103195', '103175', '103125', '103069', '103206', '103343', '103145', '103494', '103453', '103130', '103238', '103505', '103181', '103680', '103028', '103303', '103346', '103371', '103149', '103335', '103212', '103154', '103429', '103440', '103528', '103220', '103299', '103506', '103132', '103451', '103433', '103147', '103217', '103165', '103148', '103180', '103213', '103496', '103337', '103341', '103327', '103527', '103300', '103167', '103704', '103350', '103071', '103068', '103201', '103078', '103404', '103146', '103157', '103518', '103142', '103647', '103240', '103333', '103144', '103139', '103418', '103244', '103344', '103517', '103678', '103176', '103164', '103374', '103137', '103302', '103754', '103128', '103304', '103077', '103409', '103729', '103219', '103375', '103131', '103310', '103458', '103516', '103455', '103228', '103414', '103334', '103815', '103081', '103127', '103353', '103659', '103143', '103376', '103427', '103218', '103434', '103122', '103446', '103221', '103075', '103671', '103340', '103419', '103708', '103522', '103136', '103129', '103436', '103239', '103314', '103267', '103428', '103432', '103352', '103713', '103684', '103197', '103158', '103700', '103067', '103507', '103151', '103525', '103460', '103501', '103461', '103509', '103412', '103405', '103126', '103155', '103447', '103511', '103163', '103317', '103681', '103510', '103348', '103320', '103319', '103454', '103422', '103135', '103499', '103387', '103372', '103449', '103703', '103198', '103514', '103192', '103677', '103424', '103331', '103403', '103438', '103377', '103521', '103079', '103256', '103725', '103431', '103484', '103214', '103373', '103362', '103066', '103349', '103338', '103709', '103673', '103425', '103694', '103720', '103669', '103298', '103083', '103668', '103408', '103508', '103420', '103313', '103441', '103156', '103513', '103411', '103007', '103459', '103416', '103124', '103452', '103183', '103329', '103205', '103070', '103159', '103674', '103008', '103536', '103530', '103526', '103497', '103370', '103204', '103714', '103174', '103342', '103380', '103524', '103520', '103209', '103179', '103456', '103515', '103682', '103738', '103734', '103698', '103667', '103806', '103664', '103740', '103807', '103688', '103683', '103741', '103707', '103811', '103780', '103801', '103696', '103686', '103670', '103750', '103502', '103777', '103500', '103776', '103695', '103803', '103711', '103450', '103732', '103529', '103728', '103736', '103685', '103495', '103697', '103812', '103771', '103665', '103737', '103808', '103666', '103727', '103717', '103739', '103692', '103715', '103731', '103722', '103719', '103805', '103702', '103753', '103690', '103679', '103743', '103809', '103735', '103503', '103662', '103745', '103689', '103746', '103663', '103504', '103755', '103712', '103699', '103706', '103693', '103773', '103691', '103778', '103752', '103661', '103733', '103751', '103810', '103779', '103726', '103724', '103813', '103742', '103772', '103710', '103802', '103445', '103744', '103895', '103774', '103687', '103457', '103749', '103723', '103775', '103770', '103804', '103718', '103660', '51965', '51984', '51982', '51997', '51978', '51890', '51966', '51973', '52011', '51994', '51962', '51954', '51947', '51950', '51981', '51991', '52022', '51945', '51958', '51977', '51940', '51992', '51969', '51975', '51968', '51983', '52005', '51967', '51976', '51942', '52001', '52004', '51987', '51985', '51980', '51938', '51959', '51955', '51979', '51948', '51960', '51952', '51972', '51956', '51961', '51974', '52003', '52033', '51949', '51944', '52275', '52039', '52236', '52263', '52010', '52181', '52242', '52136', '52298', '51999', '52127', '52237', '52180', '52270', '52228', '52186', '52220', '52076', '52267', '52082', '52268', '52122', '52107', '52344', '52182', '52254', '52016', '52164', '52231', '52226', '52274', '52234', '52106', '52125', '52193', '52090', '52055', '52135', '52192', '52083', '52036', '52163', '52260', '52071', '52283', '52199', '52174', '52126', '52212', '52075', '52154', '52111', '52173', '52203', '52198', '52057', '52211', '52238', '52128', '52289', '52117', '52096', '52232', '52328', '52219', '51998', '52123', '52061', '52097', '52191', '52100', '52058', '52045', '52132', '52209', '52034', '52177', '52062', '52047', '52285', '52213', '52162', '52155', '52017', '52009', '52288', '52202', '52025', '52196', '52194', '52120', '52099', '52087', '52101', '52216', '52190', '52258', '52152', '52074', '52255', '52227', '52287', '52243', '52150', '52124', '52015', '52239', '52244', '52160', '52019', '52261', '52028', '52026', '52147', '52262', '52129', '52044', '52030', '52043', '52060', '52114', '52023', '52284', '52246', '52081', '52176', '52251', '52008', '52021', '52153', '52066', '52139', '52064', '52168', '52020', '52042', '52144', '52184', '52102', '52113', '52073', '52183', '52130', '52222', '52309', '52276', '52134', '52197', '52137', '52145', '52000', '52041', '52084', '52158', '52119', '52068', '52103', '52161', '52200', '52069', '52105', '52067', '52256', '52037', '52141', '52098', '52146', '52085', '52109', '52143', '52253', '52273', '51964', '52046', '52204', '52140', '52214', '52014', '52257', '52233', '52116', '52002', '52121', '52112', '52104', '51995', '52179', '52259', '51988', '52286', '52264', '52166', '52040', '52247', '52292', '52185', '52249', '52218', '52110', '52089', '52252', '52178', '52169', '52149', '52108', '52221', '52159', '52091', '52115', '52018', '52049', '52210', '51986', '52170', '52230', '51989', '52225', '52035', '52078', '51993', '52272', '52250', '52229', '52157', '52290', '52323', '52079', '52156', '52024', '52138', '52077', '52310', '52187', '51990', '52065', '52165', '52118', '52240', '52029', '52172', '52013', '52245', '52151', '52032', '52088', '52167', '52059', '52201', '52265', '52012', '52148', '52007', '52133', '52072', '52271', '52054', '52248', '52241', '52056', '52171', '52080', '52050', '52269', '52027', '52266', '52092', '52070', '52224', '52175', '52205', '52048', '52235', '52217', '52215', '52063', '52038', '52299', '52297', '52346', '52434', '52324', '52335', '52291', '52302', '52329', '52337', '52301', '52296', '52304', '52443', '52311', '52300', '52345', '52342', '52293', '52334', '52445', '52444', '52316', '52406', '52435', '52436', '52318', '52317', '52405', '52325', '52347', '52327', '52403', '52307', '52404', '52407', '52441', '52440', '52306', '52402', '52303', '52336', '52341', '52326', '52343', '52437', '52439', '52340', '52339', '52338', '52333', '52433', '52305', '52295', '52308', '52442', '52446', '52294', '52438']\n"
          ]
        }
      ]
    },
    {
      "cell_type": "code",
      "metadata": {
        "colab": {
          "base_uri": "https://localhost:8080/"
        },
        "id": "AdMinJVpDcxa",
        "outputId": "3cbec99a-3c30-4a4b-b42d-5c4c7ac3a7ad"
      },
      "source": [
        "#making an array containing the classes each of the documents belong to\n",
        "train_Y = []\n",
        "for train_folder_name in train_folders:\n",
        "  train_folder_path = join(train_data_dir, train_folder_name)\n",
        "  num_of_files= len(listdir(train_folder_path))\n",
        "  for i in range(num_of_files):\n",
        "    train_Y.append(train_folder_name)\n",
        "\n",
        "#making an array containing the classes each of the documents belong to\n",
        "test_Y = []\n",
        "for test_folder_name in test_folders:\n",
        "  test_folder_path = join(test_data_dir, test_folder_name)\n",
        "  num_of_files= len(listdir(test_folder_path))\n",
        "  for i in range(num_of_files):\n",
        "    test_Y.append(test_folder_name)\n",
        "\n",
        "print(len(train_Y))\n",
        "print(len(test_Y))"
      ],
      "execution_count": 7,
      "outputs": [
        {
          "output_type": "stream",
          "name": "stdout",
          "text": [
            "1172\n",
            "781\n"
          ]
        }
      ]
    },
    {
      "cell_type": "markdown",
      "metadata": {
        "id": "SxkGn-DfEivC"
      },
      "source": [
        "# splitting the data into train test."
      ]
    },
    {
      "cell_type": "code",
      "metadata": {
        "id": "zL1SKzx8EfJh"
      },
      "source": [
        "from sklearn.model_selection import train_test_split"
      ],
      "execution_count": 8,
      "outputs": []
    },
    {
      "cell_type": "code",
      "metadata": {
        "id": "45iszepnFY_X"
      },
      "source": [
        "#a simple helper function to convert a 2D array to 1D, without using numpy\n",
        "def flatten(list):\n",
        "  new_list = []\n",
        "  for i in list:\n",
        "    for j in i:\n",
        "      new_list.append(j)\n",
        "  return new_list"
      ],
      "execution_count": 9,
      "outputs": []
    },
    {
      "cell_type": "code",
      "metadata": {
        "colab": {
          "base_uri": "https://localhost:8080/"
        },
        "id": "5IuZbGDrgUqj",
        "outputId": "ec719d90-fdf2-420d-fa2b-3e29c9e4f441"
      },
      "source": [
        "!python -m spacy download en_core_web_lg\n",
        "\n"
      ],
      "execution_count": 10,
      "outputs": [
        {
          "output_type": "stream",
          "name": "stdout",
          "text": [
            "Collecting en_core_web_lg==2.2.5\n",
            "  Downloading https://github.com/explosion/spacy-models/releases/download/en_core_web_lg-2.2.5/en_core_web_lg-2.2.5.tar.gz (827.9 MB)\n",
            "\u001b[K     |████████████████████████████████| 827.9 MB 1.3 MB/s \n",
            "\u001b[?25hRequirement already satisfied: spacy>=2.2.2 in /usr/local/lib/python3.7/dist-packages (from en_core_web_lg==2.2.5) (2.2.4)\n",
            "Requirement already satisfied: murmurhash<1.1.0,>=0.28.0 in /usr/local/lib/python3.7/dist-packages (from spacy>=2.2.2->en_core_web_lg==2.2.5) (1.0.5)\n",
            "Requirement already satisfied: preshed<3.1.0,>=3.0.2 in /usr/local/lib/python3.7/dist-packages (from spacy>=2.2.2->en_core_web_lg==2.2.5) (3.0.5)\n",
            "Requirement already satisfied: plac<1.2.0,>=0.9.6 in /usr/local/lib/python3.7/dist-packages (from spacy>=2.2.2->en_core_web_lg==2.2.5) (1.1.3)\n",
            "Requirement already satisfied: blis<0.5.0,>=0.4.0 in /usr/local/lib/python3.7/dist-packages (from spacy>=2.2.2->en_core_web_lg==2.2.5) (0.4.1)\n",
            "Requirement already satisfied: catalogue<1.1.0,>=0.0.7 in /usr/local/lib/python3.7/dist-packages (from spacy>=2.2.2->en_core_web_lg==2.2.5) (1.0.0)\n",
            "Requirement already satisfied: tqdm<5.0.0,>=4.38.0 in /usr/local/lib/python3.7/dist-packages (from spacy>=2.2.2->en_core_web_lg==2.2.5) (4.62.3)\n",
            "Requirement already satisfied: srsly<1.1.0,>=1.0.2 in /usr/local/lib/python3.7/dist-packages (from spacy>=2.2.2->en_core_web_lg==2.2.5) (1.0.5)\n",
            "Requirement already satisfied: setuptools in /usr/local/lib/python3.7/dist-packages (from spacy>=2.2.2->en_core_web_lg==2.2.5) (57.4.0)\n",
            "Requirement already satisfied: cymem<2.1.0,>=2.0.2 in /usr/local/lib/python3.7/dist-packages (from spacy>=2.2.2->en_core_web_lg==2.2.5) (2.0.5)\n",
            "Requirement already satisfied: thinc==7.4.0 in /usr/local/lib/python3.7/dist-packages (from spacy>=2.2.2->en_core_web_lg==2.2.5) (7.4.0)\n",
            "Requirement already satisfied: numpy>=1.15.0 in /usr/local/lib/python3.7/dist-packages (from spacy>=2.2.2->en_core_web_lg==2.2.5) (1.19.5)\n",
            "Requirement already satisfied: wasabi<1.1.0,>=0.4.0 in /usr/local/lib/python3.7/dist-packages (from spacy>=2.2.2->en_core_web_lg==2.2.5) (0.8.2)\n",
            "Requirement already satisfied: requests<3.0.0,>=2.13.0 in /usr/local/lib/python3.7/dist-packages (from spacy>=2.2.2->en_core_web_lg==2.2.5) (2.23.0)\n",
            "Requirement already satisfied: importlib-metadata>=0.20 in /usr/local/lib/python3.7/dist-packages (from catalogue<1.1.0,>=0.0.7->spacy>=2.2.2->en_core_web_lg==2.2.5) (4.8.1)\n",
            "Requirement already satisfied: zipp>=0.5 in /usr/local/lib/python3.7/dist-packages (from importlib-metadata>=0.20->catalogue<1.1.0,>=0.0.7->spacy>=2.2.2->en_core_web_lg==2.2.5) (3.5.0)\n",
            "Requirement already satisfied: typing-extensions>=3.6.4 in /usr/local/lib/python3.7/dist-packages (from importlib-metadata>=0.20->catalogue<1.1.0,>=0.0.7->spacy>=2.2.2->en_core_web_lg==2.2.5) (3.7.4.3)\n",
            "Requirement already satisfied: idna<3,>=2.5 in /usr/local/lib/python3.7/dist-packages (from requests<3.0.0,>=2.13.0->spacy>=2.2.2->en_core_web_lg==2.2.5) (2.10)\n",
            "Requirement already satisfied: certifi>=2017.4.17 in /usr/local/lib/python3.7/dist-packages (from requests<3.0.0,>=2.13.0->spacy>=2.2.2->en_core_web_lg==2.2.5) (2021.5.30)\n",
            "Requirement already satisfied: urllib3!=1.25.0,!=1.25.1,<1.26,>=1.21.1 in /usr/local/lib/python3.7/dist-packages (from requests<3.0.0,>=2.13.0->spacy>=2.2.2->en_core_web_lg==2.2.5) (1.24.3)\n",
            "Requirement already satisfied: chardet<4,>=3.0.2 in /usr/local/lib/python3.7/dist-packages (from requests<3.0.0,>=2.13.0->spacy>=2.2.2->en_core_web_lg==2.2.5) (3.0.4)\n",
            "\u001b[38;5;2m✔ Download and installation successful\u001b[0m\n",
            "You can now load the model via spacy.load('en_core_web_lg')\n"
          ]
        }
      ]
    },
    {
      "cell_type": "code",
      "metadata": {
        "id": "T3wfPl4JExS-"
      },
      "source": [
        "import spacy\n",
        "import string\n",
        "from bs4 import BeautifulSoup\n",
        "import re\n",
        "from spacy import displacy\n",
        "from collections import Counter\n",
        "#import en_core_web_lg\n",
        "nlp = spacy.load('en_core_web_lg')\n",
        "\n",
        "\n",
        "list_of_words = []\n",
        "\n",
        "for document in train_files:\n",
        "  #load document\n",
        "  text = open(document, 'r', encoding=\"ISO-8859-1\")\n",
        "  text = BeautifulSoup(text, 'html.parser').get_text()\n",
        "  text = re.sub(r'…', '...', text)\n",
        "  text = re.sub(r'[`‘’‛⸂⸃⸌⸍⸜⸝]', \"'\", text)\n",
        "  text = re.sub(r'[„“]|(\\'\\')|(,,)', '\"', text)\n",
        "  text = re.sub(r'\\|>', '', text)\n",
        "  #text = re.sub(r'\\s+', ' ', text).strip()\n",
        "  #text = re.sub(r'[^A-Za-z0-9 ]+', '', text)\n",
        "  document = nlp(text)\n",
        "  #print(document)\n",
        "  tokens = []\n",
        "  for sent in document.sents:\n",
        "      for token in sent:\n",
        "        if token.is_alpha and len(token)>2 and not token.is_stop:\n",
        "          #if token.IS_PUNCT and if not token.is_stop::\n",
        "          tokens.append(token.lemma_.lower())\n",
        "  list_of_words.append(flatten(tokens))\n"
      ],
      "execution_count": 11,
      "outputs": []
    },
    {
      "cell_type": "code",
      "metadata": {
        "colab": {
          "base_uri": "https://localhost:8080/"
        },
        "id": "IErwa23dD6mU",
        "outputId": "a8d352af-d6b8-4c71-8ed4-41534a5b8515"
      },
      "source": [
        "len(list_of_words)"
      ],
      "execution_count": 12,
      "outputs": [
        {
          "output_type": "execute_result",
          "data": {
            "text/plain": [
              "1172"
            ]
          },
          "metadata": {},
          "execution_count": 12
        }
      ]
    },
    {
      "cell_type": "code",
      "metadata": {
        "colab": {
          "base_uri": "https://localhost:8080/"
        },
        "id": "HrJrLxiqEPSU",
        "outputId": "ae1a90f8-3d20-4920-af50-5ca90f4291d2"
      },
      "source": [
        "len(flatten(list_of_words))"
      ],
      "execution_count": 14,
      "outputs": [
        {
          "output_type": "execute_result",
          "data": {
            "text/plain": [
              "620061"
            ]
          },
          "metadata": {},
          "execution_count": 14
        }
      ]
    },
    {
      "cell_type": "code",
      "metadata": {
        "colab": {
          "base_uri": "https://localhost:8080/"
        },
        "id": "1wxi3eY1FusV",
        "outputId": "0191e4fd-a261-4665-fbb7-5434589fef21"
      },
      "source": [
        "import numpy as np\n",
        "np_list_of_words = np.asarray(flatten(list_of_words))\n",
        "len(np_list_of_words)"
      ],
      "execution_count": 15,
      "outputs": [
        {
          "output_type": "execute_result",
          "data": {
            "text/plain": [
              "620061"
            ]
          },
          "metadata": {},
          "execution_count": 15
        }
      ]
    },
    {
      "cell_type": "code",
      "metadata": {
        "colab": {
          "base_uri": "https://localhost:8080/"
        },
        "id": "2rYWeLjlG8FV",
        "outputId": "9d7277b4-9035-401f-d26b-7788c7362ad5"
      },
      "source": [
        "#finding the number of unique words that we have extracted from the documents\n",
        "words, counts = np.unique(np_list_of_words, return_counts=True)\n",
        "len(words)"
      ],
      "execution_count": 16,
      "outputs": [
        {
          "output_type": "execute_result",
          "data": {
            "text/plain": [
              "32"
            ]
          },
          "metadata": {},
          "execution_count": 16
        }
      ]
    },
    {
      "cell_type": "code",
      "metadata": {
        "id": "VUbgtGbkhllb"
      },
      "source": [
        "#sorting the unique words according to their frequency\n",
        "freq, wrds = (list(i) for i in zip(*(sorted(zip(counts, words), reverse=True))))"
      ],
      "execution_count": 17,
      "outputs": []
    },
    {
      "cell_type": "code",
      "metadata": {
        "id": "h064AbEPF1mK"
      },
      "source": [
        "#deciding the no. of words to use as feature\n",
        "n = 5000\n",
        "features = wrds[0:n]"
      ],
      "execution_count": 18,
      "outputs": []
    },
    {
      "cell_type": "code",
      "metadata": {
        "id": "ghK0278Tjywq"
      },
      "source": [
        "#creating a dictionary that contains each document's vocabulary and ocurence of each word of the vocabulary\n",
        "dictionary = {}\n",
        "doc_num = 1\n",
        "for doc_words in list_of_words:\n",
        "  #print(doc_words)\n",
        "  np_doc_words = np.asarray(doc_words)\n",
        "  w, c = np.unique(np_doc_words, return_counts=True)\n",
        "  dictionary[doc_num] = {}\n",
        "  for i in range(len(w)):\n",
        "    dictionary[doc_num][w[i]] = c[i]\n",
        "  doc_num = doc_num + 1"
      ],
      "execution_count": 20,
      "outputs": []
    },
    {
      "cell_type": "code",
      "metadata": {
        "id": "2wTqbX7FkG1v"
      },
      "source": [
        "#now we make a 2D array having the frequency of each word of our feature set in each individual documents\n",
        "X_train = []\n",
        "for k in dictionary.keys():\n",
        "  row = []\n",
        "  for f in features:\n",
        "    if(f in dictionary[k].keys()):\n",
        "      #if word f is present in the dictionary of the document as a key, its value is copied\n",
        "      #this gives us no. of occurences\n",
        "      row.append(dictionary[k][f])\n",
        "    else:\n",
        "      #if not present, the no. of occurences is zero\n",
        "      row.append(0)\n",
        "  X_train.append(row)"
      ],
      "execution_count": 21,
      "outputs": []
    },
    {
      "cell_type": "code",
      "metadata": {
        "id": "B33qIZiokppO"
      },
      "source": [
        "#we convert the X and Y into np array for concatenation and conversion into\n",
        "dataframe\n",
        "X_train = np.asarray(X_train)\n",
        "train_Y = np.asarray(train_Y)"
      ],
      "execution_count": null,
      "outputs": []
    },
    {
      "cell_type": "code",
      "metadata": {
        "colab": {
          "base_uri": "https://localhost:8080/"
        },
        "id": "Eqz6lhv6lXw3",
        "outputId": "9ae2d05d-b3bf-44ea-ee09-d2a06b654260"
      },
      "source": [
        "len(X_train)"
      ],
      "execution_count": 22,
      "outputs": [
        {
          "output_type": "execute_result",
          "data": {
            "text/plain": [
              "1172"
            ]
          },
          "metadata": {},
          "execution_count": 22
        }
      ]
    },
    {
      "cell_type": "code",
      "metadata": {
        "colab": {
          "base_uri": "https://localhost:8080/"
        },
        "id": "F5gf9fFOliTr",
        "outputId": "66fadc5c-cce7-4e46-b254-8865c4f5dec3"
      },
      "source": [
        "len(train_Y)"
      ],
      "execution_count": 23,
      "outputs": [
        {
          "output_type": "execute_result",
          "data": {
            "text/plain": [
              "1172"
            ]
          },
          "metadata": {},
          "execution_count": 23
        }
      ]
    },
    {
      "cell_type": "markdown",
      "metadata": {
        "id": "oUvivGDeeuXM"
      },
      "source": [
        "# we'll make our test data by performing the same operations as we did for train data."
      ]
    },
    {
      "cell_type": "code",
      "metadata": {
        "id": "fBLDa-LSl-9i"
      },
      "source": [
        "list_of_words_test = []\n",
        "\n",
        "for document in test_files:\n",
        "  #load document\n",
        "  text = open(document, 'r', encoding=\"ISO-8859-1\")\n",
        "  text = BeautifulSoup(text, 'html.parser').get_text()\n",
        "  text = re.sub(r'…', '...', text)\n",
        "  text = re.sub(r'[`‘’‛⸂⸃⸌⸍⸜⸝]', \"'\", text)\n",
        "  text = re.sub(r'[„“]|(\\'\\')|(,,)', '\"', text)\n",
        "  text = re.sub(r'\\|>', '', text)\n",
        "  #text = re.sub(r'\\s+', ' ', text).strip()\n",
        "  #text = re.sub(r'[^A-Za-z0-9 ]+', '', text)\n",
        "  document = nlp(text)\n",
        "  #print(document)\n",
        "  tokens = []\n",
        "  for sent in document.sents:\n",
        "      for token in sent:\n",
        "        if token.is_alpha and len(token)>2 and not token.is_stop:\n",
        "          #if token.IS_PUNCT and if not token.is_stop::\n",
        "          tokens.append(token.lemma_.lower())\n",
        "  list_of_words_test.append(flatten(tokens))"
      ],
      "execution_count": 48,
      "outputs": []
    },
    {
      "cell_type": "code",
      "metadata": {
        "id": "DJdv1wlbqMHR"
      },
      "source": [
        "dictionary_test = {}\n",
        "doc_num = 1\n",
        "for doc_words in list_of_words_test:\n",
        "  #print(doc_words)\n",
        "  np_doc_words = np.asarray(doc_words)\n",
        "  w, c = np.unique(np_doc_words, return_counts=True)\n",
        "  dictionary_test[doc_num] = {}\n",
        "  for i in range(len(w)):\n",
        "    dictionary_test[doc_num][w[i]] = c[i]\n",
        "  doc_num = doc_num + 1"
      ],
      "execution_count": 50,
      "outputs": []
    },
    {
      "cell_type": "code",
      "metadata": {
        "id": "eKviIOQ1qXeG"
      },
      "source": [
        "#now we make a 2D array having the frequency of each word of our feature set in each individual documents\n",
        "X_test = []\n",
        "for k in dictionary_test.keys():\n",
        "  row = []\n",
        "  for f in features:\n",
        "    if(f in dictionary_test[k].keys()):\n",
        "      #if word f is present in the dictionary of the document as a key, its value is copied\n",
        "      #this gives us no. of occurences\n",
        "        row.append(dictionary_test[k][f])\n",
        "    else:\n",
        "      #if not present, the no. of occurences is zero\n",
        "      row.append(0)\n",
        "  X_test.append(row)"
      ],
      "execution_count": 51,
      "outputs": []
    },
    {
      "cell_type": "code",
      "metadata": {
        "id": "IkA1iUKVq6RC"
      },
      "source": [
        "X_test = np.asarray(X_test)\n",
        "test_Y = np.asarray(test_Y)"
      ],
      "execution_count": 52,
      "outputs": []
    },
    {
      "cell_type": "code",
      "metadata": {
        "colab": {
          "base_uri": "https://localhost:8080/"
        },
        "id": "xmFP4dr9rFsp",
        "outputId": "0a9b7d1e-5e8d-4e86-936d-241a4771b4a4"
      },
      "source": [
        "len(X_test)"
      ],
      "execution_count": 53,
      "outputs": [
        {
          "output_type": "execute_result",
          "data": {
            "text/plain": [
              "781"
            ]
          },
          "metadata": {},
          "execution_count": 53
        }
      ]
    },
    {
      "cell_type": "code",
      "metadata": {
        "colab": {
          "base_uri": "https://localhost:8080/"
        },
        "id": "jtkqM3RNrH_3",
        "outputId": "a8a8cd62-ab3e-4fea-c957-94ec001d24c3"
      },
      "source": [
        "len(test_Y)"
      ],
      "execution_count": 54,
      "outputs": [
        {
          "output_type": "execute_result",
          "data": {
            "text/plain": [
              "781"
            ]
          },
          "metadata": {},
          "execution_count": 54
        }
      ]
    },
    {
      "cell_type": "markdown",
      "metadata": {
        "id": "mX44hPiIgM2y"
      },
      "source": [
        "# performing Text Classification using sklearn's Multinomial Naive Bayes."
      ]
    },
    {
      "cell_type": "code",
      "metadata": {
        "colab": {
          "base_uri": "https://localhost:8080/"
        },
        "id": "dr7n3qh6rMU3",
        "outputId": "f6c4ed3a-cc8b-445c-b599-20ab75f8c808"
      },
      "source": [
        "from sklearn.naive_bayes import MultinomialNB\n",
        "clf = MultinomialNB()\n",
        "clf.fit(X_train, train_Y)"
      ],
      "execution_count": 55,
      "outputs": [
        {
          "output_type": "execute_result",
          "data": {
            "text/plain": [
              "MultinomialNB(alpha=1.0, class_prior=None, fit_prior=True)"
            ]
          },
          "metadata": {},
          "execution_count": 55
        }
      ]
    },
    {
      "cell_type": "code",
      "metadata": {
        "id": "JHZpaGsMrZJ2"
      },
      "source": [
        "Y_predict = clf.predict(X_test)"
      ],
      "execution_count": 56,
      "outputs": []
    },
    {
      "cell_type": "code",
      "metadata": {
        "colab": {
          "base_uri": "https://localhost:8080/"
        },
        "id": "DAIG76_Drcea",
        "outputId": "6727b95b-0efd-4342-c31c-a76a022732b7"
      },
      "source": [
        "from sklearn.metrics import classification_report, confusion_matrix, accuracy_score\n",
        "print(classification_report(test_Y, Y_predict))"
      ],
      "execution_count": 59,
      "outputs": [
        {
          "output_type": "stream",
          "name": "stdout",
          "text": [
            "                       precision    recall  f1-score   support\n",
            "\n",
            "comp.sys.mac.hardware       0.77      0.66      0.71       385\n",
            "            rec.autos       0.71      0.80      0.75       396\n",
            "\n",
            "             accuracy                           0.73       781\n",
            "            macro avg       0.74      0.73      0.73       781\n",
            "         weighted avg       0.74      0.73      0.73       781\n",
            "\n"
          ]
        }
      ]
    },
    {
      "cell_type": "code",
      "metadata": {
        "id": "cIxR83aEgSXK"
      },
      "source": [
        ""
      ],
      "execution_count": null,
      "outputs": []
    },
    {
      "cell_type": "code",
      "metadata": {
        "id": "eAuv_RdhgVGi"
      },
      "source": [
        ""
      ],
      "execution_count": null,
      "outputs": []
    },
    {
      "cell_type": "code",
      "metadata": {
        "id": "GjBxpAfLgkj8"
      },
      "source": [
        ""
      ],
      "execution_count": null,
      "outputs": []
    },
    {
      "cell_type": "code",
      "metadata": {
        "id": "tYVaalYp8XFb"
      },
      "source": [
        ""
      ],
      "execution_count": null,
      "outputs": []
    },
    {
      "cell_type": "code",
      "metadata": {
        "id": "MkTzA3lAYk8V"
      },
      "source": [
        ""
      ],
      "execution_count": null,
      "outputs": []
    }
  ]
}