{
  "nbformat": 4,
  "nbformat_minor": 0,
  "metadata": {
    "colab": {
      "name": "hw1_william_sawran.ipynb",
      "provenance": [],
      "collapsed_sections": [],
      "authorship_tag": "ABX9TyMPL+2YnG95RaX8oOhGogKd",
      "include_colab_link": true
    },
    "kernelspec": {
      "name": "python3",
      "display_name": "Python 3"
    }
  },
  "cells": [
    {
      "cell_type": "markdown",
      "metadata": {
        "id": "view-in-github",
        "colab_type": "text"
      },
      "source": [
        "<a href=\"https://colab.research.google.com/github/WilliamSawran/ABC/blob/master/hw1_william_sawran.ipynb\" target=\"_parent\"><img src=\"https://colab.research.google.com/assets/colab-badge.svg\" alt=\"Open In Colab\"/></a>"
      ]
    },
    {
      "cell_type": "markdown",
      "metadata": {
        "id": "cXJ89pKXh4Zb"
      },
      "source": [
        "<!DOCTYPE html>\r\n",
        "<html>\r\n",
        "<body>\r\n",
        "\r\n",
        "**<h1>Data Preprocessing and Analyze by pivoting features of Titanic dataset</h1>**\r\n",
        "<p>The Titanic was a luxury British steamship that sank in the early hours of April 15, 1912 after striking an iceberg, leading to the deaths of more than 1,500 passengers and crew.\r\n",
        "\r\n",
        "**<h2>Data Dictionary</h2>**\r\n",
        "\r\n",
        "**<h3>Variable Definition Key</h3>**\r\n",
        "\r\n",
        "**Survival**\r\n",
        "* 0 = No\r\n",
        "* 1 = Yes\r\n",
        "\r\n",
        "**Pclass** (proxy for socio-economic status) \r\n",
        "* 1 = 1st\r\n",
        "* 2 = 2nd\r\n",
        "* 3 = 3rd\r\n",
        "\r\n",
        "**Sex**\r\n",
        "\r\n",
        "**Age** (in years) (Age is fractional if less than 1. If the age is estimated, is it in the form of xx.5)\r\n",
        "\r\n",
        "**Sibsp** (# of siblings / spouses aboard the Titanic)\r\n",
        ">Sibling = brother, sister, stepbrother, stepsister\r\n",
        "\r\n",
        ">Spouse = husband, wife (mistresses and fiancés were ignored)\r\n",
        "\r\n",
        "**Parch** (# of parents / children aboard the Titanic)\r\n",
        "  >Parent = mother, father\r\n",
        "  \r\n",
        "  >Child = daughter, son, stepdaughter, stepson\r\n",
        "  \r\n",
        "  >Some children travelled only with a nanny, therefore parch=0 for them.\r\n",
        "\r\n",
        "**Ticket** (ticket number)\r\n",
        "\r\n",
        "**Fare** (passenger fare (British pound))\r\n",
        "\r\n",
        "**Cabin** (cabin number) \r\n",
        "\r\n",
        "**Embarked** (port of embarkation)\r\n",
        "* C = Cherbourg\r\n",
        "* Q = Queenstown\r\n",
        "* S = Southampton\r\n",
        "</p>\r\n",
        "\r\n",
        "</body>\r\n",
        "</html>"
      ]
    },
    {
      "cell_type": "code",
      "metadata": {
        "colab": {
          "base_uri": "https://localhost:8080/"
        },
        "id": "J7bg6nWLYvtu",
        "outputId": "034cc28a-9fa0-4d85-e8ef-ada1f2cfa1ef"
      },
      "source": [
        "#@title Import libraries\r\n",
        "\r\n",
        "# data analysis and wrangling\r\n",
        "import pandas as pd\r\n",
        "import numpy as np\r\n",
        "import random as rnd\r\n",
        "\r\n",
        "# visualization\r\n",
        "import seaborn as sns\r\n",
        "import matplotlib.pyplot as plt\r\n",
        "%matplotlib inline\r\n",
        "\r\n",
        "#@title Mount Google Drive\r\n",
        "from google.colab import drive\r\n",
        "drive.mount(\"/content/drive\")"
      ],
      "execution_count": 67,
      "outputs": [
        {
          "output_type": "stream",
          "text": [
            "Drive already mounted at /content/drive; to attempt to forcibly remount, call drive.mount(\"/content/drive\", force_remount=True).\n"
          ],
          "name": "stdout"
        }
      ]
    },
    {
      "cell_type": "code",
      "metadata": {
        "colab": {
          "base_uri": "https://localhost:8080/",
          "height": 204
        },
        "id": "nqYl06VPZ72G",
        "outputId": "e7da7dc9-1229-426f-918b-86695200cb97"
      },
      "source": [
        "#@title Read train and test data sets\r\n",
        "# read train datasets\r\n",
        "train_df = pd.read_csv('drive/My Drive/Titanic/train.csv')\r\n",
        "test_df = pd.read_csv('drive/My Drive/Titanic/test.csv')\r\n",
        "combine = [train_df, test_df]\r\n",
        "\r\n",
        "#check the train dataset\r\n",
        "train_df.head()"
      ],
      "execution_count": 66,
      "outputs": [
        {
          "output_type": "execute_result",
          "data": {
            "text/html": [
              "<div>\n",
              "<style scoped>\n",
              "    .dataframe tbody tr th:only-of-type {\n",
              "        vertical-align: middle;\n",
              "    }\n",
              "\n",
              "    .dataframe tbody tr th {\n",
              "        vertical-align: top;\n",
              "    }\n",
              "\n",
              "    .dataframe thead th {\n",
              "        text-align: right;\n",
              "    }\n",
              "</style>\n",
              "<table border=\"1\" class=\"dataframe\">\n",
              "  <thead>\n",
              "    <tr style=\"text-align: right;\">\n",
              "      <th></th>\n",
              "      <th>PassengerId</th>\n",
              "      <th>Survived</th>\n",
              "      <th>Pclass</th>\n",
              "      <th>Name</th>\n",
              "      <th>Sex</th>\n",
              "      <th>Age</th>\n",
              "      <th>SibSp</th>\n",
              "      <th>Parch</th>\n",
              "      <th>Ticket</th>\n",
              "      <th>Fare</th>\n",
              "      <th>Cabin</th>\n",
              "      <th>Embarked</th>\n",
              "    </tr>\n",
              "  </thead>\n",
              "  <tbody>\n",
              "    <tr>\n",
              "      <th>0</th>\n",
              "      <td>1</td>\n",
              "      <td>0</td>\n",
              "      <td>3</td>\n",
              "      <td>Braund, Mr. Owen Harris</td>\n",
              "      <td>male</td>\n",
              "      <td>22.0</td>\n",
              "      <td>1</td>\n",
              "      <td>0</td>\n",
              "      <td>A/5 21171</td>\n",
              "      <td>7.2500</td>\n",
              "      <td>NaN</td>\n",
              "      <td>S</td>\n",
              "    </tr>\n",
              "    <tr>\n",
              "      <th>1</th>\n",
              "      <td>2</td>\n",
              "      <td>1</td>\n",
              "      <td>1</td>\n",
              "      <td>Cumings, Mrs. John Bradley (Florence Briggs Th...</td>\n",
              "      <td>female</td>\n",
              "      <td>38.0</td>\n",
              "      <td>1</td>\n",
              "      <td>0</td>\n",
              "      <td>PC 17599</td>\n",
              "      <td>71.2833</td>\n",
              "      <td>C85</td>\n",
              "      <td>C</td>\n",
              "    </tr>\n",
              "    <tr>\n",
              "      <th>2</th>\n",
              "      <td>3</td>\n",
              "      <td>1</td>\n",
              "      <td>3</td>\n",
              "      <td>Heikkinen, Miss. Laina</td>\n",
              "      <td>female</td>\n",
              "      <td>26.0</td>\n",
              "      <td>0</td>\n",
              "      <td>0</td>\n",
              "      <td>STON/O2. 3101282</td>\n",
              "      <td>7.9250</td>\n",
              "      <td>NaN</td>\n",
              "      <td>S</td>\n",
              "    </tr>\n",
              "    <tr>\n",
              "      <th>3</th>\n",
              "      <td>4</td>\n",
              "      <td>1</td>\n",
              "      <td>1</td>\n",
              "      <td>Futrelle, Mrs. Jacques Heath (Lily May Peel)</td>\n",
              "      <td>female</td>\n",
              "      <td>35.0</td>\n",
              "      <td>1</td>\n",
              "      <td>0</td>\n",
              "      <td>113803</td>\n",
              "      <td>53.1000</td>\n",
              "      <td>C123</td>\n",
              "      <td>S</td>\n",
              "    </tr>\n",
              "    <tr>\n",
              "      <th>4</th>\n",
              "      <td>5</td>\n",
              "      <td>0</td>\n",
              "      <td>3</td>\n",
              "      <td>Allen, Mr. William Henry</td>\n",
              "      <td>male</td>\n",
              "      <td>35.0</td>\n",
              "      <td>0</td>\n",
              "      <td>0</td>\n",
              "      <td>373450</td>\n",
              "      <td>8.0500</td>\n",
              "      <td>NaN</td>\n",
              "      <td>S</td>\n",
              "    </tr>\n",
              "  </tbody>\n",
              "</table>\n",
              "</div>"
            ],
            "text/plain": [
              "   PassengerId  Survived  Pclass  ...     Fare Cabin  Embarked\n",
              "0            1         0       3  ...   7.2500   NaN         S\n",
              "1            2         1       1  ...  71.2833   C85         C\n",
              "2            3         1       3  ...   7.9250   NaN         S\n",
              "3            4         1       1  ...  53.1000  C123         S\n",
              "4            5         0       3  ...   8.0500   NaN         S\n",
              "\n",
              "[5 rows x 12 columns]"
            ]
          },
          "metadata": {
            "tags": []
          },
          "execution_count": 66
        }
      ]
    },
    {
      "cell_type": "markdown",
      "metadata": {
        "id": "xvllXvkahl6u"
      },
      "source": [
        "<!DOCTYPE html>\r\n",
        "<html>\r\n",
        "<body>\r\n",
        "\r\n",
        "**<h2>Q1: In training set, which features are available?</h2>**\r\n",
        "\r\n",
        "</body>\r\n",
        "</html>"
      ]
    },
    {
      "cell_type": "code",
      "metadata": {
        "colab": {
          "base_uri": "https://localhost:8080/"
        },
        "id": "jAs3vQomh-wd",
        "outputId": "6edf6665-7275-49d0-ba41-710e7c53afb6"
      },
      "source": [
        "#@title Get available features\r\n",
        "\r\n",
        "print(train_df.columns.values)"
      ],
      "execution_count": 68,
      "outputs": [
        {
          "output_type": "stream",
          "text": [
            "['PassengerId' 'Survived' 'Pclass' 'Name' 'Sex' 'Age' 'SibSp' 'Parch'\n",
            " 'Ticket' 'Fare' 'Cabin' 'Embarked']\n"
          ],
          "name": "stdout"
        }
      ]
    },
    {
      "cell_type": "markdown",
      "metadata": {
        "id": "glo5NK-7h_J6"
      },
      "source": [
        "<!DOCTYPE html>\r\n",
        "<html>\r\n",
        "<body>\r\n",
        "\r\n",
        "**<h2>Q2: In training set, which features are categorical?</h2>**\r\n",
        "\r\n",
        "<p>The categorical features are Survived, Sex, and Embarked.\r\n",
        "</p>\r\n",
        "\r\n",
        "</body>\r\n",
        "</html>"
      ]
    },
    {
      "cell_type": "markdown",
      "metadata": {
        "id": "Qu9U0U8Hi-GX"
      },
      "source": [
        "<!DOCTYPE html>\r\n",
        "<html>\r\n",
        "<body>\r\n",
        "\r\n",
        "**<h2>Q3: In training set, which features are numerical (e.g., discrete, continuous, or time series based)?</h2>**\r\n",
        "\r\n",
        "<p>The numerical features are Age, Fare, SibSp, Parch.  Age and Fare are continuous numerical features.  SibSp and Parch are discrete numerical features. \r\n",
        "</p>\r\n",
        "\r\n",
        "</body>\r\n",
        "</html>"
      ]
    },
    {
      "cell_type": "markdown",
      "metadata": {
        "id": "V_1byMuHjzCn"
      },
      "source": [
        "<!DOCTYPE html>\r\n",
        "<html>\r\n",
        "<body>\r\n",
        "\r\n",
        "**<h2>Q4: In training set, which features are mixed data types?</h2>**\r\n",
        "\r\n",
        "<p>The features that are mixed data types are Ticket and Cabin. \r\n",
        "</p>\r\n",
        "\r\n",
        "</body>\r\n",
        "</html>"
      ]
    },
    {
      "cell_type": "markdown",
      "metadata": {
        "id": "1dPmAbtAkmYo"
      },
      "source": [
        "<!DOCTYPE html>\r\n",
        "<html>\r\n",
        "<body>\r\n",
        "\r\n",
        "**<h2>Q5: In training set, which features contain blank, null or empty values? In test set, which features contain blank, null or empty values?</h2>**\r\n",
        "\r\n",
        "<p>Age and Cabin are the features in the training set that contain null values. \r\n",
        "</p>\r\n",
        "\r\n",
        "<p>Age and Cabin are the features in the test set that contain blank or empty values.\r\n",
        "</p>\r\n",
        "\r\n",
        "</body>\r\n",
        "</html>"
      ]
    },
    {
      "cell_type": "code",
      "metadata": {
        "colab": {
          "base_uri": "https://localhost:8080/"
        },
        "id": "_O0fY5f_ngKe",
        "outputId": "2bb5a174-0cb9-4ade-8b82-95cc9709b141"
      },
      "source": [
        "#@title Determine features with blank, null or empty values\r\n",
        "\r\n",
        "#-----------------------------------------------------------------------------------\r\n",
        "# Check if the columns contain Nan using .isnull()\r\n",
        "print(\"\\n\\n\\n\")\r\n",
        "print(\"Check if the columns contain Nan\")\r\n",
        "print(\"\\n   Training Set\\n\")\r\n",
        "print(train_df.isnull().sum())\r\n",
        "print(\"\\n   Test Set\\n\")\r\n",
        "print(test_df.isnull().sum())\r\n",
        "# Check if the columns contain empty strings using .eq('')\r\n",
        "print(\"\\n\\n\\n\")\r\n",
        "print(\"Check if the columns contain empty strings\")\r\n",
        "print(\"\\n   Training Set\\n\")\r\n",
        "print(train_df.eq('').sum())\r\n",
        "print(\"\\n   Test Set\\n\")\r\n",
        "print(test_df.eq('').sum())\r\n",
        "# Check if the columns is not null\r\n",
        "print(\"\\n\\n\\n\")\r\n",
        "print(\"Check if the columns contain non-null cells\")\r\n",
        "print(\"\\n   Training Set\\n\")\r\n",
        "print(train_df.isnull().sum())\r\n",
        "print(\"\\n   Test Set\\n\")\r\n",
        "print(test_df.isnull().sum())\r\n",
        "\r\n"
      ],
      "execution_count": 64,
      "outputs": [
        {
          "output_type": "stream",
          "text": [
            "\n",
            "\n",
            "\n",
            "\n",
            "Check if the columns contain Nan\n",
            "\n",
            "   Training Set\n",
            "\n",
            "PassengerId      0\n",
            "Survived         0\n",
            "Pclass           0\n",
            "Name             0\n",
            "Sex              0\n",
            "Age              0\n",
            "SibSp            0\n",
            "Parch            0\n",
            "Ticket           0\n",
            "Fare             0\n",
            "Cabin          687\n",
            "Embarked         0\n",
            "dtype: int64\n",
            "\n",
            "   Test Set\n",
            "\n",
            "PassengerId      0\n",
            "Pclass           0\n",
            "Name             0\n",
            "Sex              0\n",
            "Age             86\n",
            "SibSp            0\n",
            "Parch            0\n",
            "Ticket           0\n",
            "Fare             1\n",
            "Cabin          327\n",
            "Embarked         0\n",
            "dtype: int64\n",
            "\n",
            "\n",
            "\n",
            "\n",
            "Check if the columns contain empty strings\n",
            "\n",
            "   Training Set\n",
            "\n",
            "PassengerId    0\n",
            "Survived       0\n",
            "Pclass         0\n",
            "Name           0\n",
            "Sex            0\n",
            "Age            0\n",
            "SibSp          0\n",
            "Parch          0\n",
            "Ticket         0\n",
            "Fare           0\n",
            "Cabin          0\n",
            "Embarked       0\n",
            "dtype: int64\n",
            "\n",
            "   Test Set\n",
            "\n",
            "PassengerId    0\n",
            "Pclass         0\n",
            "Name           0\n",
            "Sex            0\n",
            "Age            0\n",
            "SibSp          0\n",
            "Parch          0\n",
            "Ticket         0\n",
            "Fare           0\n",
            "Cabin          0\n",
            "Embarked       0\n",
            "dtype: int64\n",
            "\n",
            "\n",
            "\n",
            "\n",
            "Check if the columns contain non-null cells\n",
            "\n",
            "   Training Set\n",
            "\n",
            "PassengerId      0\n",
            "Survived         0\n",
            "Pclass           0\n",
            "Name             0\n",
            "Sex              0\n",
            "Age              0\n",
            "SibSp            0\n",
            "Parch            0\n",
            "Ticket           0\n",
            "Fare             0\n",
            "Cabin          687\n",
            "Embarked         0\n",
            "dtype: int64\n",
            "\n",
            "   Test Set\n",
            "\n",
            "PassengerId      0\n",
            "Pclass           0\n",
            "Name             0\n",
            "Sex              0\n",
            "Age             86\n",
            "SibSp            0\n",
            "Parch            0\n",
            "Ticket           0\n",
            "Fare             1\n",
            "Cabin          327\n",
            "Embarked         0\n",
            "dtype: int64\n"
          ],
          "name": "stdout"
        }
      ]
    },
    {
      "cell_type": "markdown",
      "metadata": {
        "id": "MHUziS5TBDEa"
      },
      "source": [
        "<!DOCTYPE html>\r\n",
        "<html>\r\n",
        "<body>\r\n",
        "\r\n",
        "**<h2>Q6: In training set, what are the data types (e.g., integer, floats or strings ) for various features?</h2>**\r\n",
        "\r\n",
        "<p>The data types in the training set are as follows:\r\n",
        "\r\n",
        ">PassengerID, Survived, Pclass, SibSp, and Parch are integers.\r\n",
        "\r\n",
        ">Age and Fare are floats.\r\n",
        "\r\n",
        ">Name, Sex, Ticket, Cabin and Embarked are strings.\r\n",
        "</p>\r\n",
        "\r\n",
        "</body>\r\n",
        "</html>"
      ]
    },
    {
      "cell_type": "code",
      "metadata": {
        "colab": {
          "base_uri": "https://localhost:8080/",
          "height": 0
        },
        "id": "w9KfDvgYBfuu",
        "outputId": "b03a3f09-7ce6-477d-fc6f-9f2dd149a453"
      },
      "source": [
        "#@title Get data types\r\n",
        "\r\n",
        "train_df.info()"
      ],
      "execution_count": 28,
      "outputs": [
        {
          "output_type": "stream",
          "text": [
            "<class 'pandas.core.frame.DataFrame'>\n",
            "RangeIndex: 891 entries, 0 to 890\n",
            "Data columns (total 12 columns):\n",
            " #   Column       Non-Null Count  Dtype  \n",
            "---  ------       --------------  -----  \n",
            " 0   PassengerId  891 non-null    int64  \n",
            " 1   Survived     891 non-null    int64  \n",
            " 2   Pclass       891 non-null    int64  \n",
            " 3   Name         891 non-null    object \n",
            " 4   Sex          891 non-null    object \n",
            " 5   Age          891 non-null    float64\n",
            " 6   SibSp        891 non-null    int64  \n",
            " 7   Parch        891 non-null    int64  \n",
            " 8   Ticket       891 non-null    object \n",
            " 9   Fare         891 non-null    float64\n",
            " 10  Cabin        204 non-null    object \n",
            " 11  Embarked     889 non-null    object \n",
            "dtypes: float64(2), int64(5), object(5)\n",
            "memory usage: 83.7+ KB\n"
          ],
          "name": "stdout"
        }
      ]
    },
    {
      "cell_type": "markdown",
      "metadata": {
        "id": "bYkvlPUthIRZ"
      },
      "source": [
        "<!DOCTYPE html>\r\n",
        "<html>\r\n",
        "<body>\r\n",
        "\r\n",
        "**<h3>Q7: In training set, to understand the distribution of numerical feature values across the samples, please list the properties, including count, mean, std, min, 25% percentile, 50% percentile, 75% percentile, max, of numerical features?</h3>**\r\n",
        "\r\n",
        "</body>\r\n",
        "</html>"
      ]
    },
    {
      "cell_type": "code",
      "metadata": {
        "colab": {
          "base_uri": "https://localhost:8080/",
          "height": 297
        },
        "id": "oF0mWkQqhfU_",
        "outputId": "60e50fe9-811c-4e59-ad0e-ffb2922cda64"
      },
      "source": [
        "#@title Understand distribution of numerical features\r\n",
        "\r\n",
        "train_df.describe()"
      ],
      "execution_count": 69,
      "outputs": [
        {
          "output_type": "execute_result",
          "data": {
            "text/html": [
              "<div>\n",
              "<style scoped>\n",
              "    .dataframe tbody tr th:only-of-type {\n",
              "        vertical-align: middle;\n",
              "    }\n",
              "\n",
              "    .dataframe tbody tr th {\n",
              "        vertical-align: top;\n",
              "    }\n",
              "\n",
              "    .dataframe thead th {\n",
              "        text-align: right;\n",
              "    }\n",
              "</style>\n",
              "<table border=\"1\" class=\"dataframe\">\n",
              "  <thead>\n",
              "    <tr style=\"text-align: right;\">\n",
              "      <th></th>\n",
              "      <th>PassengerId</th>\n",
              "      <th>Survived</th>\n",
              "      <th>Pclass</th>\n",
              "      <th>Age</th>\n",
              "      <th>SibSp</th>\n",
              "      <th>Parch</th>\n",
              "      <th>Fare</th>\n",
              "    </tr>\n",
              "  </thead>\n",
              "  <tbody>\n",
              "    <tr>\n",
              "      <th>count</th>\n",
              "      <td>891.000000</td>\n",
              "      <td>891.000000</td>\n",
              "      <td>891.000000</td>\n",
              "      <td>714.000000</td>\n",
              "      <td>891.000000</td>\n",
              "      <td>891.000000</td>\n",
              "      <td>891.000000</td>\n",
              "    </tr>\n",
              "    <tr>\n",
              "      <th>mean</th>\n",
              "      <td>446.000000</td>\n",
              "      <td>0.383838</td>\n",
              "      <td>2.308642</td>\n",
              "      <td>29.699118</td>\n",
              "      <td>0.523008</td>\n",
              "      <td>0.381594</td>\n",
              "      <td>32.204208</td>\n",
              "    </tr>\n",
              "    <tr>\n",
              "      <th>std</th>\n",
              "      <td>257.353842</td>\n",
              "      <td>0.486592</td>\n",
              "      <td>0.836071</td>\n",
              "      <td>14.526497</td>\n",
              "      <td>1.102743</td>\n",
              "      <td>0.806057</td>\n",
              "      <td>49.693429</td>\n",
              "    </tr>\n",
              "    <tr>\n",
              "      <th>min</th>\n",
              "      <td>1.000000</td>\n",
              "      <td>0.000000</td>\n",
              "      <td>1.000000</td>\n",
              "      <td>0.420000</td>\n",
              "      <td>0.000000</td>\n",
              "      <td>0.000000</td>\n",
              "      <td>0.000000</td>\n",
              "    </tr>\n",
              "    <tr>\n",
              "      <th>25%</th>\n",
              "      <td>223.500000</td>\n",
              "      <td>0.000000</td>\n",
              "      <td>2.000000</td>\n",
              "      <td>20.125000</td>\n",
              "      <td>0.000000</td>\n",
              "      <td>0.000000</td>\n",
              "      <td>7.910400</td>\n",
              "    </tr>\n",
              "    <tr>\n",
              "      <th>50%</th>\n",
              "      <td>446.000000</td>\n",
              "      <td>0.000000</td>\n",
              "      <td>3.000000</td>\n",
              "      <td>28.000000</td>\n",
              "      <td>0.000000</td>\n",
              "      <td>0.000000</td>\n",
              "      <td>14.454200</td>\n",
              "    </tr>\n",
              "    <tr>\n",
              "      <th>75%</th>\n",
              "      <td>668.500000</td>\n",
              "      <td>1.000000</td>\n",
              "      <td>3.000000</td>\n",
              "      <td>38.000000</td>\n",
              "      <td>1.000000</td>\n",
              "      <td>0.000000</td>\n",
              "      <td>31.000000</td>\n",
              "    </tr>\n",
              "    <tr>\n",
              "      <th>max</th>\n",
              "      <td>891.000000</td>\n",
              "      <td>1.000000</td>\n",
              "      <td>3.000000</td>\n",
              "      <td>80.000000</td>\n",
              "      <td>8.000000</td>\n",
              "      <td>6.000000</td>\n",
              "      <td>512.329200</td>\n",
              "    </tr>\n",
              "  </tbody>\n",
              "</table>\n",
              "</div>"
            ],
            "text/plain": [
              "       PassengerId    Survived      Pclass  ...       SibSp       Parch        Fare\n",
              "count   891.000000  891.000000  891.000000  ...  891.000000  891.000000  891.000000\n",
              "mean    446.000000    0.383838    2.308642  ...    0.523008    0.381594   32.204208\n",
              "std     257.353842    0.486592    0.836071  ...    1.102743    0.806057   49.693429\n",
              "min       1.000000    0.000000    1.000000  ...    0.000000    0.000000    0.000000\n",
              "25%     223.500000    0.000000    2.000000  ...    0.000000    0.000000    7.910400\n",
              "50%     446.000000    0.000000    3.000000  ...    0.000000    0.000000   14.454200\n",
              "75%     668.500000    1.000000    3.000000  ...    1.000000    0.000000   31.000000\n",
              "max     891.000000    1.000000    3.000000  ...    8.000000    6.000000  512.329200\n",
              "\n",
              "[8 rows x 7 columns]"
            ]
          },
          "metadata": {
            "tags": []
          },
          "execution_count": 69
        }
      ]
    },
    {
      "cell_type": "markdown",
      "metadata": {
        "id": "UL6bkqW2hnHa"
      },
      "source": [
        "<!DOCTYPE html>\r\n",
        "<html>\r\n",
        "<body>\r\n",
        "\r\n",
        "**<h3>Q8: In training set, to understand the distribution of categorical features, we define:  count is the total number of categorical values per column; unique is the total number of unique categorical values per column; top is the most frequent categorical value; freq is the total number of the most frequent categorical value. Please list the properties, including count, unique, top, freq,of categorical features?</h3>**\r\n",
        "\r\n",
        "</body>\r\n",
        "</html>"
      ]
    },
    {
      "cell_type": "code",
      "metadata": {
        "colab": {
          "base_uri": "https://localhost:8080/",
          "height": 173
        },
        "id": "ON1CHVPXiFfT",
        "outputId": "35e63e98-0ef8-4a12-c2fc-c168fae3efff"
      },
      "source": [
        "#@title Understand distribution of categorical features\r\n",
        "\r\n",
        "train_df.describe(include=['O'])"
      ],
      "execution_count": 71,
      "outputs": [
        {
          "output_type": "execute_result",
          "data": {
            "text/html": [
              "<div>\n",
              "<style scoped>\n",
              "    .dataframe tbody tr th:only-of-type {\n",
              "        vertical-align: middle;\n",
              "    }\n",
              "\n",
              "    .dataframe tbody tr th {\n",
              "        vertical-align: top;\n",
              "    }\n",
              "\n",
              "    .dataframe thead th {\n",
              "        text-align: right;\n",
              "    }\n",
              "</style>\n",
              "<table border=\"1\" class=\"dataframe\">\n",
              "  <thead>\n",
              "    <tr style=\"text-align: right;\">\n",
              "      <th></th>\n",
              "      <th>Name</th>\n",
              "      <th>Sex</th>\n",
              "      <th>Ticket</th>\n",
              "      <th>Cabin</th>\n",
              "      <th>Embarked</th>\n",
              "    </tr>\n",
              "  </thead>\n",
              "  <tbody>\n",
              "    <tr>\n",
              "      <th>count</th>\n",
              "      <td>891</td>\n",
              "      <td>891</td>\n",
              "      <td>891</td>\n",
              "      <td>204</td>\n",
              "      <td>889</td>\n",
              "    </tr>\n",
              "    <tr>\n",
              "      <th>unique</th>\n",
              "      <td>891</td>\n",
              "      <td>2</td>\n",
              "      <td>681</td>\n",
              "      <td>147</td>\n",
              "      <td>3</td>\n",
              "    </tr>\n",
              "    <tr>\n",
              "      <th>top</th>\n",
              "      <td>Spedden, Mrs. Frederic Oakley (Margaretta Corn...</td>\n",
              "      <td>male</td>\n",
              "      <td>347082</td>\n",
              "      <td>B96 B98</td>\n",
              "      <td>S</td>\n",
              "    </tr>\n",
              "    <tr>\n",
              "      <th>freq</th>\n",
              "      <td>1</td>\n",
              "      <td>577</td>\n",
              "      <td>7</td>\n",
              "      <td>4</td>\n",
              "      <td>644</td>\n",
              "    </tr>\n",
              "  </tbody>\n",
              "</table>\n",
              "</div>"
            ],
            "text/plain": [
              "                                                     Name  ... Embarked\n",
              "count                                                 891  ...      889\n",
              "unique                                                891  ...        3\n",
              "top     Spedden, Mrs. Frederic Oakley (Margaretta Corn...  ...        S\n",
              "freq                                                    1  ...      644\n",
              "\n",
              "[4 rows x 5 columns]"
            ]
          },
          "metadata": {
            "tags": []
          },
          "execution_count": 71
        }
      ]
    },
    {
      "cell_type": "markdown",
      "metadata": {
        "id": "uafX0GMtjC_M"
      },
      "source": [
        "<!DOCTYPE html>\r\n",
        "<html>\r\n",
        "<body>\r\n",
        "\r\n",
        "**<h3>Q9: In training set, can you observe significant correlation (average survived ratio>0.5) among the group of Pclass=1 and Survived? If Pclass has significant correlation with Survived, we should include this feature in the predictive model. Based on your computation, will you include this feature in the predictive model?</h3>**\r\n",
        "<p>There is significant correlation (average survived ratio=0.629630>0.5) among Pclass=1 and Survived. Therefore, we should include this feature in the predictive model.\r\n",
        "</p>\r\n",
        "\r\n",
        "</body>\r\n",
        "</html>"
      ]
    },
    {
      "cell_type": "code",
      "metadata": {
        "colab": {
          "base_uri": "https://localhost:8080/",
          "height": 142
        },
        "id": "z72DyYBgjqRL",
        "outputId": "b581dc87-c99f-4cc5-9bcd-1d2e1868d010"
      },
      "source": [
        "#@title Find correlation among the group of Pclass=1 and Survived\r\n",
        "\r\n",
        "train_df[['Pclass', 'Survived']].groupby(['Pclass'], as_index=False).mean().sort_values(by='Survived', ascending=False)"
      ],
      "execution_count": 8,
      "outputs": [
        {
          "output_type": "execute_result",
          "data": {
            "text/html": [
              "<div>\n",
              "<style scoped>\n",
              "    .dataframe tbody tr th:only-of-type {\n",
              "        vertical-align: middle;\n",
              "    }\n",
              "\n",
              "    .dataframe tbody tr th {\n",
              "        vertical-align: top;\n",
              "    }\n",
              "\n",
              "    .dataframe thead th {\n",
              "        text-align: right;\n",
              "    }\n",
              "</style>\n",
              "<table border=\"1\" class=\"dataframe\">\n",
              "  <thead>\n",
              "    <tr style=\"text-align: right;\">\n",
              "      <th></th>\n",
              "      <th>Pclass</th>\n",
              "      <th>Survived</th>\n",
              "    </tr>\n",
              "  </thead>\n",
              "  <tbody>\n",
              "    <tr>\n",
              "      <th>0</th>\n",
              "      <td>1</td>\n",
              "      <td>0.629630</td>\n",
              "    </tr>\n",
              "    <tr>\n",
              "      <th>1</th>\n",
              "      <td>2</td>\n",
              "      <td>0.472826</td>\n",
              "    </tr>\n",
              "    <tr>\n",
              "      <th>2</th>\n",
              "      <td>3</td>\n",
              "      <td>0.242363</td>\n",
              "    </tr>\n",
              "  </tbody>\n",
              "</table>\n",
              "</div>"
            ],
            "text/plain": [
              "   Pclass  Survived\n",
              "0       1  0.629630\n",
              "1       2  0.472826\n",
              "2       3  0.242363"
            ]
          },
          "metadata": {
            "tags": []
          },
          "execution_count": 8
        }
      ]
    },
    {
      "cell_type": "markdown",
      "metadata": {
        "id": "A3DI-UHok8sE"
      },
      "source": [
        "<!DOCTYPE html>\r\n",
        "<html>\r\n",
        "<body>\r\n",
        "\r\n",
        "**<h3>Q10: In training set, are Women (Sex=female) more likely to have survived?</h3>**\r\n",
        "<p>In the training set, women are more likely to have survived compared to men.\r\n",
        "</p>\r\n",
        "\r\n",
        "</body>\r\n",
        "</html>"
      ]
    },
    {
      "cell_type": "code",
      "metadata": {
        "colab": {
          "base_uri": "https://localhost:8080/",
          "height": 111
        },
        "id": "O7SohgF4ldr1",
        "outputId": "4c842af9-5474-4310-c323-ca9a54d475bb"
      },
      "source": [
        "#@title Find correlation among Sex=female and Survived\r\n",
        "\r\n",
        "train_df[[\"Sex\", \"Survived\"]].groupby(['Sex'], as_index=False).mean().sort_values(by='Survived', ascending=False)"
      ],
      "execution_count": 9,
      "outputs": [
        {
          "output_type": "execute_result",
          "data": {
            "text/html": [
              "<div>\n",
              "<style scoped>\n",
              "    .dataframe tbody tr th:only-of-type {\n",
              "        vertical-align: middle;\n",
              "    }\n",
              "\n",
              "    .dataframe tbody tr th {\n",
              "        vertical-align: top;\n",
              "    }\n",
              "\n",
              "    .dataframe thead th {\n",
              "        text-align: right;\n",
              "    }\n",
              "</style>\n",
              "<table border=\"1\" class=\"dataframe\">\n",
              "  <thead>\n",
              "    <tr style=\"text-align: right;\">\n",
              "      <th></th>\n",
              "      <th>Sex</th>\n",
              "      <th>Survived</th>\n",
              "    </tr>\n",
              "  </thead>\n",
              "  <tbody>\n",
              "    <tr>\n",
              "      <th>0</th>\n",
              "      <td>female</td>\n",
              "      <td>0.742038</td>\n",
              "    </tr>\n",
              "    <tr>\n",
              "      <th>1</th>\n",
              "      <td>male</td>\n",
              "      <td>0.188908</td>\n",
              "    </tr>\n",
              "  </tbody>\n",
              "</table>\n",
              "</div>"
            ],
            "text/plain": [
              "      Sex  Survived\n",
              "0  female  0.742038\n",
              "1    male  0.188908"
            ]
          },
          "metadata": {
            "tags": []
          },
          "execution_count": 9
        }
      ]
    },
    {
      "cell_type": "markdown",
      "metadata": {
        "id": "w4LEaCX3mspw"
      },
      "source": [
        "<!DOCTYPE html>\r\n",
        "<html>\r\n",
        "<body>\r\n",
        "\r\n",
        "**<h3>Q11: In training set, let us start by understanding correlations between a numeric feature (Age) and our predictive goal (Survived). A histogram chart is useful for analyzing continuous numerical variables like Age where banding or ranges will help identify useful patterns. The histogram can indicate distribution of samples using automatically defined bins or equally ranged bands. This helps us answer questions relating to specific bands (e.g., infants, old). Please plot the histograms between ages and Survived (Figure 1 is an example), and answer the following questions:</h3>**\r\n",
        "\r\n",
        ">**Do infants (Age <=4) have high survival rate?**\r\n",
        "\r\n",
        ">**Do oldest passengers (Age = 80) survive?**\r\n",
        "\r\n",
        ">**Do large number of 15-25 year olds not survive?**\r\n",
        "\r\n",
        "**<h3>Based on your analysis of the figures, </h3>**\r\n",
        "\r\n",
        ">**Should we consider Age in our model training? (If yes, then we should complete the Age feature for null values.)**\r\n",
        "\r\n",
        ">**Should we should band age groups?**\r\n",
        "\r\n",
        "</body>\r\n",
        "</html>"
      ]
    },
    {
      "cell_type": "code",
      "metadata": {
        "colab": {
          "base_uri": "https://localhost:8080/",
          "height": 242
        },
        "id": "80pCyPbN1Eyi",
        "outputId": "90aa0958-1940-4c30-9fa5-fc7f0f6f703e"
      },
      "source": [
        "import matplotlib.pyplot as plt\r\n",
        "%matplotlib inline\r\n",
        "\r\n",
        "g = sns.FacetGrid(train_df, col='Survived')\r\n",
        "g.map(plt.hist, 'Age', bins=20)\r\n",
        "\r\n"
      ],
      "execution_count": 20,
      "outputs": [
        {
          "output_type": "execute_result",
          "data": {
            "text/plain": [
              "<seaborn.axisgrid.FacetGrid at 0x7f82fdee9a90>"
            ]
          },
          "metadata": {
            "tags": []
          },
          "execution_count": 20
        },
        {
          "output_type": "display_data",
          "data": {
            "image/png": "[encoded data removed]",
            "text/plain": [
              "<Figure size 432x216 with 2 Axes>"
            ]
          },
          "metadata": {
            "tags": [],
            "needs_background": "light"
          }
        }
      ]
    },
    {
      "cell_type": "markdown",
      "metadata": {
        "id": "IVRZlTsB2xYU"
      },
      "source": [
        "<!DOCTYPE html>\r\n",
        "<html>\r\n",
        "<body>\r\n",
        "\r\n",
        "\r\n",
        "* Infants (Age <=4) had a high survival rate.\r\n",
        "* Oldest passengers (Age = 80) survived.\r\n",
        "* A large number of 15-25 year olds did not survive.\r\n",
        "\r\n",
        "> Based on the analysis of the figures,\r\n",
        "\r\n",
        "* we should consider Age in our model training.\r\n",
        "* we should also band age groups.\r\n",
        "\r\n",
        "</body>\r\n",
        "</html>"
      ]
    },
    {
      "cell_type": "markdown",
      "metadata": {
        "id": "-LUip2LWv1P5"
      },
      "source": [
        "<!DOCTYPE html>\r\n",
        "<html>\r\n",
        "<body>\r\n",
        "\r\n",
        "**<h3>Q12: We can combine three features (age, Pclass, and survivied) for identifying correlations using a single plot. This can be done with numerical and categorical features which have numeric values. Please plot the plot using python, and answer the following questions:</h3>**\r\n",
        "\r\n",
        "* **Does Pclass=3 have most passengers, however most did not survive?**\r\n",
        "* **Do infant passengers in Pclass=2 and Pclass=3 mostly survive?**\r\n",
        "* **Do most passengers in Pclass=1 survive?**\r\n",
        "* **Does Pclass vary in terms of Age distribution of passengers?**\r\n",
        "* **Should we consider Pclass for model training?**\r\n",
        "\r\n",
        "</body>\r\n",
        "</html>"
      ]
    },
    {
      "cell_type": "code",
      "metadata": {
        "colab": {
          "base_uri": "https://localhost:8080/",
          "height": 485
        },
        "id": "tBDySzsBvvjD",
        "outputId": "6336ac72-3bc0-4bb7-a03c-9486edf6209b"
      },
      "source": [
        "#@title Combine features (Age, Pclass and Survived) for identifying correlations \r\n",
        "# grid = sns.FacetGrid(train_df, col='Pclass', hue='Survived')\r\n",
        "grid = sns.FacetGrid(train_df, col='Survived', row='Pclass', height=2.2, aspect=1.6)\r\n",
        "grid.map(plt.hist, 'Age', alpha=.5, bins=20)\r\n",
        "grid.add_legend();"
      ],
      "execution_count": 19,
      "outputs": [
        {
          "output_type": "display_data",
          "data": {
            "image/png": "[encoded data removed]",
            "text/plain": [
              "<Figure size 514.88x475.2 with 6 Axes>"
            ]
          },
          "metadata": {
            "tags": [],
            "needs_background": "light"
          }
        }
      ]
    },
    {
      "cell_type": "markdown",
      "metadata": {
        "id": "CLSwKyoxxEkW"
      },
      "source": [
        "<!DOCTYPE html>\r\n",
        "<html>\r\n",
        "<body>\r\n",
        "\r\n",
        "* Pclass=3 had most passengers. Most did not survive.\r\n",
        "* Infant passengers in Pclass=2 and Pclass=3 mostly survived.\r\n",
        "* Most passengers in Pclass=1 survived.\r\n",
        "* Pclass varies in terms of Age distribution of passengers.\r\n",
        "\r\n",
        "> Based on the analysis of the figures,\r\n",
        "\r\n",
        "* we should consider Pclass for model training.\r\n",
        "\r\n",
        "</body>\r\n",
        "</html>"
      ]
    },
    {
      "cell_type": "markdown",
      "metadata": {
        "id": "bJhmFmRPy6pe"
      },
      "source": [
        "<!DOCTYPE html>\r\n",
        "<html>\r\n",
        "<body>\r\n",
        "\r\n",
        "**<h3>Q13: We want to correlate categorical features (with non-numeric values) and numeric features. We can consider correlating Embarked (Categorical non-numeric), Sex (Categorical non-numeric), Fare (Numeric continuous), with Survived (Categorical numeric). Please plot a figure to illustrate the\r\n",
        "correlations of Embarked, Sex, Fare, and Survived. Then, answer the following questions:</h3>**\r\n",
        "\r\n",
        "* **Do higher fare paying passengers have better survival?**\r\n",
        "* **Should we consider banding fare feature?**\r\n",
        "\r\n",
        "</body>\r\n",
        "</html>"
      ]
    },
    {
      "cell_type": "code",
      "metadata": {
        "colab": {
          "base_uri": "https://localhost:8080/",
          "height": 502
        },
        "id": "-F0UBW2YzYqX",
        "outputId": "adc0d3b8-6200-4f5c-9be3-9ab73e6a3273"
      },
      "source": [
        "#@title Correlate categorical features\r\n",
        "# grid = sns.FacetGrid(train_df, col='Embarked', hue='Survived', palette={0: 'k', 1: 'w'})\r\n",
        "grid = sns.FacetGrid(train_df, row='Embarked', col='Survived', height=2.2, aspect=1.6)\r\n",
        "grid.map(sns.barplot, 'Sex', 'Fare', alpha=.5, order=None, ci=None)\r\n",
        "grid.add_legend()"
      ],
      "execution_count": 27,
      "outputs": [
        {
          "output_type": "execute_result",
          "data": {
            "text/plain": [
              "<seaborn.axisgrid.FacetGrid at 0x7f82f1986d68>"
            ]
          },
          "metadata": {
            "tags": []
          },
          "execution_count": 27
        },
        {
          "output_type": "display_data",
          "data": {
            "image/png": "[encoded data removed]",
            "text/plain": [
              "<Figure size 514.88x475.2 with 6 Axes>"
            ]
          },
          "metadata": {
            "tags": [],
            "needs_background": "light"
          }
        }
      ]
    },
    {
      "cell_type": "markdown",
      "metadata": {
        "id": "CeRAlYAd0b_M"
      },
      "source": [
        "<!DOCTYPE html>\r\n",
        "<html>\r\n",
        "<body>\r\n",
        "\r\n",
        "* Higher fare paying passengers have better survival.\r\n",
        "\r\n",
        "> Based on the analysis of the figures,\r\n",
        "\r\n",
        "* we should consider banding Fare feature.\r\n",
        "\r\n",
        "</body>\r\n",
        "</html>"
      ]
    },
    {
      "cell_type": "markdown",
      "metadata": {
        "id": "uUBeRPQQ1PnK"
      },
      "source": [
        "<!DOCTYPE html>\r\n",
        "<html>\r\n",
        "<body>\r\n",
        "\r\n",
        "**<h3>Q14: What is the rate of duplicates for the Ticket feature? Is there a correlation between Ticket and survival? Should we drop the Ticket feature?</h3>**\r\n",
        "<p>~23.6% of the instances in the Ticket feature are duplicates. Without further domain knowledge and because the ratio of duplicates is relatively high, there doesn't appear to be any discernable information in the ticket information and hence, there is likely no correlation between Ticket and Survival. We should drop the Ticket feature.\r\n",
        "</p>\r\n",
        "\r\n",
        "</body>\r\n",
        "</html>"
      ]
    },
    {
      "cell_type": "code",
      "metadata": {
        "colab": {
          "base_uri": "https://localhost:8080/",
          "height": 0
        },
        "id": "pPhv8fce4_Jh",
        "outputId": "a6ad0384-ed79-4384-b693-801a292e4936"
      },
      "source": [
        "#@title Find duplicates and correlation between Ticket and Survived\r\n",
        "\r\n",
        "duplicates = train_df.pivot_table(index = ['Ticket'], aggfunc ='size')\r\n",
        "print(duplicates[duplicates > 1])\r\n",
        "\r\n",
        "rate_of_duplicates_in_Ticket_feature = ( train_df['Ticket'].size - train_df['Ticket'].nunique() ) / train_df['Ticket'].size\r\n",
        "print(\"\\nRate of duplicates for the Ticket feature = {}\".format(rate_of_duplicates_in_Ticket_feature))\r\n",
        "\r\n",
        "#train_df.corr()"
      ],
      "execution_count": 13,
      "outputs": [
        {
          "output_type": "stream",
          "text": [
            "Ticket\n",
            "110152              3\n",
            "110413              3\n",
            "110465              2\n",
            "111361              2\n",
            "113505              2\n",
            "                   ..\n",
            "SC/Paris 2123       3\n",
            "STON/O2. 3101279    2\n",
            "W./C. 6607          2\n",
            "W./C. 6608          4\n",
            "WE/P 5735           2\n",
            "Length: 134, dtype: int64\n",
            "\n",
            "Rate of duplicates for the Ticket feature = 0.2356902356902357\n"
          ],
          "name": "stdout"
        }
      ]
    },
    {
      "cell_type": "markdown",
      "metadata": {
        "id": "nVehCHL11PSe"
      },
      "source": [
        "<!DOCTYPE html>\r\n",
        "<html>\r\n",
        "<body>\r\n",
        "\r\n",
        "**<h3>Q15: Is the Cabin feature complete? How many null values there are in the Cabin features of the combined dataset of training and test dataset? Should we drop the Cabin feature?**\r\n",
        "<p>The Cabin feature in not complete. There 1,014 null values in the Cabin feature of the combined dataset of training and test dataset.  Cabin feature should be dropped because it is incomplete or contains many null values both in training and test dataset.\r\n",
        "</p>\r\n",
        "\r\n",
        "</body>\r\n",
        "</html>"
      ]
    },
    {
      "cell_type": "markdown",
      "metadata": {
        "id": "eHxxwIPV7fbE"
      },
      "source": [
        "<!DOCTYPE html>\r\n",
        "<html>\r\n",
        "<body>\r\n",
        "\r\n",
        "**<h3>Q16: We can convert features which contain strings to numerical values. This is required by most model algorithms. Doing so will also help us in achieving the feature completing goal. In this question ,please convert Sex feature to a new feature called Gender where female=1 and male=0.</h3>**\r\n",
        "\r\n",
        "</body>\r\n",
        "</html>"
      ]
    },
    {
      "cell_type": "code",
      "metadata": {
        "colab": {
          "base_uri": "https://localhost:8080/",
          "height": 204
        },
        "id": "z8kwNedr7fuW",
        "outputId": "b6ac009b-7a90-4587-8103-980682753ed9"
      },
      "source": [
        "for dataset in combine:\r\n",
        "    dataset['Sex'] = dataset['Sex'].map( {'female': 1, 'male': 0} ).astype(int)\r\n",
        "\r\n",
        "train_df.head()"
      ],
      "execution_count": 14,
      "outputs": [
        {
          "output_type": "execute_result",
          "data": {
            "text/html": [
              "<div>\n",
              "<style scoped>\n",
              "    .dataframe tbody tr th:only-of-type {\n",
              "        vertical-align: middle;\n",
              "    }\n",
              "\n",
              "    .dataframe tbody tr th {\n",
              "        vertical-align: top;\n",
              "    }\n",
              "\n",
              "    .dataframe thead th {\n",
              "        text-align: right;\n",
              "    }\n",
              "</style>\n",
              "<table border=\"1\" class=\"dataframe\">\n",
              "  <thead>\n",
              "    <tr style=\"text-align: right;\">\n",
              "      <th></th>\n",
              "      <th>PassengerId</th>\n",
              "      <th>Survived</th>\n",
              "      <th>Pclass</th>\n",
              "      <th>Name</th>\n",
              "      <th>Sex</th>\n",
              "      <th>Age</th>\n",
              "      <th>SibSp</th>\n",
              "      <th>Parch</th>\n",
              "      <th>Ticket</th>\n",
              "      <th>Fare</th>\n",
              "      <th>Cabin</th>\n",
              "      <th>Embarked</th>\n",
              "    </tr>\n",
              "  </thead>\n",
              "  <tbody>\n",
              "    <tr>\n",
              "      <th>0</th>\n",
              "      <td>1</td>\n",
              "      <td>0</td>\n",
              "      <td>3</td>\n",
              "      <td>Braund, Mr. Owen Harris</td>\n",
              "      <td>0</td>\n",
              "      <td>22.0</td>\n",
              "      <td>1</td>\n",
              "      <td>0</td>\n",
              "      <td>A/5 21171</td>\n",
              "      <td>7.2500</td>\n",
              "      <td>NaN</td>\n",
              "      <td>S</td>\n",
              "    </tr>\n",
              "    <tr>\n",
              "      <th>1</th>\n",
              "      <td>2</td>\n",
              "      <td>1</td>\n",
              "      <td>1</td>\n",
              "      <td>Cumings, Mrs. John Bradley (Florence Briggs Th...</td>\n",
              "      <td>1</td>\n",
              "      <td>38.0</td>\n",
              "      <td>1</td>\n",
              "      <td>0</td>\n",
              "      <td>PC 17599</td>\n",
              "      <td>71.2833</td>\n",
              "      <td>C85</td>\n",
              "      <td>C</td>\n",
              "    </tr>\n",
              "    <tr>\n",
              "      <th>2</th>\n",
              "      <td>3</td>\n",
              "      <td>1</td>\n",
              "      <td>3</td>\n",
              "      <td>Heikkinen, Miss. Laina</td>\n",
              "      <td>1</td>\n",
              "      <td>26.0</td>\n",
              "      <td>0</td>\n",
              "      <td>0</td>\n",
              "      <td>STON/O2. 3101282</td>\n",
              "      <td>7.9250</td>\n",
              "      <td>NaN</td>\n",
              "      <td>S</td>\n",
              "    </tr>\n",
              "    <tr>\n",
              "      <th>3</th>\n",
              "      <td>4</td>\n",
              "      <td>1</td>\n",
              "      <td>1</td>\n",
              "      <td>Futrelle, Mrs. Jacques Heath (Lily May Peel)</td>\n",
              "      <td>1</td>\n",
              "      <td>35.0</td>\n",
              "      <td>1</td>\n",
              "      <td>0</td>\n",
              "      <td>113803</td>\n",
              "      <td>53.1000</td>\n",
              "      <td>C123</td>\n",
              "      <td>S</td>\n",
              "    </tr>\n",
              "    <tr>\n",
              "      <th>4</th>\n",
              "      <td>5</td>\n",
              "      <td>0</td>\n",
              "      <td>3</td>\n",
              "      <td>Allen, Mr. William Henry</td>\n",
              "      <td>0</td>\n",
              "      <td>35.0</td>\n",
              "      <td>0</td>\n",
              "      <td>0</td>\n",
              "      <td>373450</td>\n",
              "      <td>8.0500</td>\n",
              "      <td>NaN</td>\n",
              "      <td>S</td>\n",
              "    </tr>\n",
              "  </tbody>\n",
              "</table>\n",
              "</div>"
            ],
            "text/plain": [
              "   PassengerId  Survived  Pclass  ...     Fare  Cabin  Embarked\n",
              "0            1         0       3  ...   7.2500    NaN         S\n",
              "1            2         1       1  ...  71.2833    C85         C\n",
              "2            3         1       3  ...   7.9250    NaN         S\n",
              "3            4         1       1  ...  53.1000   C123         S\n",
              "4            5         0       3  ...   8.0500    NaN         S\n",
              "\n",
              "[5 rows x 12 columns]"
            ]
          },
          "metadata": {
            "tags": []
          },
          "execution_count": 14
        }
      ]
    },
    {
      "cell_type": "markdown",
      "metadata": {
        "id": "hfb0cc_k8jDK"
      },
      "source": [
        "<!DOCTYPE html>\r\n",
        "<html>\r\n",
        "<body>\r\n",
        "\r\n",
        "**<h3>Q17: We start estimating and completing features with missing or null values. We will first do this for the Age feature. We can consider three methods to complete a numerical continuous feature. A simple way is to generate random numbers between mean and standard deviation. More accurate\r\n",
        "way of guessing missing values is to use the K-Nearest Neighbor algorithm to select the top-K most similar data points, and then use the top-K most similar data points to impute the missing values of ages.</h3>**\r\n",
        "\r\n",
        "</body>\r\n",
        "</html>"
      ]
    },
    {
      "cell_type": "code",
      "metadata": {
        "id": "1zZuZNWQ8rYY"
      },
      "source": [
        "#@title Estimating and completing features with missing or null values\r\n",
        "# Use Pandas’ data frame attributes, ‘.isna()’ and ‘.isany()’, to detect missing values\r\n",
        "print('Before filling missing values, Age has {} missing values\\n'.format(train_df['Age'].isna().sum()))\r\n",
        "\r\n",
        "# Guess missing values using K-Nearest Neighbor algorithm from sklearn library\r\n",
        "print('Fill missing values using K-Nearest Neighbor algorithm')\r\n",
        "from sklearn.impute import KNNImputer\r\n",
        "from sklearn.preprocessing import MinMaxScaler\r\n",
        "\r\n",
        "passengerId_df = train_df['PassengerId']\r\n",
        "age_df = train_df['Age']\r\n",
        "frame = { 'PassengerId': passengerId_df, 'Age': age_df }\r\n",
        "passengerId_and_age_df = pd.DataFrame(frame)\r\n",
        "passengerId_and_age_df['Age']\r\n",
        "\r\n",
        "scaler = MinMaxScaler()\r\n",
        "passengerId_and_age_df = pd.DataFrame(scaler.fit_transform(passengerId_and_age_df), columns = passengerId_and_age_df.columns)\r\n",
        "imputer = KNNImputer(n_neighbors=5)\r\n",
        "passengerId_and_age_df = pd.DataFrame(imputer.fit_transform(passengerId_and_age_df),columns = passengerId_and_age_df.columns)\r\n",
        "print(passengerId_and_age_df)\r\n",
        "train_df['Age'] = passengerId_and_age_df['Age'].values\r\n",
        "train_df['Age'].head\r\n",
        "\r\n",
        "print('\\nAfter filling missing values, Age has {} missing values\\n'.format(train_df['Age'].isna().sum()))"
      ],
      "execution_count": null,
      "outputs": []
    },
    {
      "cell_type": "markdown",
      "metadata": {
        "id": "CXo1EOAT14x_"
      },
      "source": [
        "<!DOCTYPE html>\r\n",
        "<html>\r\n",
        "<body>\r\n",
        "\r\n",
        "**<h3>Q18: Complete a categorical feature: Embarked feature takes S, Q, C values based on port of embarkation. Our training dataset has some missing values. Please simply fill these with the most common occurrences.</h3>**\r\n",
        "\r\n",
        "</body>\r\n",
        "</html>"
      ]
    },
    {
      "cell_type": "code",
      "metadata": {
        "colab": {
          "base_uri": "https://localhost:8080/",
          "height": 142
        },
        "id": "Qcrt8DXB2jHX",
        "outputId": "2b5200d0-f170-46a7-f36d-651a84a52012"
      },
      "source": [
        "#@title Complete Embarked categorical feature\r\n",
        "\r\n",
        "freq_port = train_df.Embarked.dropna().mode()[0]\r\n",
        "freq_port\r\n",
        "\r\n",
        "for dataset in combine:\r\n",
        "    dataset['Embarked'] = dataset['Embarked'].fillna(freq_port)\r\n",
        "    \r\n",
        "train_df[['Embarked', 'Survived']].groupby(['Embarked'], as_index=False).mean().sort_values(by='Survived', ascending=False)"
      ],
      "execution_count": 60,
      "outputs": [
        {
          "output_type": "execute_result",
          "data": {
            "text/html": [
              "<div>\n",
              "<style scoped>\n",
              "    .dataframe tbody tr th:only-of-type {\n",
              "        vertical-align: middle;\n",
              "    }\n",
              "\n",
              "    .dataframe tbody tr th {\n",
              "        vertical-align: top;\n",
              "    }\n",
              "\n",
              "    .dataframe thead th {\n",
              "        text-align: right;\n",
              "    }\n",
              "</style>\n",
              "<table border=\"1\" class=\"dataframe\">\n",
              "  <thead>\n",
              "    <tr style=\"text-align: right;\">\n",
              "      <th></th>\n",
              "      <th>Embarked</th>\n",
              "      <th>Survived</th>\n",
              "    </tr>\n",
              "  </thead>\n",
              "  <tbody>\n",
              "    <tr>\n",
              "      <th>0</th>\n",
              "      <td>C</td>\n",
              "      <td>0.553571</td>\n",
              "    </tr>\n",
              "    <tr>\n",
              "      <th>1</th>\n",
              "      <td>Q</td>\n",
              "      <td>0.389610</td>\n",
              "    </tr>\n",
              "    <tr>\n",
              "      <th>2</th>\n",
              "      <td>S</td>\n",
              "      <td>0.339009</td>\n",
              "    </tr>\n",
              "  </tbody>\n",
              "</table>\n",
              "</div>"
            ],
            "text/plain": [
              "  Embarked  Survived\n",
              "0        C  0.553571\n",
              "1        Q  0.389610\n",
              "2        S  0.339009"
            ]
          },
          "metadata": {
            "tags": []
          },
          "execution_count": 60
        }
      ]
    },
    {
      "cell_type": "markdown",
      "metadata": {
        "id": "pFDVi2qD3Yod"
      },
      "source": [
        "<!DOCTYPE html>\r\n",
        "<html>\r\n",
        "<body>\r\n",
        "\r\n",
        "**<h3>Q19: Complete and convert a numeric feature. Please complete the Fare feature for single missing value in test dataset using mode to get the value that occurs most frequently for this feature.</h3>**\r\n",
        "\r\n",
        "</body>\r\n",
        "</html>"
      ]
    },
    {
      "cell_type": "code",
      "metadata": {
        "colab": {
          "base_uri": "https://localhost:8080/",
          "height": 238
        },
        "id": "mKJKSSZJ3j38",
        "outputId": "826a8025-ad04-4dcb-9bcf-4f95cdd5b77f"
      },
      "source": [
        "#@title Complete and convert Fare numeric feature\r\n",
        "\r\n",
        "print(train_df['Fare'].isin([np.inf, -np.inf]).sum())\r\n",
        "\r\n",
        "train_array = train_df['Fare'].values\r\n",
        "print(np.isfinite(train_array).all())\r\n",
        "\r\n",
        "test_df['Fare'].fillna(test_df['Fare'].dropna().mode(), inplace=True)\r\n",
        "test_df.head()"
      ],
      "execution_count": 17,
      "outputs": [
        {
          "output_type": "stream",
          "text": [
            "0\n",
            "True\n"
          ],
          "name": "stdout"
        },
        {
          "output_type": "execute_result",
          "data": {
            "text/html": [
              "<div>\n",
              "<style scoped>\n",
              "    .dataframe tbody tr th:only-of-type {\n",
              "        vertical-align: middle;\n",
              "    }\n",
              "\n",
              "    .dataframe tbody tr th {\n",
              "        vertical-align: top;\n",
              "    }\n",
              "\n",
              "    .dataframe thead th {\n",
              "        text-align: right;\n",
              "    }\n",
              "</style>\n",
              "<table border=\"1\" class=\"dataframe\">\n",
              "  <thead>\n",
              "    <tr style=\"text-align: right;\">\n",
              "      <th></th>\n",
              "      <th>PassengerId</th>\n",
              "      <th>Pclass</th>\n",
              "      <th>Name</th>\n",
              "      <th>Sex</th>\n",
              "      <th>Age</th>\n",
              "      <th>SibSp</th>\n",
              "      <th>Parch</th>\n",
              "      <th>Ticket</th>\n",
              "      <th>Fare</th>\n",
              "      <th>Cabin</th>\n",
              "      <th>Embarked</th>\n",
              "    </tr>\n",
              "  </thead>\n",
              "  <tbody>\n",
              "    <tr>\n",
              "      <th>0</th>\n",
              "      <td>892</td>\n",
              "      <td>3</td>\n",
              "      <td>Kelly, Mr. James</td>\n",
              "      <td>male</td>\n",
              "      <td>34.5</td>\n",
              "      <td>0</td>\n",
              "      <td>0</td>\n",
              "      <td>330911</td>\n",
              "      <td>7.8292</td>\n",
              "      <td>NaN</td>\n",
              "      <td>Q</td>\n",
              "    </tr>\n",
              "    <tr>\n",
              "      <th>1</th>\n",
              "      <td>893</td>\n",
              "      <td>3</td>\n",
              "      <td>Wilkes, Mrs. James (Ellen Needs)</td>\n",
              "      <td>female</td>\n",
              "      <td>47.0</td>\n",
              "      <td>1</td>\n",
              "      <td>0</td>\n",
              "      <td>363272</td>\n",
              "      <td>7.0000</td>\n",
              "      <td>NaN</td>\n",
              "      <td>S</td>\n",
              "    </tr>\n",
              "    <tr>\n",
              "      <th>2</th>\n",
              "      <td>894</td>\n",
              "      <td>2</td>\n",
              "      <td>Myles, Mr. Thomas Francis</td>\n",
              "      <td>male</td>\n",
              "      <td>62.0</td>\n",
              "      <td>0</td>\n",
              "      <td>0</td>\n",
              "      <td>240276</td>\n",
              "      <td>9.6875</td>\n",
              "      <td>NaN</td>\n",
              "      <td>Q</td>\n",
              "    </tr>\n",
              "    <tr>\n",
              "      <th>3</th>\n",
              "      <td>895</td>\n",
              "      <td>3</td>\n",
              "      <td>Wirz, Mr. Albert</td>\n",
              "      <td>male</td>\n",
              "      <td>27.0</td>\n",
              "      <td>0</td>\n",
              "      <td>0</td>\n",
              "      <td>315154</td>\n",
              "      <td>8.6625</td>\n",
              "      <td>NaN</td>\n",
              "      <td>S</td>\n",
              "    </tr>\n",
              "    <tr>\n",
              "      <th>4</th>\n",
              "      <td>896</td>\n",
              "      <td>3</td>\n",
              "      <td>Hirvonen, Mrs. Alexander (Helga E Lindqvist)</td>\n",
              "      <td>female</td>\n",
              "      <td>22.0</td>\n",
              "      <td>1</td>\n",
              "      <td>1</td>\n",
              "      <td>3101298</td>\n",
              "      <td>12.2875</td>\n",
              "      <td>NaN</td>\n",
              "      <td>S</td>\n",
              "    </tr>\n",
              "  </tbody>\n",
              "</table>\n",
              "</div>"
            ],
            "text/plain": [
              "   PassengerId  Pclass  ... Cabin Embarked\n",
              "0          892       3  ...   NaN        Q\n",
              "1          893       3  ...   NaN        S\n",
              "2          894       2  ...   NaN        Q\n",
              "3          895       3  ...   NaN        S\n",
              "4          896       3  ...   NaN        S\n",
              "\n",
              "[5 rows x 11 columns]"
            ]
          },
          "metadata": {
            "tags": []
          },
          "execution_count": 17
        }
      ]
    },
    {
      "cell_type": "markdown",
      "metadata": {
        "id": "zCOK388OCgGt"
      },
      "source": [
        "<!DOCTYPE html>\r\n",
        "<html>\r\n",
        "<body>\r\n",
        "\r\n",
        "**<h3>Q20: Convert the Fare feature to ordinal values based on the FareBand defined follows:</h3>**\r\n",
        "\r\n",
        "</body>\r\n",
        "</html>"
      ]
    },
    {
      "cell_type": "code",
      "metadata": {
        "colab": {
          "base_uri": "https://localhost:8080/",
          "height": 204
        },
        "id": "hQKKI3lF4X1J",
        "outputId": "f7fda440-1ff9-4d4d-f932-129fca58fba5"
      },
      "source": [
        "#@title Convert Fare feature to ordinal values\r\n",
        "\r\n",
        "train_df['FareBand'] = pd.qcut(train_df['Fare'], 4)\r\n",
        "train_df[['FareBand', 'Survived']].groupby(['FareBand'], as_index=False).mean().sort_values(by='FareBand', ascending=True)\r\n",
        "\r\n",
        "for dataset in combine:\r\n",
        "    dataset.loc[ dataset['Fare'] <= 7.91, 'Fare'] = 0\r\n",
        "    dataset.loc[(dataset['Fare'] > 7.91) & (dataset['Fare'] <= 14.454), 'Fare'] = 1\r\n",
        "    dataset.loc[(dataset['Fare'] > 14.454) & (dataset['Fare'] <= 31.0), 'Fare'] = 2\r\n",
        "    dataset.loc[ dataset['Fare'] > 31.0, 'Fare'] = 3\r\n",
        "\r\n",
        "train_df = train_df.drop(['FareBand'], axis=1)\r\n",
        "combine = [train_df, test_df]\r\n",
        "train_df.head()"
      ],
      "execution_count": 55,
      "outputs": [
        {
          "output_type": "execute_result",
          "data": {
            "text/html": [
              "<div>\n",
              "<style scoped>\n",
              "    .dataframe tbody tr th:only-of-type {\n",
              "        vertical-align: middle;\n",
              "    }\n",
              "\n",
              "    .dataframe tbody tr th {\n",
              "        vertical-align: top;\n",
              "    }\n",
              "\n",
              "    .dataframe thead th {\n",
              "        text-align: right;\n",
              "    }\n",
              "</style>\n",
              "<table border=\"1\" class=\"dataframe\">\n",
              "  <thead>\n",
              "    <tr style=\"text-align: right;\">\n",
              "      <th></th>\n",
              "      <th>PassengerId</th>\n",
              "      <th>Survived</th>\n",
              "      <th>Pclass</th>\n",
              "      <th>Name</th>\n",
              "      <th>Sex</th>\n",
              "      <th>Age</th>\n",
              "      <th>SibSp</th>\n",
              "      <th>Parch</th>\n",
              "      <th>Ticket</th>\n",
              "      <th>Fare</th>\n",
              "      <th>Cabin</th>\n",
              "      <th>Embarked</th>\n",
              "    </tr>\n",
              "  </thead>\n",
              "  <tbody>\n",
              "    <tr>\n",
              "      <th>0</th>\n",
              "      <td>1</td>\n",
              "      <td>0</td>\n",
              "      <td>3</td>\n",
              "      <td>Braund, Mr. Owen Harris</td>\n",
              "      <td>male</td>\n",
              "      <td>22.0</td>\n",
              "      <td>1</td>\n",
              "      <td>0</td>\n",
              "      <td>A/5 21171</td>\n",
              "      <td>0.0</td>\n",
              "      <td>NaN</td>\n",
              "      <td>S</td>\n",
              "    </tr>\n",
              "    <tr>\n",
              "      <th>1</th>\n",
              "      <td>2</td>\n",
              "      <td>1</td>\n",
              "      <td>1</td>\n",
              "      <td>Cumings, Mrs. John Bradley (Florence Briggs Th...</td>\n",
              "      <td>female</td>\n",
              "      <td>38.0</td>\n",
              "      <td>1</td>\n",
              "      <td>0</td>\n",
              "      <td>PC 17599</td>\n",
              "      <td>3.0</td>\n",
              "      <td>C85</td>\n",
              "      <td>C</td>\n",
              "    </tr>\n",
              "    <tr>\n",
              "      <th>2</th>\n",
              "      <td>3</td>\n",
              "      <td>1</td>\n",
              "      <td>3</td>\n",
              "      <td>Heikkinen, Miss. Laina</td>\n",
              "      <td>female</td>\n",
              "      <td>26.0</td>\n",
              "      <td>0</td>\n",
              "      <td>0</td>\n",
              "      <td>STON/O2. 3101282</td>\n",
              "      <td>1.0</td>\n",
              "      <td>NaN</td>\n",
              "      <td>S</td>\n",
              "    </tr>\n",
              "    <tr>\n",
              "      <th>3</th>\n",
              "      <td>4</td>\n",
              "      <td>1</td>\n",
              "      <td>1</td>\n",
              "      <td>Futrelle, Mrs. Jacques Heath (Lily May Peel)</td>\n",
              "      <td>female</td>\n",
              "      <td>35.0</td>\n",
              "      <td>1</td>\n",
              "      <td>0</td>\n",
              "      <td>113803</td>\n",
              "      <td>3.0</td>\n",
              "      <td>C123</td>\n",
              "      <td>S</td>\n",
              "    </tr>\n",
              "    <tr>\n",
              "      <th>4</th>\n",
              "      <td>5</td>\n",
              "      <td>0</td>\n",
              "      <td>3</td>\n",
              "      <td>Allen, Mr. William Henry</td>\n",
              "      <td>male</td>\n",
              "      <td>35.0</td>\n",
              "      <td>0</td>\n",
              "      <td>0</td>\n",
              "      <td>373450</td>\n",
              "      <td>1.0</td>\n",
              "      <td>NaN</td>\n",
              "      <td>S</td>\n",
              "    </tr>\n",
              "  </tbody>\n",
              "</table>\n",
              "</div>"
            ],
            "text/plain": [
              "   PassengerId  Survived  Pclass  ... Fare Cabin  Embarked\n",
              "0            1         0       3  ...  0.0   NaN         S\n",
              "1            2         1       1  ...  3.0   C85         C\n",
              "2            3         1       3  ...  1.0   NaN         S\n",
              "3            4         1       1  ...  3.0  C123         S\n",
              "4            5         0       3  ...  1.0   NaN         S\n",
              "\n",
              "[5 rows x 12 columns]"
            ]
          },
          "metadata": {
            "tags": []
          },
          "execution_count": 55
        }
      ]
    },
    {
      "cell_type": "markdown",
      "metadata": {
        "id": "fzmGzyeFiT-O"
      },
      "source": [
        "<!DOCTYPE html>\r\n",
        "<html>\r\n",
        "<body>\r\n",
        "\r\n",
        "**<h4>Additional Questions:</h4>**\r\n",
        "\r\n",
        "**<h5>1. Approximately how many hours did you spend on this assignment?</h5>**\r\n",
        "> Approximately 35 hours was allocated to this assignment.  This time duration includes the additional time spent reading and studying data processing and Pandas library related to this assigment.\r\n",
        "\r\n",
        "**<h5>2. Which aspects of this assignment did you find most challenging? Were there any significant stumbling blocks?</h5>**\r\n",
        "> The major stumbling blocks in most cases is learning the practical skills of using Pandas, Seaborn, Matplotlib and Sklearn to accomplish data processing tasks.\r\n",
        "\r\n",
        "**<h5>3. Which aspects of this assignment did you like? Is there anything you would have changed?</h3>**\r\n",
        "> There were many positive aspects to the assignment.  Firstly, the Titanic dataset is a well-known and interesting dataset to the data science community.  Secondly, the assignment questions, charts and tables helped organize and guide the data preprocessing tasks.  Thirdly, many instructional articles, tutorials, and blogs that I read and watched used the Titanic dataset, which made them not only informative but relevant and applicable also.\r\n",
        "\r\n",
        "This file can be located at:\r\n",
        "https://github.com/WilliamSawran/ABC/blob/master/hw1_william_sawran.ipynb\r\n",
        "\r\n",
        "</body>\r\n",
        "</html>"
      ]
    }
  ]
}